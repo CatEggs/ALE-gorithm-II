{
 "cells": [
  {
   "cell_type": "code",
   "execution_count": 9,
   "metadata": {},
   "outputs": [],
   "source": [
    "import os\n",
    "import pandas as pd\n",
    "import numpy as np\n",
    "import matplotlib.pyplot as plt\n",
    "import pandas as pd\n",
    "from surprise import Dataset\n",
    "from surprise import Reader\n",
    "from surprise.model_selection import cross_validate\n",
    "from surprise import SVD\n",
    "from surprise.model_selection import train_test_split\n",
    "from surprise import dump\n",
    "import csv\n",
    "from surprise import accuracy\n",
    "from pprint import pprint"
   ]
  },
  {
   "cell_type": "code",
   "execution_count": 10,
   "metadata": {},
   "outputs": [],
   "source": [
    "csv_path = os.path.join(\"../data/csv/reviews_cleaned_reduced_500.csv\")\n",
    "TextFileReader = pd.read_csv(csv_path, chunksize=1000)  # the number of rows per chunk\n",
    "\n",
    "dfList = []\n",
    "for df in TextFileReader:\n",
    "    dfList.append(df)\n",
    "\n",
    "df = pd.concat(dfList,sort=False)\n"
   ]
  },
  {
   "cell_type": "code",
   "execution_count": 11,
   "metadata": {},
   "outputs": [],
   "source": [
    "# load Barrys Beer Ratings\n",
    "csv_path = os.path.join(\"../data/csv/barrys_beers.csv\")\n",
    "barrys_beers_df = pd.read_csv(csv_path)"
   ]
  },
  {
   "cell_type": "code",
   "execution_count": 12,
   "metadata": {},
   "outputs": [],
   "source": [
    "# load beers\n",
    "csv_path = os.path.join(\"../data/csv/beers.csv\")\n",
    "beers_df = pd.read_csv(csv_path)\n",
    "beers_df = beers_df.rename(columns={'id': 'beer_id'})"
   ]
  },
  {
   "cell_type": "code",
   "execution_count": 13,
   "metadata": {},
   "outputs": [],
   "source": [
    "# Add Barrys Beers to the reviews\n",
    "df = pd.concat([df,barrys_beers_df])"
   ]
  },
  {
   "cell_type": "code",
   "execution_count": 14,
   "metadata": {},
   "outputs": [],
   "source": [
    "# Lets combine the dataframe\n",
    "merge_df = pd.merge(df,\n",
    "                 beers_df[['beer_id', 'name', 'style', 'brewery_id']],\n",
    "                 on='beer_id')"
   ]
  },
  {
   "cell_type": "code",
   "execution_count": 15,
   "metadata": {},
   "outputs": [
    {
     "name": "stdout",
     "output_type": "stream",
     "text": [
      "RMSE: 0.3880\n",
      "MAE:  0.2782\n"
     ]
    },
    {
     "data": {
      "text/plain": [
       "0.2782364792182123"
      ]
     },
     "execution_count": 15,
     "metadata": {},
     "output_type": "execute_result"
    }
   ],
   "source": [
    "# sample random trainset and testset method using SVD\n",
    "# test set is made of 25% of the ratings. \n",
    "reader=Reader(rating_scale=(0,5))\n",
    "data = Dataset.load_from_df(merge_df[['username', 'beer_id', 'score']], reader)\n",
    "\n",
    "trainset, testset = train_test_split(data, test_size=.25)\n",
    "\n",
    "# We'll use the famous SVD algorithm.\n",
    "algo = SVD()\n",
    "\n",
    "# Train the algorithm on the trainset, and predict ratings for the testset\n",
    "algo.fit(trainset)\n",
    "predictions = algo.test(testset)\n",
    "\n",
    "# Train the algorithm on the trainset, and predict ratings for the testset\n",
    "algo.fit(trainset)\n",
    "predictions = algo.test(testset)\n",
    "accuracy.rmse(predictions)\n",
    "accuracy.mae(predictions)"
   ]
  },
  {
   "cell_type": "code",
   "execution_count": 16,
   "metadata": {},
   "outputs": [],
   "source": [
    "# Lets serialize and save this prediction algorithm\n",
    "# Dump algorithm and reload it\n",
    "dumpfile = os.path.join('../data/dump/dump_svd_barryspicksdump_file')\n",
    "dump.dump(dumpfile, predictions, algo)"
   ]
  },
  {
   "cell_type": "code",
   "execution_count": null,
   "metadata": {},
   "outputs": [],
   "source": []
  }
 ],
 "metadata": {
  "kernelspec": {
   "display_name": "alegorithm",
   "language": "python",
   "name": "alegorithm"
  },
  "language_info": {
   "codemirror_mode": {
    "name": "ipython",
    "version": 3
   },
   "file_extension": ".py",
   "mimetype": "text/x-python",
   "name": "python",
   "nbconvert_exporter": "python",
   "pygments_lexer": "ipython3",
   "version": "3.8.0"
  }
 },
 "nbformat": 4,
 "nbformat_minor": 2
}
