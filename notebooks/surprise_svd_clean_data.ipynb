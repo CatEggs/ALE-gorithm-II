{
 "cells": [
  {
   "cell_type": "code",
   "execution_count": 1,
   "metadata": {},
   "outputs": [],
   "source": [
    "import os\n",
    "import pandas as pd\n",
    "import numpy as np\n",
    "import matplotlib.pyplot as plt\n",
    "import pandas as pd\n",
    "from surprise import Dataset\n",
    "from surprise import Reader\n",
    "from surprise.model_selection import cross_validate\n",
    "from surprise import SVD\n",
    "from surprise import KNNBasic\n",
    "from surprise.model_selection import train_test_split\n",
    "from surprise import dump\n",
    "from surprise.model_selection import GridSearchCV\n",
    "import csv\n",
    "from surprise.model_selection import GridSearchCV\n",
    "from surprise import accuracy"
   ]
  },
  {
   "cell_type": "code",
   "execution_count": 2,
   "metadata": {},
   "outputs": [],
   "source": [
    "csv_path = os.path.join(\"../data/csv/clean_reviews_reduced.csv\")\n",
    "TextFileReader = pd.read_csv(csv_path, chunksize=1000)  # the number of rows per chunk\n",
    "\n",
    "dfList = []\n",
    "for df in TextFileReader:\n",
    "    dfList.append(df)\n",
    "\n",
    "df = pd.concat(dfList,sort=False)\n",
    "\n",
    "# df = pd.DataFrame()\n",
    "# for chunk in pd.read_csv(csv_path, header=None, chunksize=1000):\n",
    "#     df = pd.concat([df, chunk], ignore_index=True)\n"
   ]
  },
  {
   "cell_type": "code",
   "execution_count": 3,
   "metadata": {},
   "outputs": [
    {
     "data": {
      "text/html": [
       "<div>\n",
       "<style scoped>\n",
       "    .dataframe tbody tr th:only-of-type {\n",
       "        vertical-align: middle;\n",
       "    }\n",
       "\n",
       "    .dataframe tbody tr th {\n",
       "        vertical-align: top;\n",
       "    }\n",
       "\n",
       "    .dataframe thead th {\n",
       "        text-align: right;\n",
       "    }\n",
       "</style>\n",
       "<table border=\"1\" class=\"dataframe\">\n",
       "  <thead>\n",
       "    <tr style=\"text-align: right;\">\n",
       "      <th></th>\n",
       "      <th>beer_id</th>\n",
       "      <th>username</th>\n",
       "      <th>score</th>\n",
       "    </tr>\n",
       "  </thead>\n",
       "  <tbody>\n",
       "    <tr>\n",
       "      <th>0</th>\n",
       "      <td>78143</td>\n",
       "      <td>dtx00</td>\n",
       "      <td>4.50</td>\n",
       "    </tr>\n",
       "    <tr>\n",
       "      <th>1</th>\n",
       "      <td>49537</td>\n",
       "      <td>bauermj</td>\n",
       "      <td>4.00</td>\n",
       "    </tr>\n",
       "    <tr>\n",
       "      <th>2</th>\n",
       "      <td>206689</td>\n",
       "      <td>SenorHops</td>\n",
       "      <td>4.35</td>\n",
       "    </tr>\n",
       "    <tr>\n",
       "      <th>3</th>\n",
       "      <td>8322</td>\n",
       "      <td>bigeyedfish89</td>\n",
       "      <td>4.04</td>\n",
       "    </tr>\n",
       "    <tr>\n",
       "      <th>4</th>\n",
       "      <td>2093</td>\n",
       "      <td>PhxHorn</td>\n",
       "      <td>3.65</td>\n",
       "    </tr>\n",
       "  </tbody>\n",
       "</table>\n",
       "</div>"
      ],
      "text/plain": [
       "   beer_id       username  score\n",
       "0    78143          dtx00   4.50\n",
       "1    49537        bauermj   4.00\n",
       "2   206689      SenorHops   4.35\n",
       "3     8322  bigeyedfish89   4.04\n",
       "4     2093        PhxHorn   3.65"
      ]
     },
     "execution_count": 3,
     "metadata": {},
     "output_type": "execute_result"
    }
   ],
   "source": [
    "df.head()"
   ]
  },
  {
   "cell_type": "code",
   "execution_count": 5,
   "metadata": {},
   "outputs": [],
   "source": [
    "# A reader is needed but only the rating_scale param is requiered.\n",
    "reader=Reader(rating_scale=(0,5))\n",
    "# The columns must correspond to user id, item id and ratings (in that order). Names are irrelevent\n",
    "data = Dataset.load_from_df(df[['username', 'beer_id', 'score']], reader)"
   ]
  },
  {
   "cell_type": "code",
   "execution_count": 8,
   "metadata": {},
   "outputs": [
    {
     "name": "stdout",
     "output_type": "stream",
     "text": [
      "RMSE: 0.3971\n",
      "MAE:  0.2837\n"
     ]
    },
    {
     "data": {
      "text/plain": [
       "0.28367762725555123"
      ]
     },
     "execution_count": 8,
     "metadata": {},
     "output_type": "execute_result"
    }
   ],
   "source": [
    "# sample random trainset and testset method\n",
    "# test set is made of 25% of the ratings.\n",
    "trainset, testset = train_test_split(data, test_size=.25)\n",
    "\n",
    "# We'll use the famous SVD algorithm.\n",
    "algo = SVD()\n",
    "\n",
    "# Train the algorithm on the trainset, and predict ratings for the testset\n",
    "algo.fit(trainset)\n",
    "predictions = algo.test(testset)\n",
    "\n",
    "# Then compute RMSE and MAE\n",
    "accuracy.rmse(predictions)\n",
    "accuracy.mae(predictions)"
   ]
  },
  {
   "cell_type": "code",
   "execution_count": 9,
   "metadata": {},
   "outputs": [
    {
     "name": "stdout",
     "output_type": "stream",
     "text": [
      "0.4174768748806427\n",
      "{'n_epochs': 10, 'lr_all': 0.005, 'reg_all': 0.4}\n"
     ]
    }
   ],
   "source": [
    "# Lets try to tune the SVD algorithm parameters using GridsearchCV!\n",
    "# we will use 3 fold cross validation method to save some time\n",
    "param_grid = {'n_epochs': [5, 10], 'lr_all': [0.002, 0.005],\n",
    "              'reg_all': [0.4, 0.6]}\n",
    "gs = GridSearchCV(SVD, param_grid, measures=['rmse', 'mae'], cv=3)\n",
    "\n",
    "gs.fit(data)\n",
    "\n",
    "# best RMSE score\n",
    "print(gs.best_score['rmse'])\n",
    "\n",
    "# combination of parameters that gave the best RMSE score\n",
    "print(gs.best_params['rmse'])\n"
   ]
  },
  {
   "cell_type": "markdown",
   "metadata": {},
   "source": [
    "### Lets try KNN"
   ]
  },
  {
   "cell_type": "code",
   "execution_count": 8,
   "metadata": {},
   "outputs": [
    {
     "data": {
      "text/plain": [
       "array([[<matplotlib.axes._subplots.AxesSubplot object at 0x1701A028>,\n",
       "        <matplotlib.axes._subplots.AxesSubplot object at 0x16EB9EC8>]],\n",
       "      dtype=object)"
      ]
     },
     "execution_count": 8,
     "metadata": {},
     "output_type": "execute_result"
    },
    {
     "data": {
      "image/png": "[encoded data removed]",
      "text/plain": [
       "<Figure size 432x288 with 2 Axes>"
      ]
     },
     "metadata": {
      "needs_background": "light"
     },
     "output_type": "display_data"
    }
   ],
   "source": [
    "df2 = df.sample(n=1000000)\n",
    "df2 = df2.groupby('beer_id').filter(lambda x: len(x) > 100)\n",
    "df2.hist()"
   ]
  },
  {
   "cell_type": "code",
   "execution_count": 9,
   "metadata": {},
   "outputs": [
    {
     "data": {
      "text/plain": [
       "11757     2362\n",
       "2093      2156\n",
       "1093      2048\n",
       "29619     1989\n",
       "19960     1942\n",
       "          ... \n",
       "269906     101\n",
       "726        101\n",
       "252234     101\n",
       "86298      101\n",
       "93125      101\n",
       "Name: beer_id, Length: 2875, dtype: int64"
      ]
     },
     "execution_count": 9,
     "metadata": {},
     "output_type": "execute_result"
    }
   ],
   "source": [
    "df2['beer_id'].value_counts()"
   ]
  },
  {
   "cell_type": "code",
   "execution_count": 10,
   "metadata": {},
   "outputs": [
    {
     "name": "stdout",
     "output_type": "stream",
     "text": [
      "<class 'pandas.core.frame.DataFrame'>\n",
      "Int64Index: 814647 entries, 1686153 to 535178\n",
      "Data columns (total 3 columns):\n",
      " #   Column    Non-Null Count   Dtype  \n",
      "---  ------    --------------   -----  \n",
      " 0   beer_id   814647 non-null  int64  \n",
      " 1   username  814647 non-null  object \n",
      " 2   score     814647 non-null  float64\n",
      "dtypes: float64(1), int64(1), object(1)\n",
      "memory usage: 21.8+ MB\n"
     ]
    }
   ],
   "source": [
    "df2.info()"
   ]
  },
  {
   "cell_type": "code",
   "execution_count": 11,
   "metadata": {},
   "outputs": [
    {
     "name": "stdout",
     "output_type": "stream",
     "text": [
      "Computing the pearson similarity matrix...\n",
      "Done computing similarity matrix.\n",
      "Computing the pearson similarity matrix...\n",
      "Done computing similarity matrix.\n",
      "RMSE: 0.5578\n"
     ]
    },
    {
     "data": {
      "text/plain": [
       "0.5578368672130221"
      ]
     },
     "execution_count": 11,
     "metadata": {},
     "output_type": "execute_result"
    }
   ],
   "source": [
    "# sample random trainset and testset method\n",
    "# test set is made of 25% of the ratings. we are looking at similarities between items (user_based=false)\n",
    "reader=Reader(rating_scale=(0,5))\n",
    "data = Dataset.load_from_df(df2[['username', 'beer_id', 'score']], reader)\n",
    "\n",
    "trainset, testset = train_test_split(data, test_size=.25)\n",
    "\n",
    "sim_options = {'name': 'pearson',\n",
    "               'user_based': False\n",
    "               }\n",
    "\n",
    "# We'll use KNN.\n",
    "algo = KNNBasic(sim_options=sim_options)\n",
    "\n",
    "# Train the algorithm on the trainset, and predict ratings for the testset\n",
    "algo.fit(trainset)\n",
    "predictions = algo.fit(trainset).test(testset)\n",
    "\n",
    "# Then compute RMSE\n",
    "accuracy.rmse(predictions)"
   ]
  },
  {
   "cell_type": "code",
   "execution_count": 14,
   "metadata": {},
   "outputs": [
    {
     "name": "stdout",
     "output_type": "stream",
     "text": [
      "The 10 nearest neighbors of 79835 are:\n",
      "104918\n",
      "256144\n",
      "79373\n",
      "77648\n",
      "1822\n",
      "42296\n",
      "74634\n",
      "26290\n",
      "38515\n",
      "197183\n"
     ]
    }
   ],
   "source": [
    "beer_raw_id = 79835 #Elder Betty a Fruit and Field Beer\n",
    "beer_inner_id = algo.trainset.to_inner_iid(beer_raw_id)\n",
    "beer_neighbors = algo.get_neighbors(beer_inner_id, k=10)\n",
    "beer_neighbors = (algo.trainset.to_raw_iid(inner_id)\n",
    "                  for inner_id in beer_neighbors)\n",
    "print('The 10 nearest neighbors of 79835 are:')\n",
    "for beer in beer_neighbors:\n",
    "    print(beer)"
   ]
  },
  {
   "cell_type": "code",
   "execution_count": 17,
   "metadata": {},
   "outputs": [],
   "source": []
  },
  {
   "cell_type": "code",
   "execution_count": 15,
   "metadata": {},
   "outputs": [
    {
     "name": "stdout",
     "output_type": "stream",
     "text": [
      "The 10 nearest neighbors of 79835 are:\n",
      "48050\n",
      "9590\n",
      "41091\n",
      "142974\n",
      "1608\n",
      "269906\n",
      "20714\n",
      "73943\n",
      "57319\n",
      "221622\n"
     ]
    }
   ],
   "source": [
    "beer_raw_id = 11757 #Breakfast Stout\n",
    "beer_inner_id = algo.trainset.to_inner_iid(beer_raw_id)\n",
    "beer_neighbors = algo.get_neighbors(beer_inner_id, k=10)\n",
    "beer_neighbors = (algo.trainset.to_raw_iid(inner_id)\n",
    "                  for inner_id in beer_neighbors)\n",
    "print('The 10 nearest neighbors of 79835 are:')\n",
    "for beer in beer_neighbors:\n",
    "    print(beer)"
   ]
  },
  {
   "cell_type": "code",
   "execution_count": null,
   "metadata": {},
   "outputs": [],
   "source": []
  },
  {
   "cell_type": "code",
   "execution_count": 16,
   "metadata": {},
   "outputs": [
    {
     "name": "stdout",
     "output_type": "stream",
     "text": [
      "The 10 nearest neighbors of 79835 are:\n",
      "61554\n",
      "57088\n",
      "70102\n",
      "63511\n",
      "302060\n",
      "46467\n",
      "81543\n",
      "741\n",
      "3245\n",
      "1520\n"
     ]
    }
   ],
   "source": [
    "beer_raw_id = 2093 #90 Minute IPA\n",
    "beer_inner_id = algo.trainset.to_inner_iid(beer_raw_id)\n",
    "beer_neighbors = algo.get_neighbors(beer_inner_id, k=10)\n",
    "beer_neighbors = (algo.trainset.to_raw_iid(inner_id)\n",
    "                  for inner_id in beer_neighbors)\n",
    "print('The 10 nearest neighbors of 79835 are:')\n",
    "for beer in beer_neighbors:\n",
    "    print(beer)"
   ]
  },
  {
   "cell_type": "code",
   "execution_count": null,
   "metadata": {},
   "outputs": [],
   "source": [
    "pred"
   ]
  },
  {
   "cell_type": "code",
   "execution_count": null,
   "metadata": {},
   "outputs": [],
   "source": []
  },
  {
   "cell_type": "code",
   "execution_count": null,
   "metadata": {},
   "outputs": [],
   "source": []
  }
 ],
 "metadata": {
  "kernelspec": {
   "display_name": "alegorithm",
   "language": "python",
   "name": "alegorithm"
  },
  "language_info": {
   "codemirror_mode": {
    "name": "ipython",
    "version": 3
   },
   "file_extension": ".py",
   "mimetype": "text/x-python",
   "name": "python",
   "nbconvert_exporter": "python",
   "pygments_lexer": "ipython3",
   "version": "3.8.0"
  }
 },
 "nbformat": 4,
 "nbformat_minor": 2
}
