{
 "cells": [
  {
   "cell_type": "code",
   "execution_count": 1,
   "metadata": {},
   "outputs": [],
   "source": [
    "import os\n",
    "import pandas as pd\n",
    "import numpy as np\n",
    "import matplotlib.pyplot as plt\n",
    "import pandas as pd\n",
    "from surprise import Dataset\n",
    "from surprise import Reader\n",
    "from surprise.model_selection import cross_validate\n",
    "from surprise import KNNBasic\n",
    "from surprise.model_selection import train_test_split\n",
    "from surprise import dump\n",
    "import csv\n",
    "from surprise import accuracy"
   ]
  },
  {
   "cell_type": "code",
   "execution_count": 7,
   "metadata": {},
   "outputs": [],
   "source": [
    "# Path to dump file and name\n",
    "file_name_algo = os.path.join('../data/dump/algo_knn_500dump_file')\n",
    "file_name_pred = os.path.join('../data/dump/pred_knn_500dump_file')"
   ]
  },
  {
   "cell_type": "code",
   "execution_count": 8,
   "metadata": {},
   "outputs": [],
   "source": [
    "# Lets test our dump files\n",
    "loaded_algo = dump.load(file_name_algo)\n",
    "loaded_pred = dump.load(file_name_pred)"
   ]
  },
  {
   "cell_type": "code",
   "execution_count": 10,
   "metadata": {},
   "outputs": [
    {
     "data": {
      "text/html": [
       "<div>\n",
       "<style scoped>\n",
       "    .dataframe tbody tr th:only-of-type {\n",
       "        vertical-align: middle;\n",
       "    }\n",
       "\n",
       "    .dataframe tbody tr th {\n",
       "        vertical-align: top;\n",
       "    }\n",
       "\n",
       "    .dataframe thead th {\n",
       "        text-align: right;\n",
       "    }\n",
       "</style>\n",
       "<table border=\"1\" class=\"dataframe\">\n",
       "  <thead>\n",
       "    <tr style=\"text-align: right;\">\n",
       "      <th></th>\n",
       "      <th>uid</th>\n",
       "      <th>iid</th>\n",
       "      <th>rui</th>\n",
       "      <th>est</th>\n",
       "      <th>details</th>\n",
       "      <th>Iu</th>\n",
       "      <th>Ui</th>\n",
       "      <th>err</th>\n",
       "    </tr>\n",
       "  </thead>\n",
       "  <tbody>\n",
       "    <tr>\n",
       "      <th>0</th>\n",
       "      <td>AlpacaAlpaca</td>\n",
       "      <td>694</td>\n",
       "      <td>4.50</td>\n",
       "      <td>4.098234</td>\n",
       "      <td>{'actual_k': 40, 'was_impossible': False}</td>\n",
       "      <td>202</td>\n",
       "      <td>824</td>\n",
       "      <td>0.401766</td>\n",
       "    </tr>\n",
       "    <tr>\n",
       "      <th>1</th>\n",
       "      <td>Cavanaghty</td>\n",
       "      <td>15758</td>\n",
       "      <td>4.75</td>\n",
       "      <td>3.688663</td>\n",
       "      <td>{'actual_k': 40, 'was_impossible': False}</td>\n",
       "      <td>75</td>\n",
       "      <td>1046</td>\n",
       "      <td>1.061337</td>\n",
       "    </tr>\n",
       "    <tr>\n",
       "      <th>2</th>\n",
       "      <td>CADMixes</td>\n",
       "      <td>64228</td>\n",
       "      <td>4.75</td>\n",
       "      <td>4.178350</td>\n",
       "      <td>{'actual_k': 40, 'was_impossible': False}</td>\n",
       "      <td>49</td>\n",
       "      <td>2271</td>\n",
       "      <td>0.571650</td>\n",
       "    </tr>\n",
       "    <tr>\n",
       "      <th>3</th>\n",
       "      <td>Arenbeer</td>\n",
       "      <td>46849</td>\n",
       "      <td>4.80</td>\n",
       "      <td>4.403771</td>\n",
       "      <td>{'actual_k': 40, 'was_impossible': False}</td>\n",
       "      <td>65</td>\n",
       "      <td>1313</td>\n",
       "      <td>0.396230</td>\n",
       "    </tr>\n",
       "    <tr>\n",
       "      <th>4</th>\n",
       "      <td>Eddie_Kobane</td>\n",
       "      <td>90090</td>\n",
       "      <td>3.21</td>\n",
       "      <td>3.605951</td>\n",
       "      <td>{'actual_k': 14, 'was_impossible': False}</td>\n",
       "      <td>18</td>\n",
       "      <td>369</td>\n",
       "      <td>0.395951</td>\n",
       "    </tr>\n",
       "  </tbody>\n",
       "</table>\n",
       "</div>"
      ],
      "text/plain": [
       "            uid    iid   rui       est  \\\n",
       "0  AlpacaAlpaca    694  4.50  4.098234   \n",
       "1    Cavanaghty  15758  4.75  3.688663   \n",
       "2      CADMixes  64228  4.75  4.178350   \n",
       "3      Arenbeer  46849  4.80  4.403771   \n",
       "4  Eddie_Kobane  90090  3.21  3.605951   \n",
       "\n",
       "                                     details   Iu    Ui       err  \n",
       "0  {'actual_k': 40, 'was_impossible': False}  202   824  0.401766  \n",
       "1  {'actual_k': 40, 'was_impossible': False}   75  1046  1.061337  \n",
       "2  {'actual_k': 40, 'was_impossible': False}   49  2271  0.571650  \n",
       "3  {'actual_k': 40, 'was_impossible': False}   65  1313  0.396230  \n",
       "4  {'actual_k': 14, 'was_impossible': False}   18   369  0.395951  "
      ]
     },
     "execution_count": 10,
     "metadata": {},
     "output_type": "execute_result"
    }
   ],
   "source": [
    "# Lets load our predict_df\n",
    "csv_path =(\"../data/csv/df_predict_500.csv\")\n",
    "predict_df = pd.read_csv(csv_path)\n",
    "predict_df.head()"
   ]
  },
  {
   "cell_type": "code",
   "execution_count": null,
   "metadata": {},
   "outputs": [],
   "source": []
  },
  {
   "cell_type": "code",
   "execution_count": null,
   "metadata": {},
   "outputs": [],
   "source": [
    "# Lets get the nearest neighbors\n",
    "def get_beer_recc_df (beer_raw_id):\n",
    "    beer_inner_id = predict_df.loc[predict_df.beer_id==beer_raw_id,'name'].values[0]\n",
    "    beer_neighbors = algo.get_neighbors(beer_inner_id, k=10)\n",
    "    beer_neighbors = (algo.trainset.to_raw_iid(inner_id)\n",
    "                      for inner_id in beer_neighbors)\n",
    "    beers_id_recc = []\n",
    "    beer_name_recc =[]\n",
    "    beer_style_recc = []\n",
    "    beer_score_mean = []\n",
    "    for beer in beer_neighbors:\n",
    "        beers_id_recc.append(beer)\n",
    "        beer_name_recc.append(get_beer_name(beer))\n",
    "        beer_style_recc.append(get_beer_style(beer))\n",
    "        beer_score_mean.append(get_beer_score_mean(beer))\n",
    "    beer_reccomendations_df = pd.DataFrame(list(zip(beers_id_recc,beer_name_recc,beer_style_recc,beer_score_mean)),\n",
    "                                       columns=['beer_id', 'name', 'style', 'score_mean'])\n",
    "    return beer_reccomendations_df"
   ]
  }
 ],
 "metadata": {
  "kernelspec": {
   "display_name": "alegorithm",
   "language": "python",
   "name": "alegorithm"
  },
  "language_info": {
   "codemirror_mode": {
    "name": "ipython",
    "version": 3
   },
   "file_extension": ".py",
   "mimetype": "text/x-python",
   "name": "python",
   "nbconvert_exporter": "python",
   "pygments_lexer": "ipython3",
   "version": "3.8.0"
  }
 },
 "nbformat": 4,
 "nbformat_minor": 2
}
