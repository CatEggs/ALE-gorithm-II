{
 "cells": [
  {
   "cell_type": "code",
   "execution_count": 1,
   "metadata": {},
   "outputs": [],
   "source": [
    "import csv\n",
    "from sklearn.neighbors import KNeighborsClassifier\n",
    "from sklearn.preprocessing import normalize\n",
    "from sklearn.tree import DecisionTreeClassifier\n",
    "from sklearn.preprocessing import normalize,minmax_scale\n",
    "import pandas as pd\n",
    "import numpy as np\n"
   ]
  },
  {
   "cell_type": "code",
   "execution_count": 2,
   "metadata": {},
   "outputs": [],
   "source": [
    "pd.options.mode.chained_assignment = None  # default='warn'\n",
    "INPATH=\"../data/csv/beer_reviews.csv\"\n",
    "header=['brewery_id', 'brewery_name', 'review_time', 'review_overall', 'review_aroma', 'review_appearance', 'review_profilename', 'beer_style', 'review_palate', 'review_taste', 'beer_name', 'beer_abv', 'beer_beerid']\n",
    "X_cols=['beer_style','review_palate','review_taste','beer_abv','review_aroma']\n",
    "y_col=['beer_beerid']\n",
    "unique_styles=[]\n",
    "def MapBeerNames(n):\n",
    "    global unique_styles\n",
    "    if n not in unique_styles:\n",
    "        unique_styles.append(n)\n",
    "    return unique_styles.index(n)\n",
    "def BuildDataCSV():\n",
    "    with open(INPATH, \"r\", encoding=\"utf8\", errors=\"ignore\") as f:\n",
    "        d=pd.read_csv(f,header=0,names=header,dtype={f:np.float32 for f in X_cols[1:]},converters={'beer_style':MapBeerNames},\n",
    "                   na_values=['\"\"',\"''\",\" \"],keep_default_na=True,na_filter=True,skip_blank_lines=True).fillna(value=0.0,axis='columns',inplace=False)\n",
    "    return d"
   ]
  },
  {
   "cell_type": "code",
   "execution_count": 3,
   "metadata": {},
   "outputs": [],
   "source": [
    "data=BuildDataCSV()\n",
    "X=data[[f for f in X_cols]]\n",
    "y=data[[y_col[0]]]\n",
    "for f in X.keys():\n",
    "    X[f]=minmax_scale(X['beer_style'], feature_range=(0, 10), copy=True)\n",
    "unique_ids_count=len(set(y['beer_beerid']))\n",
    "for f in y.keys():\n",
    "    y[f]=minmax_scale(y['beer_beerid'], feature_range=(0,unique_ids_count), copy=True) ## there are 66055 unique beer id's"
   ]
  },
  {
   "cell_type": "code",
   "execution_count": 4,
   "metadata": {},
   "outputs": [],
   "source": [
    "with open(\"../data/csv/beer_reviews.csv\",\"r\",encoding=\"utf8\",errors=\"ignore\") as f:\n",
    "    r=csv.reader(f)\n",
    "    csv_data=[row for row in r if len(row) > 1]\n",
    "header=csv_data.pop(0)\n",
    "#header=['brewery_id', 'brewery_name', 'review_time', 'review_overall', 'review_aroma', 'review_appearance', 'review_profilename', 'beer_style', 'review_palate', 'review_taste', 'beer_name', 'beer_abv', 'beer_beerid']\n",
    "features=['beer_style','review_palate','review_taste']\n",
    "indexes=[header.index(f) for f in features]\n",
    "X=[[row[7],row[8],row[9]] for row in csv_data if len(row)>1]\n",
    "#X[:5]= [['Hefeweizen', '1.5', '1.5'], ['English Strong Ale', '3', '3'], ['Foreign / Export Stout', '3', '3'], ['German Pilsener', '2.5', '3'], ['American Double / Imperial IPA', '4', '4.5']]\n",
    "\n"
   ]
  },
  {
   "cell_type": "code",
   "execution_count": 5,
   "metadata": {},
   "outputs": [],
   "source": [
    "#map beer styles into numeric values\n",
    "unique_styles=list(set([row[0] for row in X]))\n",
    "numeric_mapping={style:unique_styles.index(style) for style in unique_styles}\n",
    "#numberic_mapping={'Dubbel': 0, 'English India Pale Ale (IPA)': 1, 'Eisbock': 2, 'Wheatwine': 3, 'Witbier': 4, 'Belgian Pale Ale': 5, 'American Malt Liquor': 6, 'American Pale Lager': 7, 'Smoked Beer': 8, 'English Stout': 9, 'American Strong Ale': 10, 'American Double / Imperial IPA': 11, 'English Bitter': 12, 'California Common / Steam Beer': 13, 'Baltic Porter': 14, 'American Amber / Red Lager': 15, 'Low Alcohol Beer': 16, 'English Pale Mild Ale': 17, 'Irish Dry Stout': 18, 'Belgian Dark Ale': 19, 'Rauchbier': 20, 'Keller Bier / Zwickel Bier': 21, 'Cream Ale': 22, 'Lambic - Fruit': 23, 'Euro Strong Lager': 24, 'Braggot': 25, 'Sahti': 26, 'Scottish Ale': 27, 'Kristalweizen': 28, 'English Pale Ale': 29, 'American Brown Ale': 30, 'Pumpkin Ale': 31, 'Herbed / Spiced Beer': 32, 'Scottish Gruit / Ancient Herbed Ale': 33, 'Light Lager': 34, 'Belgian Strong Dark Ale': 35, 'Euro Pale Lager': 36, 'Dunkelweizen': 37, 'American Pale Wheat Ale': 38, 'Russian Imperial Stout': 39, 'English Dark Mild Ale': 40, 'Scotch Ale / Wee Heavy': 41, 'Fruit / Vegetable Beer': 42, 'American Black Ale': 43, 'Flanders Red Ale': 44, 'Milk / Sweet Stout': 45, 'Märzen / Oktoberfest': 46, 'American Adjunct Lager': 47, 'Belgian Strong Pale Ale': 48, 'Kölsch': 49, 'German Pilsener': 50, 'American Amber / Red Ale': 51, 'Belgian IPA': 52, 'American Barleywine': 53, 'Vienna Lager': 54, 'Black & Tan': 55, 'Berliner Weissbier': 56, 'American IPA': 57, 'Bière de Garde': 58, 'American Pale Ale (APA)': 59, 'Hefeweizen': 60, 'Altbier': 61, 'Roggenbier': 62, 'Foreign / Export Stout': 63, 'Japanese Rice Lager': 64, 'Euro Dark Lager': 65, 'Schwarzbier': 66, 'Bock': 67, 'Irish Red Ale': 68, 'Faro': 69, 'American Blonde Ale': 70, 'Czech Pilsener': 71, 'American Dark Wheat Ale': 72, 'Happoshu': 73, 'American Double / Imperial Stout': 74, 'Chile Beer': 75, 'Saison / Farmhouse Ale': 76, 'American Stout': 77, 'American Double / Imperial Pilsner': 78, 'Extra Special / Strong Bitter (ESB)': 79, 'Maibock / Helles Bock': 80, 'Munich Helles Lager': 81, 'Gose': 82, 'Old Ale': 83, 'Tripel': 84, 'Winter Warmer': 85, 'Bière de Champagne / Bière Brut': 86, 'Gueuze': 87, 'Munich Dunkel Lager': 88, 'Rye Beer': 89, 'English Porter': 90, 'Oatmeal Stout': 91, 'American Porter': 92, 'Kvass': 93, 'Lambic - Unblended': 94, 'Weizenbock': 95, 'English Strong Ale': 96, 'Doppelbock': 97, 'Dortmunder / Export Lager': 98, 'Quadrupel (Quad)': 99, 'American Wild Ale': 100, 'Flanders Oud Bruin': 101, 'English Brown Ale': 102, 'English Barleywine': 103}\n",
    "\n"
   ]
  },
  {
   "cell_type": "code",
   "execution_count": 6,
   "metadata": {},
   "outputs": [],
   "source": [
    "#remap X style feature to be numeric\n",
    "X=[[numeric_mapping.get(row[0]),float(row[1]),float(row[2])] for row in X if numeric_mapping.get(row[0]) is not None ]\n",
    "#X[:5]=[[60, '1.5', '1.5'], [96, '3', '3'], [63, '3', '3'], [50, '2.5', '3'], [11, '4', '4.5']]\n",
    "X=normalize(X, norm='l2', axis=1, copy=True, return_norm=False)  #normalize data to make it more suitable as vector descriptors\n",
    "y=[float(row[0]) for row in csv_data]\n",
    "#y[:5]=[['10325', '10325', '10325', '10325', '1075']\n",
    "#X[0] is the feature set associated with y[0]\n",
    "\n"
   ]
  },
  {
   "cell_type": "code",
   "execution_count": 7,
   "metadata": {},
   "outputs": [
    {
     "data": {
      "text/plain": [
       "KNeighborsClassifier(algorithm='auto', leaf_size=30, metric='minkowski',\n",
       "                     metric_params=None, n_jobs=None, n_neighbors=7, p=2,\n",
       "                     weights='uniform')"
      ]
     },
     "execution_count": 7,
     "metadata": {},
     "output_type": "execute_result"
    }
   ],
   "source": [
    "neigh = KNeighborsClassifier(n_neighbors=7)\n",
    "neigh.fit(X, y)\n",
    "\n"
   ]
  },
  {
   "cell_type": "code",
   "execution_count": 8,
   "metadata": {},
   "outputs": [
    {
     "data": {
      "text/plain": [
       "DecisionTreeClassifier(ccp_alpha=0.0, class_weight=None, criterion='gini',\n",
       "                       max_depth=None, max_features=None, max_leaf_nodes=None,\n",
       "                       min_impurity_decrease=0.0, min_impurity_split=None,\n",
       "                       min_samples_leaf=1, min_samples_split=2,\n",
       "                       min_weight_fraction_leaf=0.0, presort='deprecated',\n",
       "                       random_state=None, splitter='best')"
      ]
     },
     "execution_count": 8,
     "metadata": {},
     "output_type": "execute_result"
    }
   ],
   "source": [
    "neigh=DecisionTreeClassifier()\n",
    "neigh.fit(X,y)\n",
    "\n"
   ]
  },
  {
   "cell_type": "code",
   "execution_count": 9,
   "metadata": {},
   "outputs": [],
   "source": [
    "#normalize(X, norm='l2', axis=1, copy=True, return_norm=False)\n",
    "\n",
    "#User selects beer 'Sausa Weizen' from menu\n",
    "#this is the first entry in the csv file, by the way\n",
    "#so now we map it to its features\n",
    "\n",
    "palate_index=header.index('review_palate')\n",
    "taste_index=header.index('review_taste')\n",
    "style_index=header.index('beer_style')\n",
    "beer_id_index=header.index('beer_beerid')\n",
    "\n"
   ]
  },
  {
   "cell_type": "code",
   "execution_count": 10,
   "metadata": {},
   "outputs": [],
   "source": [
    "beer_name='Sausa Weizen'\n",
    "\n"
   ]
  },
  {
   "cell_type": "code",
   "execution_count": 11,
   "metadata": {},
   "outputs": [],
   "source": [
    "beer_row=csv_data[0]#search for the beer name and its associated row\n",
    "\n"
   ]
  },
  {
   "cell_type": "code",
   "execution_count": 12,
   "metadata": {},
   "outputs": [],
   "source": [
    "#get features of input, features=['beer_style','review_palate','review_taste']\n",
    "style=numeric_mapping[beer_row[style_index]]  #get the numberic mapping of the style 'hefeweizen'\n",
    "palate=float(beer_row[palate_index])\n",
    "taste=float(beer_row[taste_index])\n",
    "\n",
    "X_predict = [style,palate,taste]\n",
    "\n",
    "pred=[X_predict]\n",
    "prediction=int(neigh.predict(pred)[0])   #prediction = id695\n",
    "\n"
   ]
  },
  {
   "cell_type": "code",
   "execution_count": 13,
   "metadata": {},
   "outputs": [
    {
     "ename": "TypeError",
     "evalue": "'y_features' is an invalid keyword argument for print()",
     "output_type": "error",
     "traceback": [
      "\u001b[0;31m---------------------------------------------------------------------------\u001b[0m",
      "\u001b[0;31mTypeError\u001b[0m                                 Traceback (most recent call last)",
      "\u001b[0;32m<ipython-input-13-ecf829bfdaa0>\u001b[0m in \u001b[0;36m<module>\u001b[0;34m\u001b[0m\n\u001b[1;32m     16\u001b[0m \u001b[0mX3\u001b[0m\u001b[0;34m/=\u001b[0m\u001b[0mfound\u001b[0m\u001b[0;34m\u001b[0m\u001b[0;34m\u001b[0m\u001b[0m\n\u001b[1;32m     17\u001b[0m \u001b[0;34m\u001b[0m\u001b[0m\n\u001b[0;32m---> 18\u001b[0;31m \u001b[0mprint\u001b[0m\u001b[0;34m(\u001b[0m\u001b[0my_features\u001b[0m\u001b[0;34m=\u001b[0m\u001b[0;34m[\u001b[0m\u001b[0mstyles\u001b[0m\u001b[0;34m,\u001b[0m\u001b[0mX2\u001b[0m\u001b[0;34m,\u001b[0m\u001b[0mX3\u001b[0m\u001b[0;34m]\u001b[0m\u001b[0;34m)\u001b[0m\u001b[0;34m\u001b[0m\u001b[0;34m\u001b[0m\u001b[0m\n\u001b[0m",
      "\u001b[0;31mTypeError\u001b[0m: 'y_features' is an invalid keyword argument for print()"
     ]
    }
   ],
   "source": [
    "#see what beer we found\n",
    "beerid_index=header.index('beer_beerid')\n",
    "X2=0\n",
    "X3=0\n",
    "found=0\n",
    "styles=[]\n",
    "for row in csv_data:\n",
    "    id=int(row[beerid_index])\n",
    "    if id==prediction:\n",
    "        found+=1\n",
    "        X2+=float(row[palate_index])\n",
    "        X3+=float(row[taste_index])\n",
    "        styles.append(row[style_index])\n",
    "styles=list(set(styles))\n",
    "X2/=found\n",
    "X3/=found\n",
    "\n",
    "print(y_features=[styles,X2,X3])"
   ]
  }
 ],
 "metadata": {
  "kernelspec": {
   "display_name": "Python 3.8.0 64-bit",
   "language": "python",
   "name": "python38064bit9f9b16d984dc433badff5d8448edef5b"
  },
  "language_info": {
   "codemirror_mode": {
    "name": "ipython",
    "version": 3
   },
   "file_extension": ".py",
   "mimetype": "text/x-python",
   "name": "python",
   "nbconvert_exporter": "python",
   "pygments_lexer": "ipython3",
   "version": "3.8.0"
  }
 },
 "nbformat": 4,
 "nbformat_minor": 4
}
