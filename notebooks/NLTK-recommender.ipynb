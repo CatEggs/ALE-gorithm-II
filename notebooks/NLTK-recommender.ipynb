{
 "cells": [
  {
   "cell_type": "markdown",
   "metadata": {},
   "source": [
    "## Beer Recommender using Content Based Recommender System"
   ]
  },
  {
   "cell_type": "code",
   "execution_count": 1,
   "metadata": {},
   "outputs": [],
   "source": [
    "# Dependencies and packages\n",
    "%reload_ext lab_black\n",
    "import pandas as pd\n",
    "import numpy as np\n",
    "from nltk.corpus import stopwords\n",
    "from sklearn.metrics.pairwise import linear_kernel\n",
    "from sklearn.feature_extraction.text import CountVectorizer\n",
    "from sklearn.feature_extraction.text import TfidfVectorizer\n",
    "from sklearn.decomposition import LatentDirichletAllocation\n",
    "import re\n",
    "import random\n",
    "from sklearn.metrics import accuracy_score\n",
    "\n",
    "pd.options.display.max_columns = 30\n",
    "from IPython.core.interactiveshell import InteractiveShell\n",
    "\n",
    "InteractiveShell.ast_node_interactivity = \"all\"\n",
    "\n",
    "import pyLDAvis\n",
    "import pyLDAvis.sklearn\n",
    "\n",
    "pyLDAvis.enable_notebook()"
   ]
  },
  {
   "cell_type": "code",
   "execution_count": 2,
   "metadata": {},
   "outputs": [],
   "source": [
    "df = pd.read_csv(\"../data/csv/reviews_NLTK1686.csv\", encoding=\"latin-1\")"
   ]
  },
  {
   "cell_type": "code",
   "execution_count": 3,
   "metadata": {},
   "outputs": [
    {
     "data": {
      "text/html": [
       "<div>\n",
       "<style scoped>\n",
       "    .dataframe tbody tr th:only-of-type {\n",
       "        vertical-align: middle;\n",
       "    }\n",
       "\n",
       "    .dataframe tbody tr th {\n",
       "        vertical-align: top;\n",
       "    }\n",
       "\n",
       "    .dataframe thead th {\n",
       "        text-align: right;\n",
       "    }\n",
       "</style>\n",
       "<table border=\"1\" class=\"dataframe\">\n",
       "  <thead>\n",
       "    <tr style=\"text-align: right;\">\n",
       "      <th></th>\n",
       "      <th>beer_id</th>\n",
       "      <th>username</th>\n",
       "      <th>text</th>\n",
       "      <th>score</th>\n",
       "      <th>name</th>\n",
       "      <th>style</th>\n",
       "    </tr>\n",
       "  </thead>\n",
       "  <tbody>\n",
       "    <tr>\n",
       "      <th>0</th>\n",
       "      <td>5</td>\n",
       "      <td>woodychandler</td>\n",
       "      <td>I feel as though The CANQuest (TM) is once mor...</td>\n",
       "      <td>4.13</td>\n",
       "      <td>Amber</td>\n",
       "      <td>Vienna Lager</td>\n",
       "    </tr>\n",
       "    <tr>\n",
       "      <th>1</th>\n",
       "      <td>6</td>\n",
       "      <td>rickyleepotts</td>\n",
       "      <td>I have had this beer before, and all I can rem...</td>\n",
       "      <td>2.96</td>\n",
       "      <td>Turbodog</td>\n",
       "      <td>English Brown Ale</td>\n",
       "    </tr>\n",
       "    <tr>\n",
       "      <th>2</th>\n",
       "      <td>7</td>\n",
       "      <td>Jadjunk</td>\n",
       "      <td>#115. I haven't reviewed much by Abita Brewing...</td>\n",
       "      <td>3.67</td>\n",
       "      <td>Purple Haze</td>\n",
       "      <td>Fruit and Field Beer</td>\n",
       "    </tr>\n",
       "    <tr>\n",
       "      <th>3</th>\n",
       "      <td>10</td>\n",
       "      <td>bditty187</td>\n",
       "      <td>From notesÂ",
       " Batch #29 Dark brown in hue, damn...</td>\n",
       "      <td>3.86</td>\n",
       "      <td>Dubbel Ale</td>\n",
       "      <td>Belgian Dubbel</td>\n",
       "    </tr>\n",
       "    <tr>\n",
       "      <th>4</th>\n",
       "      <td>17</td>\n",
       "      <td>mikesgroove</td>\n",
       "      <td>So, going to GrandmaÂs for dinner tonight, an...</td>\n",
       "      <td>3.78</td>\n",
       "      <td>Widmer Hefeweizen</td>\n",
       "      <td>German Hefeweizen</td>\n",
       "    </tr>\n",
       "  </tbody>\n",
       "</table>\n",
       "</div>"
      ],
      "text/plain": [
       "   beer_id       username                                               text  \\\n",
       "0        5  woodychandler  I feel as though The CANQuest (TM) is once mor...   \n",
       "1        6  rickyleepotts  I have had this beer before, and all I can rem...   \n",
       "2        7        Jadjunk  #115. I haven't reviewed much by Abita Brewing...   \n",
       "3       10      bditty187  From notesÂ\n",
       " Batch #29 Dark brown in hue, damn...   \n",
       "4       17    mikesgroove  So, going to GrandmaÂs for dinner tonight, an...   \n",
       "\n",
       "   score               name                 style  \n",
       "0   4.13              Amber          Vienna Lager  \n",
       "1   2.96           Turbodog     English Brown Ale  \n",
       "2   3.67        Purple Haze  Fruit and Field Beer  \n",
       "3   3.86         Dubbel Ale        Belgian Dubbel  \n",
       "4   3.78  Widmer Hefeweizen     German Hefeweizen  "
      ]
     },
     "execution_count": 3,
     "metadata": {},
     "output_type": "execute_result"
    }
   ],
   "source": [
    "df.head()"
   ]
  },
  {
   "cell_type": "code",
   "execution_count": 4,
   "metadata": {},
   "outputs": [
    {
     "name": "stdout",
     "output_type": "stream",
     "text": [
      "We have 1686 reviews in the data\n",
      "We have 1686 unique beers in the data\n"
     ]
    }
   ],
   "source": [
    "print(\"We have\", len(df), \"reviews in the data\")\n",
    "print(\"We have\", df[\"beer_id\"].nunique(), \"unique beers in the data\")"
   ]
  },
  {
   "cell_type": "code",
   "execution_count": 5,
   "metadata": {},
   "outputs": [],
   "source": [
    "def print_description(index):\n",
    "    example = df[df.index == index][[\"text\", \"name\"]].values[0]\n",
    "    if len(example) > 0:\n",
    "        print(example[0])\n",
    "        print(\"Name:\", example[1])"
   ]
  },
  {
   "cell_type": "code",
   "execution_count": 6,
   "metadata": {},
   "outputs": [
    {
     "name": "stdout",
     "output_type": "stream",
     "text": [
      "Revisiting this ale nearly 5 years since my first encounter, this bottle's BB date is... DEC. 2017! Served cool in Gulden Draak's tulip-shaped bowl sniffer. A: super dark russet brown hue with mahogany shines, coming with a moderate carbonated body and a nicely lingering beige frothy head. S: very different from the Wee Heavy tasted immediately before this - Orkney Skullsplitter - the aroma here is not so pronounced in its overripe-fruit departments; it's low-profiled, more distinctive with a clear highlight of the yeastiness, comprising touches of cheese, salty-sweet butterscotch and a yeasty-maltiness not unlike a robust and estery Belgian dark ale. The sour hint of Chinese herbed prunes provides a suitable balancer with the yeasty hints as well as with the rich yet underlying flow of overripe fruitiness (prunes, apples, and figs mainly). T: a clean entry of faintly raisiny, sour black dates and black-sugary dark malts comes not sweet at all and pretty understated in taste actually, then the flavour seamlessly ventures into a slightly herbal and bitter aftertaste backed by a distinctive edge of wood-barrel ageing. In the finish, black sugar and a touch of dried herbs are coupled with a rather... \"tannic\"-chewy palate as of sour-yeastiness or wood-barrel ageing. Somehow, the complexity is not so... great in this bottle, but the overall impression is still all positive. M&D: fine and smooth on the carbonation, the body is medium at most, and it drinks absolutely light for a 7.2%abv. ale, although it does lack a kind of \"soul\" (or a really soft palate) that is the key to a \"live\" British ale. Compared with my first encounter almost 5 years ago, I'd say (just like with Orkney's Skullsplitter) this ale can't give me that \"oomph\" effect anymore; but before I get to taste the cask-version (should it be available), I'd still revisit this unique and special ale whenever possible. The balance and integrity are the strengths of this ale, no doubt about it. * Tasting Date: 13/10/05 Obtained this bottle from the London branch of the Royal Mile Whiskies Shop. BB date: DEC. 2014!!! Gosh, for a beer at just 7.2%abv. to boast this level of longevity takes incredible courage as well as unlimited self-confidence I think... 4.5 A: served in a big tulip-shaped wine glass, it pours a very dark, elegant ruby hue, with an initially thick beige head slowly dissipating and settling down to a thin layer of tight froth - looking very elegant for a British bottled beers~~ 5 S: the nose is incredibly malty and complex - profoundly sweet, but not intrusive, syrupy dark maltiness prevails along with a complex dark-fruit aroma mixed of preserved sweet date, plum jam and huge juicy raisins; plus a barley-candyish texture smelling so thick and delicious enough to eat... also at present is butterscotch note, or that profound buttery note of, guess what, Scottish shortbread... Overall, creamy, rich, rounded, laced with so many dark fruits while avoiding being overly sweet and thick; if only some exotic Belgian yeasts were used this beer could smell more complex and satisfying than a great bunch of Belgian strong dark ales! 4.5 T: full-bodied and almost oily-smooth texture of dark-maltiness and an intense flow of dark-fruitiness make a big entrance, bringing on board lots of buttery toffee, a tinge of roastiness, caramelised sugar, a rounded, bittersweet walnuty flavour, leaving a slowly intensifying dryish-bitterness as well as a mildly spicy-bitter touch developing at the deep end of the tongue; a slightly syrupy mouthfeel is left in the end, but not OTT, and the alc. touch is very restrained, only emerging deep down the throat at the very last, rather than from the beginning. 4.5 M: creamy, silky-smooth texture throughout; actually it tastes much much lighter and delicate for a 7.2%abv. malty brew... at the same time, the body is rich enough to buttress the full-flavour, and helps achieve a nice balance on the palate. 4.5 D: overall, this is an ultra-elegant beer with so much to offer - neither something you'd wish to savour every day, nor even for the second bottle on the same night - because it's so precious and rare, worth great patience until having next sip, and next bottle. Reviewing it \"within style\", I give it such high score over here, to reflect the fact that though this is just my second bottle of Wee Heavy, I already love it so much. Highly recommended!\n",
      "Name: Traquair House Ale\n"
     ]
    }
   ],
   "source": [
    "print_description(10)"
   ]
  },
  {
   "cell_type": "code",
   "execution_count": 7,
   "metadata": {},
   "outputs": [
    {
     "name": "stdout",
     "output_type": "stream",
     "text": [
      "It's time for another \"Good Idea, Bad Idea\". Good idea, drinking and reviewing awesome beers on BA. Bad idea, the existence of this beer. Well it's that time again, time for another Jared's Bad Beer Review. In this session, St. Pauli Girl, what I remember as being the most foul thing I've ever put into my mouth from years ago, the first and only time I've ever touched this thing. I almost wanted to skunk it more for the fun, but why bother. It's bad enough I'm sure. They even have the date on there, best by 03/2012, so it can't be that bad, can it?! And the cap is removed, no going back now. The pour yields a pasty white 1.5 finger fizzy but creamy semi thick but bubbly head, reminiscent of albino sperm, and fades with actual sperm like lacing. The beer is more clear than Boston water, less brown as well, it's golden colored like a fake tan. Nose, well not quite as bad as I remember actually. I'm a little turned off by not throwing up as I breath it in. It's actually somewhat breathable. I get some faint cracked straw and pilsner like malts, that breath a light juiciness almost as if it were at one point made with actual beer. Just a hint of skunked lager, not much by way of horridness actually. Granted I did pull this right out of a non-light penetrating case from a fridge, and directly into my fridge so very little light exposure. A light Bavarian malt aroma really seals the deal as an actual beer. Even the hops... wait just kidding, no hops were harmed in the making of this beer. Taste goes down hill a bit, but again not the super skunked re-vomited anal leakage I remember it being. It is pretty watery, more so than most German pilsners (real ones that is). Light cracked straw blends with watered pilsner malt and a hint of sweetness to bring real flavor to it. A decent lager crispness as well, but no real fruity flavors. As it rolls off my tongue faster and smoother than water (as it mostly it just water), the light flavor and mostly lack of flavor turn to a light hint of bitterness, with maybe a hint of grassy hops, I think they waved the 10 year old hops over the beer and a few lupulin glands fell in. Then a bit of a metallic twinge kicks in, just when I thought this beer was actually going to be refreshing. The metallic flavor really lingers making me have to go back and sip more so the watered down straw is overpowering the \"just chewed on tin foil\" flavor and now my mind is bringing the feel of it as well. Oy! Mouth is practically non-existant, FG of like 0.080, and actually not much carbonation either. Overall not as bad as I thought. The metallic flavor on the finish is the real downfall, but not really skunked, and not a huge mess either. I'm glad I tried this again, and did a full review. Perhaps I should give other piss beers a try again. This I would say is worlds better than the macro swill of U.S., and to tell the truth, I'm a little glad it surprised me in a good way. And hell, at least I got some entertainment out of writing this.\n",
      "Name: St. Pauli Girl\n"
     ]
    }
   ],
   "source": [
    "print_description(200)"
   ]
  },
  {
   "cell_type": "markdown",
   "metadata": {},
   "source": [
    "### Beer Review Text Length Distribution"
   ]
  },
  {
   "cell_type": "code",
   "execution_count": 8,
   "metadata": {},
   "outputs": [],
   "source": [
    "df[\"word_count\"] = df[\"text\"].apply(lambda x: len(str(x).split()))"
   ]
  },
  {
   "cell_type": "code",
   "execution_count": 9,
   "metadata": {},
   "outputs": [
    {
     "name": "stdout",
     "output_type": "stream",
     "text": [
      "Number of descriptions: 1686 \n",
      "Average word count 599.008896797153 \n",
      "Minimum word count 275 \n",
      "Maximum word count 973\n"
     ]
    }
   ],
   "source": [
    "desc_lengths = list(df[\"word_count\"])\n",
    "\n",
    "print(\n",
    "    \"Number of descriptions:\",\n",
    "    len(desc_lengths),\n",
    "    \"\\nAverage word count\",\n",
    "    np.average(desc_lengths),\n",
    "    \"\\nMinimum word count\",\n",
    "    min(desc_lengths),\n",
    "    \"\\nMaximum word count\",\n",
    "    max(desc_lengths),\n",
    ")"
   ]
  },
  {
   "cell_type": "markdown",
   "metadata": {},
   "source": [
    "### Preprocessing review description text \n"
   ]
  },
  {
   "cell_type": "code",
   "execution_count": 10,
   "metadata": {},
   "outputs": [
    {
     "name": "stderr",
     "output_type": "stream",
     "text": [
      "[nltk_data] Downloading package stopwords to\n",
      "[nltk_data]     /Users/sheetalbongale/nltk_data...\n",
      "[nltk_data]   Package stopwords is already up-to-date!\n"
     ]
    },
    {
     "data": {
      "text/plain": [
       "True"
      ]
     },
     "execution_count": 10,
     "metadata": {},
     "output_type": "execute_result"
    }
   ],
   "source": [
    "import nltk\n",
    "\n",
    "nltk.download(\"stopwords\")"
   ]
  },
  {
   "cell_type": "code",
   "execution_count": 11,
   "metadata": {},
   "outputs": [
    {
     "data": {
      "text/plain": [
       "beer_id         int64\n",
       "username       object\n",
       "text           object\n",
       "score         float64\n",
       "name           object\n",
       "style          object\n",
       "word_count      int64\n",
       "dtype: object"
      ]
     },
     "execution_count": 11,
     "metadata": {},
     "output_type": "execute_result"
    }
   ],
   "source": [
    "df.dtypes"
   ]
  },
  {
   "cell_type": "code",
   "execution_count": 12,
   "metadata": {},
   "outputs": [],
   "source": [
    "df[\"text\"] = df[\"text\"].astype(str)"
   ]
  },
  {
   "cell_type": "code",
   "execution_count": 13,
   "metadata": {},
   "outputs": [
    {
     "name": "stderr",
     "output_type": "stream",
     "text": [
      "<>:1: DeprecationWarning: invalid escape sequence \\[\n",
      "<>:1: DeprecationWarning: invalid escape sequence \\[\n",
      "<ipython-input-13-275b553143ac>:1: DeprecationWarning: invalid escape sequence \\[\n",
      "  REPLACE_BY_SPACE_RE = re.compile(\"[/(){}\\[\\]\\|@,;]\")\n"
     ]
    }
   ],
   "source": [
    "REPLACE_BY_SPACE_RE = re.compile(\"[/(){}\\[\\]\\|@,;]\")\n",
    "BAD_SYMBOLS_RE = re.compile(\"[^0-9a-z #+_Â]\")\n",
    "STOPWORDS = set(stopwords.words(\"english\"))\n",
    "\n",
    "\n",
    "def clean_text(text):\n",
    "    \"\"\"\n",
    "        text: a string\n",
    "        \n",
    "        return: modified initial string\n",
    "    \"\"\"\n",
    "    text = text.lower()  # lowercase text\n",
    "    text = REPLACE_BY_SPACE_RE.sub(\n",
    "        \" \", text\n",
    "    )  # replace REPLACE_BY_SPACE_RE symbols by space in text. substitute the matched string in REPLACE_BY_SPACE_RE with space.\n",
    "    text = BAD_SYMBOLS_RE.sub(\n",
    "        \"\", text\n",
    "    )  # remove symbols which are in BAD_SYMBOLS_RE from text. substitute the matched string in BAD_SYMBOLS_RE with nothing.\n",
    "    text = \" \".join(\n",
    "        word for word in text.split() if word not in STOPWORDS\n",
    "    )  # remove stopwors from text\n",
    "    return text\n",
    "\n",
    "\n",
    "df[\"desc_clean\"] = df[\"text\"].apply(clean_text)"
   ]
  },
  {
   "cell_type": "code",
   "execution_count": 14,
   "metadata": {},
   "outputs": [
    {
     "name": "stdout",
     "output_type": "stream",
     "text": [
      "feel though canquest tm gaining traction recent visit pinocchios netted abita cans anxious give try remember one industry professional telling ambers dead gar hope ambers take many forms knowing difficult work lager yeast duly impressed red ale got rocky finger tawny head pour hung around long could humidity evening color beautiful orangishamber nequality clarity nose malty also clean mouthfeel full nearly thick malty sweetness reminded hot cereal oatmeal cream wheat finish semisweet sweet cloying means pleasant would nice beer cooler hot day visit beach bottle also review original canquest tm takes precedence today good friday f 25 march 2016 bottle abita amber munich style lager brewed pale caramel malts german perle hops smooth malty caramel flavor rich amber color one first popular brews amber pairs well many foods popped cap gave semiagro pour try might could raise much way head even inglass swirl failed create anything mere skim wisps atop beer color deep amber light copper copper srm 13 17 nequality clarity nose nutty sweetness like pecans almonds involved accompanied definite caramel malt sugariness mouthfeel medium taste seemed really sweet much like caramel general undefined sugary sweetness finish likewise sweet cloying clearly enjoyed canned version much\n",
      "Name: Amber\n"
     ]
    }
   ],
   "source": [
    "def print_description(index):\n",
    "    example = df[df.index == index][[\"desc_clean\", \"name\"]].values[0]\n",
    "    if len(example) > 0:\n",
    "        print(example[0])\n",
    "        print(\"Name:\", example[1])\n",
    "\n",
    "\n",
    "print_description(0)"
   ]
  },
  {
   "cell_type": "code",
   "execution_count": 15,
   "metadata": {},
   "outputs": [
    {
     "name": "stdout",
     "output_type": "stream",
     "text": [
      "time another good idea bad idea good idea drinking reviewing awesome beers ba bad idea existence beer well time time another jareds bad beer review session st pauli girl remember foul thing ive ever put mouth years ago first time ive ever touched thing almost wanted skunk fun bother bad enough im sure even date best 03 2012 cant bad cap removed going back pour yields pasty white 15 finger fizzy creamy semi thick bubbly head reminiscent albino sperm fades actual sperm like lacing beer clear boston water less brown well golden colored like fake tan nose well quite bad remember actually im little turned throwing breath actually somewhat breathable get faint cracked straw pilsner like malts breath light juiciness almost one point made actual beer hint skunked lager much way horridness actually granted pull right nonlight penetrating case fridge directly fridge little light exposure light bavarian malt aroma really seals deal actual beer even hops wait kidding hops harmed making beer taste goes hill bit super skunked revomited anal leakage remember pretty watery german pilsners real ones light cracked straw blends watered pilsner malt hint sweetness bring real flavor decent lager crispness well real fruity flavors rolls tongue faster smoother water mostly water light flavor mostly lack flavor turn light hint bitterness maybe hint grassy hops think waved 10 year old hops beer lupulin glands fell bit metallic twinge kicks thought beer actually going refreshing metallic flavor really lingers making go back sip watered straw overpowering chewed tin foil flavor mind bringing feel well oy mouth practically nonexistant fg like 0080 actually much carbonation either overall bad thought metallic flavor finish real downfall really skunked huge mess either im glad tried full review perhaps give piss beers try would say worlds better macro swill us tell truth im little glad surprised good way hell least got entertainment writing\n",
      "Name: St. Pauli Girl\n"
     ]
    }
   ],
   "source": [
    "print_description(200)"
   ]
  },
  {
   "cell_type": "code",
   "execution_count": 16,
   "metadata": {},
   "outputs": [],
   "source": [
    "df.set_index(\"name\", inplace=True)"
   ]
  },
  {
   "cell_type": "code",
   "execution_count": 35,
   "metadata": {},
   "outputs": [],
   "source": [
    "tf = TfidfVectorizer(\n",
    "    analyzer=\"word\", ngram_range=(0, 1), min_df=0, stop_words=\"english\"\n",
    ")\n",
    "tfidf_matrix = tf.fit_transform(df[\"desc_clean\"])\n",
    "cosine_similarities = linear_kernel(tfidf_matrix, tfidf_matrix)"
   ]
  },
  {
   "cell_type": "code",
   "execution_count": 36,
   "metadata": {},
   "outputs": [],
   "source": [
    "indices = pd.Series(df.index)"
   ]
  },
  {
   "cell_type": "code",
   "execution_count": 37,
   "metadata": {},
   "outputs": [
    {
     "data": {
      "text/plain": [
       "0                                                 Amber\n",
       "1                                              Turbodog\n",
       "2                                           Purple Haze\n",
       "3                                            Dubbel Ale\n",
       "4                                     Widmer Hefeweizen\n",
       "5                             Mackeson Triple XXX Stout\n",
       "6                                        Trois Pistoles\n",
       "7                                    Blanche De Chambly\n",
       "8                                               Maudite\n",
       "9                                       La Fin Du Monde\n",
       "10                                   Traquair House Ale\n",
       "11                                           Alpha King\n",
       "12                                            Grand Cru\n",
       "13                                                White\n",
       "14                                        Anchor Porter\n",
       "15                                    Anchor Steam Beer\n",
       "16                                            Budweiser\n",
       "17                       Young's Double Chocolate Stout\n",
       "18                                Post Road Pumpkin Ale\n",
       "19    Blanche De Bruxelles / Manneken Pis Belgian White\n",
       "20                                            Wee Heavy\n",
       "21                                   Beck's Oktoberfest\n",
       "22                                   Coffeehouse Porter\n",
       "23                                             Pale Ale\n",
       "24                                                  IPA\n",
       "25                           Lost Sailor India Pale Ale\n",
       "26                                        Smoked Porter\n",
       "27                                 Arrogant Bastard Ale\n",
       "28                           Black Bavarian Style Lager\n",
       "29                                     Spaten Optimator\n",
       "30                   Blue Moon Harvest Moon Pumpkin Ale\n",
       "31                            Samuel Adams Winter Lager\n",
       "32                             Samuel Adams Octoberfest\n",
       "33                              Samuel Adams Summer Ale\n",
       "34                            Samuel Adams Boston Lager\n",
       "35                            Samuel Adams Cherry Wheat\n",
       "36                             Samuel Adams Triple Bock\n",
       "37                                  Butthead Doppelbock\n",
       "38                                  Maple Nut Brown Ale\n",
       "39                                   Orval Trappist Ale\n",
       "40                                           Celebrator\n",
       "41                                 Ayinger BrÃ¤u Weisse\n",
       "42                             Ayinger Jahrhundert Bier\n",
       "43                           Ayinger Altbairisch Dunkel\n",
       "44                                    Ayinger Ur-Weisse\n",
       "45                                      KÃ¶nig Pilsener\n",
       "46                   Corsendonk Pater / Abbey Brown Ale\n",
       "47                           Agnus Dei (Abbey Pale Ale)\n",
       "48                             Corsendonk Christmas Ale\n",
       "49                                             Hennepin\n",
       "Name: name, dtype: object"
      ]
     },
     "execution_count": 37,
     "metadata": {},
     "output_type": "execute_result"
    }
   ],
   "source": [
    "indices[:50]"
   ]
  },
  {
   "cell_type": "code",
   "execution_count": 63,
   "metadata": {},
   "outputs": [],
   "source": [
    "def recommendations(name, cosine_similarities=cosine_similarities):\n",
    "\n",
    "    recommended_beers = []\n",
    "\n",
    "    # gettin the index of the beer that matches the name\n",
    "    idx = indices[indices == name].index[0]\n",
    "\n",
    "    # creating a Series with the similarity scores in descending order\n",
    "    score_series = pd.Series(cosine_similarities[idx]).sort_values(ascending=False)\n",
    "\n",
    "    # getting the indexes of the 10 most similar beer except itself\n",
    "    top_10_indexes = list(score_series.iloc[1:11].index)\n",
    "\n",
    "    # populating the list with the names of the top 10 matching beers\n",
    "    for i in top_10_indexes:\n",
    "        recommended_beers.append(list(df.index)[i])\n",
    "\n",
    "    return recommended_beers, score_series.iloc[1:11]"
   ]
  },
  {
   "cell_type": "code",
   "execution_count": 64,
   "metadata": {},
   "outputs": [
    {
     "data": {
      "text/plain": [
       "(['Sierra Nevada Pale Ale',\n",
       "  'Sierra Nevada Estate Brewers Harvest Ale',\n",
       "  'Sierra Nevada Wheat Beer',\n",
       "  'Best Of Beer Camp: California Common - Beer Camp #8',\n",
       "  'Torpedo Extra IPA',\n",
       "  'Flipside Red IPA',\n",
       "  'Weizenbock - Beer Camp #37 (Best Of Beer Camp)',\n",
       "  \"30th Anniversary - Fritz And Ken's Ale\",\n",
       "  'Beer Camp: Tropical IPA (2016)',\n",
       "  'Estate Homegrown Wet Hop Ale'],\n",
       " 98      0.309395\n",
       " 1355    0.223830\n",
       " 101     0.211645\n",
       " 1504    0.198116\n",
       " 1014    0.196591\n",
       " 1612    0.190541\n",
       " 1505    0.183568\n",
       " 1410    0.179690\n",
       " 1677    0.166768\n",
       " 1457    0.157394\n",
       " dtype: float64)"
      ]
     },
     "execution_count": 64,
     "metadata": {},
     "output_type": "execute_result"
    }
   ],
   "source": [
    "recommendations(\"Hazy Little Thing IPA\")"
   ]
  },
  {
   "cell_type": "code",
   "execution_count": 65,
   "metadata": {},
   "outputs": [
    {
     "data": {
      "text/plain": [
       "(['Samuel Adams White Ale',\n",
       "  'Pyramid Hefeweizen',\n",
       "  'Samuel Adams Winter Lager',\n",
       "  'Samuel Adams Octoberfest',\n",
       "  'Blue Moon Honey Moon Summer Ale',\n",
       "  'Pyramid Apricot Ale',\n",
       "  'Winter Welcome Ale',\n",
       "  'Redhook Winterhook',\n",
       "  'Spaten Oktoberfestbier Ur-MÃ¤rzen',\n",
       "  'Winter Solstice Seasonal Ale'],\n",
       " 733     0.694529\n",
       " 320     0.659415\n",
       " 31      0.633963\n",
       " 32      0.556539\n",
       " 1119    0.547519\n",
       " 952     0.540080\n",
       " 153     0.532500\n",
       " 797     0.525485\n",
       " 155     0.521907\n",
       " 489     0.513892\n",
       " dtype: float64)"
      ]
     },
     "execution_count": 65,
     "metadata": {},
     "output_type": "execute_result"
    }
   ],
   "source": [
    "recommendations(\"Samuel Adams Summer Ale\")"
   ]
  },
  {
   "cell_type": "code",
   "execution_count": 66,
   "metadata": {},
   "outputs": [
    {
     "data": {
      "text/plain": [
       "(['Corona Light',\n",
       "  'Northern Hemisphere Harvest Wet Hop IPA',\n",
       "  'Morimoto Imperial Pilsner',\n",
       "  'Red Stripe Jamaican Lager',\n",
       "  'Harvest Ale',\n",
       "  'Rugged Trail Nut Brown Ale',\n",
       "  'Landshark Lager',\n",
       "  'Rolling Rock Extra Pale',\n",
       "  'Imperial Stout',\n",
       "  'Hop Trip Harvest Ale (Fresh Hop Ale)'],\n",
       " 83      0.326586\n",
       " 693     0.117405\n",
       " 781     0.115421\n",
       " 194     0.114012\n",
       " 879     0.113377\n",
       " 604     0.111596\n",
       " 1082    0.111556\n",
       " 146     0.103927\n",
       " 120     0.102173\n",
       " 966     0.101908\n",
       " dtype: float64)"
      ]
     },
     "execution_count": 66,
     "metadata": {},
     "output_type": "execute_result"
    }
   ],
   "source": [
    "recommendations(\"Corona Extra\")"
   ]
  },
  {
   "cell_type": "code",
   "execution_count": 68,
   "metadata": {},
   "outputs": [
    {
     "data": {
      "text/plain": [
       "(['Uff-da',\n",
       "  'Samuel Adams Chocolate Bock',\n",
       "  'Hop Sun (Summer Wheat Beer)',\n",
       "  'Flipside Red IPA',\n",
       "  '400 Pound Monkey',\n",
       "  \"Raison D'Ã\\x8atre\",\n",
       "  'Lager of The Lakes',\n",
       "  'Sisyphus',\n",
       "  'Staghorn Octoberfest',\n",
       "  'Accumulation'],\n",
       " 543     0.529969\n",
       " 799     0.348127\n",
       " 840     0.335035\n",
       " 1612    0.329352\n",
       " 1238    0.323763\n",
       " 312     0.320974\n",
       " 1055    0.320538\n",
       " 716     0.302118\n",
       " 673     0.289096\n",
       " 1614    0.281792\n",
       " dtype: float64)"
      ]
     },
     "execution_count": 68,
     "metadata": {},
     "output_type": "execute_result"
    }
   ],
   "source": [
    "recommendations(\"Shiner Bock\")"
   ]
  },
  {
   "cell_type": "code",
   "execution_count": 69,
   "metadata": {},
   "outputs": [
    {
     "data": {
      "text/plain": [
       "(['Sierra Nevada Tumbler Autumn Brown Ale',\n",
       "  'Ranger',\n",
       "  'Delirium Nocturnum',\n",
       "  \"Dale's Pale Ale\",\n",
       "  'Matilda',\n",
       "  'Double Bag',\n",
       "  'Fat Tire Belgian Style Ale',\n",
       "  'Fire Rock Pale Ale',\n",
       "  'Bass Pale Ale',\n",
       "  'Vienna Lager'],\n",
       " 1442    0.295929\n",
       " 1389    0.287635\n",
       " 359     0.282161\n",
       " 691     0.262696\n",
       " 636     0.260952\n",
       " 97      0.257077\n",
       " 161     0.245514\n",
       " 668     0.242698\n",
       " 236     0.238420\n",
       " 1270    0.236661\n",
       " dtype: float64)"
      ]
     },
     "execution_count": 69,
     "metadata": {},
     "output_type": "execute_result"
    }
   ],
   "source": [
    "recommendations(\"Salvator Doppel Bock\")"
   ]
  },
  {
   "cell_type": "markdown",
   "metadata": {},
   "source": [
    "- - -\n",
    "## Try model with the CSV file that has beers having atleast 500 reviews"
   ]
  },
  {
   "cell_type": "code",
   "execution_count": 2,
   "metadata": {},
   "outputs": [],
   "source": [
    "df2 = pd.read_csv(\"../data/csv/reviews500_NLTK.csv\", encoding=\"latin-1\")"
   ]
  },
  {
   "cell_type": "code",
   "execution_count": 3,
   "metadata": {},
   "outputs": [
    {
     "name": "stdout",
     "output_type": "stream",
     "text": [
      "We have 958712 reviews in the data\n",
      "We have 916 unique beers in the data\n"
     ]
    }
   ],
   "source": [
    "print(\"We have\", len(df2), \"reviews in the data\")\n",
    "print(\"We have\", df2[\"beer_id\"].nunique(), \"unique beers in the data\")"
   ]
  },
  {
   "cell_type": "code",
   "execution_count": 4,
   "metadata": {},
   "outputs": [],
   "source": [
    "def print_description(index):\n",
    "    example = df2[df2.index == index][[\"text\", \"name\"]].values[0]\n",
    "    if len(example) > 0:\n",
    "        print(example[0])\n",
    "        print(\"Name:\", example[1])"
   ]
  },
  {
   "cell_type": "code",
   "execution_count": 5,
   "metadata": {},
   "outputs": [
    {
     "name": "stdout",
     "output_type": "stream",
     "text": [
      "Hazy NE IPA golden color. Foamy head that quickly disappears. Juicy explosions at first pour. Smooth taste, little after taste, not too hoppy. Good mouth feel, some creaminess yet too much lingering feel. Overall great offering from TH, easy to drink everyday.\n",
      "Name: Haze\n"
     ]
    }
   ],
   "source": [
    "print_description(10)"
   ]
  },
  {
   "cell_type": "code",
   "execution_count": 6,
   "metadata": {},
   "outputs": [
    {
     "name": "stdout",
     "output_type": "stream",
     "text": [
      "Straight pour from a 16oz can to an oversized wineglass (TH stemware, for those curious). Thereâs a canning date of May 2, 2016 printed in black ink on the underside of the can, which reads âKEEP COLD 05 02 16 SUHH DUDEââwhich would make this five days old at the time of consumption. This was purchased at the brewery on the 4th, and it immediately went into the fridge so these are essentially ideal tasting circumstances. Appearance (4.5): Two very full fingers of creamy, custard-colored foam rise happily off of the pour, capping a cloudy, orange and honey-colored body. The head dies down relatively slowly, leaving scattered suds near the peak of the head, a half-finger collar, and a diminutive clump of foam near the center. As the body goes down, it leaves a solid sheath of foam on the far side of the glass, with peaks and valleys in its profile. Smell (4.5): Positively pungent, nectar-like citrus dominates the nose: musky papaya flesh, sticky mango juice, and passion fruit. It blends smoothly with sugar cookie-like sweetness, country bread, and earthy tones paired with a slightly grassy aroma. A dank, weedy note brings up the rear. As it warms, it shifts more toward passion fruit and sauvignon blanc-like gooseberry notes, as well as a much stronger musk. This is seriously excellent stuff. Taste (4.5): This shit is bonkers. Iâm not entirely sure whatâs going on here, honestlyâit starts off with a combination of papaya muskiness and a kind of earthy, bready component. A little bit of guava and strawberry come out, followed by passion fruit, a limeade mix of citric tartness and light, balancing sweetness, and pink grapefruit flesh with sugar sprinkled on top. A grassy note mixes in at this point, making for a slightly cannabis-like feel. All throughout, a layer of sugar cookie sweetness tempers any bitterness, helping to accentuate the fruitiness of it all. Amazingly, thereâs no noticeable booziness in the flavor, thought a slight spiciness does come up in the finish. Mouthfeel (4.25): Smooth, slick, and somewhat on the full- side of medium-weight, with a juicy, nectar-like feel. Still, the oily hop presence dries out the feel significantly just as the beer finishes. All throughout, the carbonation is fine-grained, subtle, and smooth, matching the bodyâs thickness with its creamy feel. The alcohol appears here just a bit, with a boozy dryness that blends in with the hop bitterness. Smooth and satisfying, with a feel that matches its heft and hop load. Overall (4.5): This is, in the end, an outstanding, smooth, supremely fruity, satisfying DIPA. This is, effectively, New England-style hop juice, and thereâs not an unpleasant thing about it, but it does lack some of the depth and complexity of my very favorite DIPAs. NOT THAT I AM COMPLAINING FOR EVEN A SECONDâjust explaining what might separate this from the most world-class of world-class DIPAs. This is still, in every single way, an absolute joy to drink. Iâm guessing it goes without saying . . . but this is highly recommended.\n",
      "Name: Haze\n"
     ]
    }
   ],
   "source": [
    "print_description(200)"
   ]
  },
  {
   "cell_type": "markdown",
   "metadata": {},
   "source": [
    "### Beer Review Text Length Distribution"
   ]
  },
  {
   "cell_type": "code",
   "execution_count": 7,
   "metadata": {},
   "outputs": [],
   "source": [
    "df2[\"word_count\"] = df2[\"text\"].apply(lambda x: len(str(x).split()))"
   ]
  },
  {
   "cell_type": "code",
   "execution_count": 8,
   "metadata": {},
   "outputs": [
    {
     "name": "stdout",
     "output_type": "stream",
     "text": [
      "Number of descriptions: 958712 \n",
      "Average word count 114.83544901910062 \n",
      "Minimum word count 1 \n",
      "Maximum word count 973\n"
     ]
    }
   ],
   "source": [
    "desc_lengths = list(df2[\"word_count\"])\n",
    "\n",
    "print(\n",
    "    \"Number of descriptions:\",\n",
    "    len(desc_lengths),\n",
    "    \"\\nAverage word count\",\n",
    "    np.average(desc_lengths),\n",
    "    \"\\nMinimum word count\",\n",
    "    min(desc_lengths),\n",
    "    \"\\nMaximum word count\",\n",
    "    max(desc_lengths),\n",
    ")"
   ]
  },
  {
   "cell_type": "markdown",
   "metadata": {},
   "source": [
    "### Preprocessing review description text \n"
   ]
  },
  {
   "cell_type": "code",
   "execution_count": 9,
   "metadata": {},
   "outputs": [
    {
     "name": "stderr",
     "output_type": "stream",
     "text": [
      "[nltk_data] Downloading package stopwords to\n",
      "[nltk_data]     /Users/sheetalbongale/nltk_data...\n",
      "[nltk_data]   Package stopwords is already up-to-date!\n"
     ]
    },
    {
     "data": {
      "text/plain": [
       "True"
      ]
     },
     "execution_count": 9,
     "metadata": {},
     "output_type": "execute_result"
    }
   ],
   "source": [
    "import nltk\n",
    "\n",
    "nltk.download(\"stopwords\")"
   ]
  },
  {
   "cell_type": "code",
   "execution_count": 10,
   "metadata": {},
   "outputs": [
    {
     "data": {
      "text/plain": [
       "beer_id         int64\n",
       "username       object\n",
       "text           object\n",
       "score         float64\n",
       "name           object\n",
       "style          object\n",
       "word_count      int64\n",
       "dtype: object"
      ]
     },
     "execution_count": 10,
     "metadata": {},
     "output_type": "execute_result"
    }
   ],
   "source": [
    "df2.dtypes"
   ]
  },
  {
   "cell_type": "code",
   "execution_count": 11,
   "metadata": {},
   "outputs": [],
   "source": [
    "df2[\"text\"] = df2[\"text\"].astype(str)"
   ]
  },
  {
   "cell_type": "code",
   "execution_count": 12,
   "metadata": {},
   "outputs": [
    {
     "name": "stderr",
     "output_type": "stream",
     "text": [
      "<>:1: DeprecationWarning: invalid escape sequence \\[\n",
      "<>:1: DeprecationWarning: invalid escape sequence \\[\n",
      "<ipython-input-12-0a5e860b7dcc>:1: DeprecationWarning: invalid escape sequence \\[\n",
      "  REPLACE_BY_SPACE_RE = re.compile(\"[/(){}\\[\\]\\|@,;]\")\n"
     ]
    }
   ],
   "source": [
    "REPLACE_BY_SPACE_RE = re.compile(\"[/(){}\\[\\]\\|@,;]\")\n",
    "BAD_SYMBOLS_RE = re.compile(\"[^0-9a-z #+_Â]\")\n",
    "STOPWORDS = set(stopwords.words(\"english\"))\n",
    "\n",
    "\n",
    "def clean_text(text):\n",
    "    \"\"\"\n",
    "        text: a string\n",
    "        \n",
    "        return: modified initial string\n",
    "    \"\"\"\n",
    "    text = text.lower()  # lowercase text\n",
    "    text = REPLACE_BY_SPACE_RE.sub(\n",
    "        \" \", text\n",
    "    )  # replace REPLACE_BY_SPACE_RE symbols by space in text. substitute the matched string in REPLACE_BY_SPACE_RE with space.\n",
    "    text = BAD_SYMBOLS_RE.sub(\n",
    "        \"\", text\n",
    "    )  # remove symbols which are in BAD_SYMBOLS_RE from text. substitute the matched string in BAD_SYMBOLS_RE with nothing.\n",
    "    text = \" \".join(\n",
    "        word for word in text.split() if word not in STOPWORDS\n",
    "    )  # remove stopwors from text\n",
    "    return text\n",
    "\n",
    "\n",
    "df2[\"desc_clean\"] = df2[\"text\"].apply(clean_text)"
   ]
  },
  {
   "cell_type": "code",
   "execution_count": 13,
   "metadata": {},
   "outputs": [
    {
     "name": "stdout",
     "output_type": "stream",
     "text": [
      "0 16 oz funny story finally walked doors 45 min wait line freezing temps sweet sound grateful deads sugar magnolia greeted treehouse sound system bottom reads going wind goes bloomin like red rose white haze yellow golden liquid thick healthy totally unfiltered brawny white foam cap thick allwhite clumps huge lacing left aroma zesty citrus hop effect mellon mango grainy earthiness tropical fruit blend bitter sweet effect peppery kick end aromatic flavor bursting complex hops zesty earthy tones sweet orange peppery malt clean fresh feel overall vibe crispy bite wakes full lush mouthfeel follows totally unfiltered expereince feel flavor finishes fun earthy zesty dry bite tropical juicy zesty citrus zippy golden wheat malt melons rustic earthiness sums taste pretty well levels complexity deep interesting ride sure overall one stands somewhere near top new england ipas\n",
      "Name: Haze\n"
     ]
    }
   ],
   "source": [
    "def print_description(index):\n",
    "    example = df2[df2.index == index][[\"desc_clean\", \"name\"]].values[0]\n",
    "    if len(example) > 0:\n",
    "        print(example[0])\n",
    "        print(\"Name:\", example[1])\n",
    "\n",
    "\n",
    "print_description(0)"
   ]
  },
  {
   "cell_type": "code",
   "execution_count": 14,
   "metadata": {},
   "outputs": [
    {
     "name": "stdout",
     "output_type": "stream",
     "text": [
      "straight pour 16oz oversized wineglass th stemware curious theres canning date may 2 2016 printed black ink underside reads keep cold 05 02 16 suhh dudewhich would make five days old time consumption purchased brewery 4th immediately went fridge essentially ideal tasting circumstances appearance 45 two full fingers creamy custardcolored foam rise happily pour capping cloudy orange honeycolored body head dies relatively slowly leaving scattered suds near peak head halffinger collar diminutive clump foam near center body goes leaves solid sheath foam far side glass peaks valleys profile smell 45 positively pungent nectarlike citrus dominates nose musky papaya flesh sticky mango juice passion fruit blends smoothly sugar cookielike sweetness country bread earthy tones paired slightly grassy aroma dank weedy note brings rear warms shifts toward passion fruit sauvignon blanclike gooseberry notes well much stronger musk seriously excellent stuff taste 45 shit bonkers im entirely sure whats going honestlyit starts combination papaya muskiness kind earthy bready component little bit guava strawberry come followed passion fruit limeade mix citric tartness light balancing sweetness pink grapefruit flesh sugar sprinkled top grassy note mixes point making slightly cannabislike feel throughout layer sugar cookie sweetness tempers bitterness helping accentuate fruitiness amazingly theres noticeable booziness flavor thought slight spiciness come finish mouthfeel 425 smooth slick somewhat full side mediumweight juicy nectarlike feel still oily hop presence dries feel significantly beer finishes throughout carbonation finegrained subtle smooth matching bodys thickness creamy feel alcohol appears bit boozy dryness blends hop bitterness smooth satisfying feel matches heft hop load overall 45 end outstanding smooth supremely fruity satisfying dipa effectively new englandstyle hop juice theres unpleasant thing lack depth complexity favorite dipas complaining even secondjust explaining might separate worldclass worldclass dipas still every single way absolute joy drink im guessing goes without saying highly recommended\n",
      "Name: Haze\n"
     ]
    }
   ],
   "source": [
    "print_description(200)"
   ]
  },
  {
   "cell_type": "code",
   "execution_count": 15,
   "metadata": {},
   "outputs": [],
   "source": [
    "df2.set_index(\"name\", inplace=True)"
   ]
  },
  {
   "cell_type": "code",
   "execution_count": null,
   "metadata": {},
   "outputs": [],
   "source": [
    "tf2 = TfidfVectorizer(\n",
    "    analyzer=\"word\", ngram_range=(2, 3), min_df=0, stop_words=\"english\"\n",
    ")\n",
    "tfidf_matrix2 = tf2.fit_transform(df2[\"desc_clean\"])\n",
    "cosine_similarities = linear_kernel(tfidf_matrix2, tfidf_matrix2)"
   ]
  },
  {
   "cell_type": "code",
   "execution_count": null,
   "metadata": {},
   "outputs": [],
   "source": [
    "\"\"\"\n",
    "def ChunkIterator():\n",
    "    for chunk in pd.read_csv(\"../data/csv/reviews_tfidf.csv\", chunksize=1000):\n",
    "      for doc in  chunk[\"desc_clean\"].values:\n",
    "             yield doc\n",
    "\n",
    "corpus  = ChunkIterator()\n",
    "tfidf = TfidfVectorizer()\n",
    "tfidf_matrix2 = tfidf.fit_transform(corpus)\n",
    "cosine_similarities = linear_kernel(tfidf_matrix2, tfidf_matrix2)\n",
    "\"\"\""
   ]
  },
  {
   "cell_type": "code",
   "execution_count": null,
   "metadata": {},
   "outputs": [],
   "source": [
    "indices = pd.Series(df2.index)"
   ]
  },
  {
   "cell_type": "code",
   "execution_count": null,
   "metadata": {},
   "outputs": [],
   "source": [
    "indices[:50]"
   ]
  },
  {
   "cell_type": "code",
   "execution_count": null,
   "metadata": {},
   "outputs": [],
   "source": [
    "def recommendations(name, cosine_similarities=cosine_similarities):\n",
    "\n",
    "    recommended_beers = []\n",
    "\n",
    "    # gettin the index of the beer that matches the name\n",
    "    idx = indices[indices == name].index[0]\n",
    "\n",
    "    # creating a Series with the similarity scores in descending order\n",
    "    score_series = pd.Series(cosine_similarities[idx]).sort_values(ascending=False)\n",
    "\n",
    "    # getting the indexes of the 10 most similar beer except itself\n",
    "    top_10_indexes = list(score_series.iloc[1:11].index)\n",
    "    print(score_series.iloc[1:11])\n",
    "\n",
    "    # populating the list with the names of the top 10 matching beers\n",
    "    for i in top_10_indexes:\n",
    "        recommended_beers.append(list(df2.index)[i])\n",
    "\n",
    "    return recommended_beers"
   ]
  },
  {
   "cell_type": "code",
   "execution_count": 124,
   "metadata": {},
   "outputs": [
    {
     "name": "stdout",
     "output_type": "stream",
     "text": [
      "98      0.046232\n",
      "1355    0.023741\n",
      "1014    0.019565\n",
      "1643    0.019498\n",
      "101     0.018839\n",
      "1504    0.016843\n",
      "1410    0.015325\n",
      "99      0.013884\n",
      "402     0.013102\n",
      "1612    0.011933\n",
      "dtype: float64\n"
     ]
    },
    {
     "data": {
      "text/plain": [
       "['Sierra Nevada Pale Ale',\n",
       " 'Sierra Nevada Estate Brewers Harvest Ale',\n",
       " 'Torpedo Extra IPA',\n",
       " 'Second Fiddle',\n",
       " 'Sierra Nevada Wheat Beer',\n",
       " 'Best Of Beer Camp: California Common - Beer Camp #8',\n",
       " \"30th Anniversary - Fritz And Ken's Ale\",\n",
       " 'Porter',\n",
       " 'Sierra Nevada India Pale Ale',\n",
       " 'Flipside Red IPA']"
      ]
     },
     "execution_count": 124,
     "metadata": {},
     "output_type": "execute_result"
    }
   ],
   "source": [
    "recommendations(\"Hazy Little Thing IPA\")"
   ]
  },
  {
   "cell_type": "code",
   "execution_count": 125,
   "metadata": {},
   "outputs": [
    {
     "name": "stdout",
     "output_type": "stream",
     "text": [
      "320     0.235412\n",
      "733     0.224747\n",
      "1119    0.200300\n",
      "952     0.190512\n",
      "32      0.187793\n",
      "30      0.168832\n",
      "797     0.164552\n",
      "155     0.160932\n",
      "31      0.158118\n",
      "298     0.144466\n",
      "dtype: float64\n"
     ]
    },
    {
     "data": {
      "text/plain": [
       "['Pyramid Hefeweizen',\n",
       " 'Samuel Adams White Ale',\n",
       " 'Blue Moon Honey Moon Summer Ale',\n",
       " 'Pyramid Apricot Ale',\n",
       " 'Samuel Adams Octoberfest',\n",
       " 'Blue Moon Harvest Moon Pumpkin Ale',\n",
       " 'Redhook Winterhook',\n",
       " 'Spaten Oktoberfestbier Ur-MÃ¤rzen',\n",
       " 'Samuel Adams Winter Lager',\n",
       " 'Redhook ESB']"
      ]
     },
     "execution_count": 125,
     "metadata": {},
     "output_type": "execute_result"
    }
   ],
   "source": [
    "recommendations(\"Samuel Adams Summer Ale\")"
   ]
  },
  {
   "cell_type": "code",
   "execution_count": 126,
   "metadata": {},
   "outputs": [
    {
     "name": "stdout",
     "output_type": "stream",
     "text": [
      "83      0.059339\n",
      "781     0.008774\n",
      "235     0.007242\n",
      "604     0.007043\n",
      "693     0.006685\n",
      "1117    0.006327\n",
      "211     0.005964\n",
      "1390    0.005585\n",
      "533     0.005194\n",
      "399     0.005079\n",
      "dtype: float64\n"
     ]
    },
    {
     "data": {
      "text/plain": [
       "['Corona Light',\n",
       " 'Morimoto Imperial Pilsner',\n",
       " \"Mickey's\",\n",
       " 'Rugged Trail Nut Brown Ale',\n",
       " 'Northern Hemisphere Harvest Wet Hop IPA',\n",
       " 'Wailua Wheat',\n",
       " \"He'Brew Genesis Ale (Old Version)\",\n",
       " 'Sierra Nevada Glissade Golden Bock',\n",
       " 'Maredsous 8 - Brune',\n",
       " 'Winter Ale']"
      ]
     },
     "execution_count": 126,
     "metadata": {},
     "output_type": "execute_result"
    }
   ],
   "source": [
    "recommendations(\"Corona Extra\")"
   ]
  },
  {
   "cell_type": "code",
   "execution_count": null,
   "metadata": {},
   "outputs": [],
   "source": []
  }
 ],
 "metadata": {
  "kernelspec": {
   "display_name": "Ale-gorithm",
   "language": "python",
   "name": "python3"
  },
  "language_info": {
   "codemirror_mode": {
    "name": "ipython",
    "version": 3
   },
   "file_extension": ".py",
   "mimetype": "text/x-python",
   "name": "python",
   "nbconvert_exporter": "python",
   "pygments_lexer": "ipython3",
   "version": "3.8.0"
  }
 },
 "nbformat": 4,
 "nbformat_minor": 2
}
