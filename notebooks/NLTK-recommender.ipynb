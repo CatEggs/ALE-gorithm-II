{
 "cells": [
  {
   "cell_type": "markdown",
   "metadata": {},
   "source": [
    "## Beer Recommender using Content Based Recommender System"
   ]
  },
  {
   "cell_type": "code",
   "execution_count": 96,
   "metadata": {},
   "outputs": [],
   "source": [
    "# Dependencies and packages\n",
    "%reload_ext lab_black\n",
    "import pandas as pd\n",
    "import numpy as np\n",
    "from nltk.corpus import stopwords\n",
    "from sklearn.metrics.pairwise import linear_kernel\n",
    "from sklearn.feature_extraction.text import CountVectorizer\n",
    "from sklearn.feature_extraction.text import TfidfVectorizer\n",
    "from sklearn.decomposition import LatentDirichletAllocation\n",
    "import re\n",
    "import random\n",
    "from sklearn.metrics import accuracy_score\n",
    "\n",
    "pd.options.display.max_columns = 30\n",
    "from IPython.core.interactiveshell import InteractiveShell\n",
    "\n",
    "InteractiveShell.ast_node_interactivity = \"all\"\n",
    "\n",
    "import pyLDAvis\n",
    "import pyLDAvis.sklearn\n",
    "\n",
    "pyLDAvis.enable_notebook()"
   ]
  },
  {
   "cell_type": "code",
   "execution_count": 97,
   "metadata": {},
   "outputs": [],
   "source": [
    "df = pd.read_csv(\"../data/csv/reviews_NLTK1686.csv\", encoding=\"latin-1\")"
   ]
  },
  {
   "cell_type": "code",
   "execution_count": 98,
   "metadata": {},
   "outputs": [
    {
     "data": {
      "text/html": [
       "<div>\n",
       "<style scoped>\n",
       "    .dataframe tbody tr th:only-of-type {\n",
       "        vertical-align: middle;\n",
       "    }\n",
       "\n",
       "    .dataframe tbody tr th {\n",
       "        vertical-align: top;\n",
       "    }\n",
       "\n",
       "    .dataframe thead th {\n",
       "        text-align: right;\n",
       "    }\n",
       "</style>\n",
       "<table border=\"1\" class=\"dataframe\">\n",
       "  <thead>\n",
       "    <tr style=\"text-align: right;\">\n",
       "      <th></th>\n",
       "      <th>beer_id</th>\n",
       "      <th>username</th>\n",
       "      <th>text</th>\n",
       "      <th>score</th>\n",
       "      <th>name</th>\n",
       "      <th>style</th>\n",
       "    </tr>\n",
       "  </thead>\n",
       "  <tbody>\n",
       "    <tr>\n",
       "      <th>0</th>\n",
       "      <td>5</td>\n",
       "      <td>woodychandler</td>\n",
       "      <td>I feel as though The CANQuest (TM) is once mor...</td>\n",
       "      <td>4.13</td>\n",
       "      <td>Amber</td>\n",
       "      <td>Vienna Lager</td>\n",
       "    </tr>\n",
       "    <tr>\n",
       "      <th>1</th>\n",
       "      <td>6</td>\n",
       "      <td>rickyleepotts</td>\n",
       "      <td>I have had this beer before, and all I can rem...</td>\n",
       "      <td>2.96</td>\n",
       "      <td>Turbodog</td>\n",
       "      <td>English Brown Ale</td>\n",
       "    </tr>\n",
       "    <tr>\n",
       "      <th>2</th>\n",
       "      <td>7</td>\n",
       "      <td>Jadjunk</td>\n",
       "      <td>#115. I haven't reviewed much by Abita Brewing...</td>\n",
       "      <td>3.67</td>\n",
       "      <td>Purple Haze</td>\n",
       "      <td>Fruit and Field Beer</td>\n",
       "    </tr>\n",
       "    <tr>\n",
       "      <th>3</th>\n",
       "      <td>10</td>\n",
       "      <td>bditty187</td>\n",
       "      <td>From notesÂ",
       " Batch #29 Dark brown in hue, damn...</td>\n",
       "      <td>3.86</td>\n",
       "      <td>Dubbel Ale</td>\n",
       "      <td>Belgian Dubbel</td>\n",
       "    </tr>\n",
       "    <tr>\n",
       "      <th>4</th>\n",
       "      <td>17</td>\n",
       "      <td>mikesgroove</td>\n",
       "      <td>So, going to GrandmaÂs for dinner tonight, an...</td>\n",
       "      <td>3.78</td>\n",
       "      <td>Widmer Hefeweizen</td>\n",
       "      <td>German Hefeweizen</td>\n",
       "    </tr>\n",
       "  </tbody>\n",
       "</table>\n",
       "</div>"
      ],
      "text/plain": [
       "   beer_id       username                                               text  \\\n",
       "0        5  woodychandler  I feel as though The CANQuest (TM) is once mor...   \n",
       "1        6  rickyleepotts  I have had this beer before, and all I can rem...   \n",
       "2        7        Jadjunk  #115. I haven't reviewed much by Abita Brewing...   \n",
       "3       10      bditty187  From notesÂ\n",
       " Batch #29 Dark brown in hue, damn...   \n",
       "4       17    mikesgroove  So, going to GrandmaÂs for dinner tonight, an...   \n",
       "\n",
       "   score               name                 style  \n",
       "0   4.13              Amber          Vienna Lager  \n",
       "1   2.96           Turbodog     English Brown Ale  \n",
       "2   3.67        Purple Haze  Fruit and Field Beer  \n",
       "3   3.86         Dubbel Ale        Belgian Dubbel  \n",
       "4   3.78  Widmer Hefeweizen     German Hefeweizen  "
      ]
     },
     "execution_count": 98,
     "metadata": {},
     "output_type": "execute_result"
    }
   ],
   "source": [
    "df.head()"
   ]
  },
  {
   "cell_type": "code",
   "execution_count": 99,
   "metadata": {},
   "outputs": [
    {
     "name": "stdout",
     "output_type": "stream",
     "text": [
      "We have 1686 beers in the data\n"
     ]
    }
   ],
   "source": [
    "print(\"We have\", len(df), \"beers in the data\")"
   ]
  },
  {
   "cell_type": "code",
   "execution_count": 100,
   "metadata": {},
   "outputs": [],
   "source": [
    "def print_description(index):\n",
    "    example = df[df.index == index][[\"text\", \"name\"]].values[0]\n",
    "    if len(example) > 0:\n",
    "        print(example[0])\n",
    "        print(\"Name:\", example[1])"
   ]
  },
  {
   "cell_type": "code",
   "execution_count": 101,
   "metadata": {},
   "outputs": [
    {
     "name": "stdout",
     "output_type": "stream",
     "text": [
      "Revisiting this ale nearly 5 years since my first encounter, this bottle's BB date is... DEC. 2017! Served cool in Gulden Draak's tulip-shaped bowl sniffer. A: super dark russet brown hue with mahogany shines, coming with a moderate carbonated body and a nicely lingering beige frothy head. S: very different from the Wee Heavy tasted immediately before this - Orkney Skullsplitter - the aroma here is not so pronounced in its overripe-fruit departments; it's low-profiled, more distinctive with a clear highlight of the yeastiness, comprising touches of cheese, salty-sweet butterscotch and a yeasty-maltiness not unlike a robust and estery Belgian dark ale. The sour hint of Chinese herbed prunes provides a suitable balancer with the yeasty hints as well as with the rich yet underlying flow of overripe fruitiness (prunes, apples, and figs mainly). T: a clean entry of faintly raisiny, sour black dates and black-sugary dark malts comes not sweet at all and pretty understated in taste actually, then the flavour seamlessly ventures into a slightly herbal and bitter aftertaste backed by a distinctive edge of wood-barrel ageing. In the finish, black sugar and a touch of dried herbs are coupled with a rather... \"tannic\"-chewy palate as of sour-yeastiness or wood-barrel ageing. Somehow, the complexity is not so... great in this bottle, but the overall impression is still all positive. M&D: fine and smooth on the carbonation, the body is medium at most, and it drinks absolutely light for a 7.2%abv. ale, although it does lack a kind of \"soul\" (or a really soft palate) that is the key to a \"live\" British ale. Compared with my first encounter almost 5 years ago, I'd say (just like with Orkney's Skullsplitter) this ale can't give me that \"oomph\" effect anymore; but before I get to taste the cask-version (should it be available), I'd still revisit this unique and special ale whenever possible. The balance and integrity are the strengths of this ale, no doubt about it. * Tasting Date: 13/10/05 Obtained this bottle from the London branch of the Royal Mile Whiskies Shop. BB date: DEC. 2014!!! Gosh, for a beer at just 7.2%abv. to boast this level of longevity takes incredible courage as well as unlimited self-confidence I think... 4.5 A: served in a big tulip-shaped wine glass, it pours a very dark, elegant ruby hue, with an initially thick beige head slowly dissipating and settling down to a thin layer of tight froth - looking very elegant for a British bottled beers~~ 5 S: the nose is incredibly malty and complex - profoundly sweet, but not intrusive, syrupy dark maltiness prevails along with a complex dark-fruit aroma mixed of preserved sweet date, plum jam and huge juicy raisins; plus a barley-candyish texture smelling so thick and delicious enough to eat... also at present is butterscotch note, or that profound buttery note of, guess what, Scottish shortbread... Overall, creamy, rich, rounded, laced with so many dark fruits while avoiding being overly sweet and thick; if only some exotic Belgian yeasts were used this beer could smell more complex and satisfying than a great bunch of Belgian strong dark ales! 4.5 T: full-bodied and almost oily-smooth texture of dark-maltiness and an intense flow of dark-fruitiness make a big entrance, bringing on board lots of buttery toffee, a tinge of roastiness, caramelised sugar, a rounded, bittersweet walnuty flavour, leaving a slowly intensifying dryish-bitterness as well as a mildly spicy-bitter touch developing at the deep end of the tongue; a slightly syrupy mouthfeel is left in the end, but not OTT, and the alc. touch is very restrained, only emerging deep down the throat at the very last, rather than from the beginning. 4.5 M: creamy, silky-smooth texture throughout; actually it tastes much much lighter and delicate for a 7.2%abv. malty brew... at the same time, the body is rich enough to buttress the full-flavour, and helps achieve a nice balance on the palate. 4.5 D: overall, this is an ultra-elegant beer with so much to offer - neither something you'd wish to savour every day, nor even for the second bottle on the same night - because it's so precious and rare, worth great patience until having next sip, and next bottle. Reviewing it \"within style\", I give it such high score over here, to reflect the fact that though this is just my second bottle of Wee Heavy, I already love it so much. Highly recommended!\n",
      "Name: Traquair House Ale\n"
     ]
    }
   ],
   "source": [
    "print_description(10)"
   ]
  },
  {
   "cell_type": "code",
   "execution_count": 102,
   "metadata": {},
   "outputs": [
    {
     "name": "stdout",
     "output_type": "stream",
     "text": [
      "It's time for another \"Good Idea, Bad Idea\". Good idea, drinking and reviewing awesome beers on BA. Bad idea, the existence of this beer. Well it's that time again, time for another Jared's Bad Beer Review. In this session, St. Pauli Girl, what I remember as being the most foul thing I've ever put into my mouth from years ago, the first and only time I've ever touched this thing. I almost wanted to skunk it more for the fun, but why bother. It's bad enough I'm sure. They even have the date on there, best by 03/2012, so it can't be that bad, can it?! And the cap is removed, no going back now. The pour yields a pasty white 1.5 finger fizzy but creamy semi thick but bubbly head, reminiscent of albino sperm, and fades with actual sperm like lacing. The beer is more clear than Boston water, less brown as well, it's golden colored like a fake tan. Nose, well not quite as bad as I remember actually. I'm a little turned off by not throwing up as I breath it in. It's actually somewhat breathable. I get some faint cracked straw and pilsner like malts, that breath a light juiciness almost as if it were at one point made with actual beer. Just a hint of skunked lager, not much by way of horridness actually. Granted I did pull this right out of a non-light penetrating case from a fridge, and directly into my fridge so very little light exposure. A light Bavarian malt aroma really seals the deal as an actual beer. Even the hops... wait just kidding, no hops were harmed in the making of this beer. Taste goes down hill a bit, but again not the super skunked re-vomited anal leakage I remember it being. It is pretty watery, more so than most German pilsners (real ones that is). Light cracked straw blends with watered pilsner malt and a hint of sweetness to bring real flavor to it. A decent lager crispness as well, but no real fruity flavors. As it rolls off my tongue faster and smoother than water (as it mostly it just water), the light flavor and mostly lack of flavor turn to a light hint of bitterness, with maybe a hint of grassy hops, I think they waved the 10 year old hops over the beer and a few lupulin glands fell in. Then a bit of a metallic twinge kicks in, just when I thought this beer was actually going to be refreshing. The metallic flavor really lingers making me have to go back and sip more so the watered down straw is overpowering the \"just chewed on tin foil\" flavor and now my mind is bringing the feel of it as well. Oy! Mouth is practically non-existant, FG of like 0.080, and actually not much carbonation either. Overall not as bad as I thought. The metallic flavor on the finish is the real downfall, but not really skunked, and not a huge mess either. I'm glad I tried this again, and did a full review. Perhaps I should give other piss beers a try again. This I would say is worlds better than the macro swill of U.S., and to tell the truth, I'm a little glad it surprised me in a good way. And hell, at least I got some entertainment out of writing this.\n",
      "Name: St. Pauli Girl\n"
     ]
    }
   ],
   "source": [
    "print_description(200)"
   ]
  },
  {
   "cell_type": "markdown",
   "metadata": {},
   "source": [
    "### Beer Review Text Length Distribution"
   ]
  },
  {
   "cell_type": "code",
   "execution_count": 103,
   "metadata": {},
   "outputs": [],
   "source": [
    "df[\"word_count\"] = df[\"text\"].apply(lambda x: len(str(x).split()))"
   ]
  },
  {
   "cell_type": "code",
   "execution_count": 104,
   "metadata": {},
   "outputs": [
    {
     "name": "stdout",
     "output_type": "stream",
     "text": [
      "Number of descriptions: 1686 \n",
      "Average word count 599.008896797153 \n",
      "Minimum word count 275 \n",
      "Maximum word count 973\n"
     ]
    }
   ],
   "source": [
    "desc_lengths = list(df[\"word_count\"])\n",
    "\n",
    "print(\n",
    "    \"Number of descriptions:\",\n",
    "    len(desc_lengths),\n",
    "    \"\\nAverage word count\",\n",
    "    np.average(desc_lengths),\n",
    "    \"\\nMinimum word count\",\n",
    "    min(desc_lengths),\n",
    "    \"\\nMaximum word count\",\n",
    "    max(desc_lengths),\n",
    ")"
   ]
  },
  {
   "cell_type": "markdown",
   "metadata": {},
   "source": [
    "### Preprocessing review description text \n"
   ]
  },
  {
   "cell_type": "code",
   "execution_count": 105,
   "metadata": {},
   "outputs": [
    {
     "name": "stderr",
     "output_type": "stream",
     "text": [
      "[nltk_data] Downloading package stopwords to\n",
      "[nltk_data]     /Users/sheetalbongale/nltk_data...\n",
      "[nltk_data]   Package stopwords is already up-to-date!\n"
     ]
    },
    {
     "data": {
      "text/plain": [
       "True"
      ]
     },
     "execution_count": 105,
     "metadata": {},
     "output_type": "execute_result"
    }
   ],
   "source": [
    "import nltk\n",
    "\n",
    "nltk.download(\"stopwords\")"
   ]
  },
  {
   "cell_type": "code",
   "execution_count": 106,
   "metadata": {},
   "outputs": [
    {
     "data": {
      "text/plain": [
       "beer_id         int64\n",
       "username       object\n",
       "text           object\n",
       "score         float64\n",
       "name           object\n",
       "style          object\n",
       "word_count      int64\n",
       "dtype: object"
      ]
     },
     "execution_count": 106,
     "metadata": {},
     "output_type": "execute_result"
    }
   ],
   "source": [
    "df.dtypes"
   ]
  },
  {
   "cell_type": "code",
   "execution_count": 107,
   "metadata": {},
   "outputs": [],
   "source": [
    "df[\"text\"] = df[\"text\"].astype(str)"
   ]
  },
  {
   "cell_type": "code",
   "execution_count": 108,
   "metadata": {},
   "outputs": [
    {
     "name": "stderr",
     "output_type": "stream",
     "text": [
      "<>:1: DeprecationWarning: invalid escape sequence \\[\n",
      "<>:1: DeprecationWarning: invalid escape sequence \\[\n",
      "<ipython-input-108-275b553143ac>:1: DeprecationWarning: invalid escape sequence \\[\n",
      "  REPLACE_BY_SPACE_RE = re.compile(\"[/(){}\\[\\]\\|@,;]\")\n"
     ]
    }
   ],
   "source": [
    "REPLACE_BY_SPACE_RE = re.compile(\"[/(){}\\[\\]\\|@,;]\")\n",
    "BAD_SYMBOLS_RE = re.compile(\"[^0-9a-z #+_Â]\")\n",
    "STOPWORDS = set(stopwords.words(\"english\"))\n",
    "\n",
    "\n",
    "def clean_text(text):\n",
    "    \"\"\"\n",
    "        text: a string\n",
    "        \n",
    "        return: modified initial string\n",
    "    \"\"\"\n",
    "    text = text.lower()  # lowercase text\n",
    "    text = REPLACE_BY_SPACE_RE.sub(\n",
    "        \" \", text\n",
    "    )  # replace REPLACE_BY_SPACE_RE symbols by space in text. substitute the matched string in REPLACE_BY_SPACE_RE with space.\n",
    "    text = BAD_SYMBOLS_RE.sub(\n",
    "        \"\", text\n",
    "    )  # remove symbols which are in BAD_SYMBOLS_RE from text. substitute the matched string in BAD_SYMBOLS_RE with nothing.\n",
    "    text = \" \".join(\n",
    "        word for word in text.split() if word not in STOPWORDS\n",
    "    )  # remove stopwors from text\n",
    "    return text\n",
    "\n",
    "\n",
    "df[\"desc_clean\"] = df[\"text\"].apply(clean_text)"
   ]
  },
  {
   "cell_type": "code",
   "execution_count": 109,
   "metadata": {},
   "outputs": [
    {
     "name": "stdout",
     "output_type": "stream",
     "text": [
      "feel though canquest tm gaining traction recent visit pinocchios netted abita cans anxious give try remember one industry professional telling ambers dead gar hope ambers take many forms knowing difficult work lager yeast duly impressed red ale got rocky finger tawny head pour hung around long could humidity evening color beautiful orangishamber nequality clarity nose malty also clean mouthfeel full nearly thick malty sweetness reminded hot cereal oatmeal cream wheat finish semisweet sweet cloying means pleasant would nice beer cooler hot day visit beach bottle also review original canquest tm takes precedence today good friday f 25 march 2016 bottle abita amber munich style lager brewed pale caramel malts german perle hops smooth malty caramel flavor rich amber color one first popular brews amber pairs well many foods popped cap gave semiagro pour try might could raise much way head even inglass swirl failed create anything mere skim wisps atop beer color deep amber light copper copper srm 13 17 nequality clarity nose nutty sweetness like pecans almonds involved accompanied definite caramel malt sugariness mouthfeel medium taste seemed really sweet much like caramel general undefined sugary sweetness finish likewise sweet cloying clearly enjoyed canned version much\n",
      "Name: Amber\n"
     ]
    }
   ],
   "source": [
    "def print_description(index):\n",
    "    example = df[df.index == index][[\"desc_clean\", \"name\"]].values[0]\n",
    "    if len(example) > 0:\n",
    "        print(example[0])\n",
    "        print(\"Name:\", example[1])\n",
    "\n",
    "\n",
    "print_description(0)"
   ]
  },
  {
   "cell_type": "code",
   "execution_count": 110,
   "metadata": {},
   "outputs": [
    {
     "name": "stdout",
     "output_type": "stream",
     "text": [
      "time another good idea bad idea good idea drinking reviewing awesome beers ba bad idea existence beer well time time another jareds bad beer review session st pauli girl remember foul thing ive ever put mouth years ago first time ive ever touched thing almost wanted skunk fun bother bad enough im sure even date best 03 2012 cant bad cap removed going back pour yields pasty white 15 finger fizzy creamy semi thick bubbly head reminiscent albino sperm fades actual sperm like lacing beer clear boston water less brown well golden colored like fake tan nose well quite bad remember actually im little turned throwing breath actually somewhat breathable get faint cracked straw pilsner like malts breath light juiciness almost one point made actual beer hint skunked lager much way horridness actually granted pull right nonlight penetrating case fridge directly fridge little light exposure light bavarian malt aroma really seals deal actual beer even hops wait kidding hops harmed making beer taste goes hill bit super skunked revomited anal leakage remember pretty watery german pilsners real ones light cracked straw blends watered pilsner malt hint sweetness bring real flavor decent lager crispness well real fruity flavors rolls tongue faster smoother water mostly water light flavor mostly lack flavor turn light hint bitterness maybe hint grassy hops think waved 10 year old hops beer lupulin glands fell bit metallic twinge kicks thought beer actually going refreshing metallic flavor really lingers making go back sip watered straw overpowering chewed tin foil flavor mind bringing feel well oy mouth practically nonexistant fg like 0080 actually much carbonation either overall bad thought metallic flavor finish real downfall really skunked huge mess either im glad tried full review perhaps give piss beers try would say worlds better macro swill us tell truth im little glad surprised good way hell least got entertainment writing\n",
      "Name: St. Pauli Girl\n"
     ]
    }
   ],
   "source": [
    "print_description(200)"
   ]
  },
  {
   "cell_type": "code",
   "execution_count": 111,
   "metadata": {},
   "outputs": [],
   "source": [
    "df.set_index(\"name\", inplace=True)"
   ]
  },
  {
   "cell_type": "code",
   "execution_count": 120,
   "metadata": {},
   "outputs": [],
   "source": [
    "tf = TfidfVectorizer(\n",
    "    analyzer=\"word\", ngram_range=(2, 3), min_df=0, stop_words=\"english\"\n",
    ")\n",
    "tfidf_matrix = tf.fit_transform(df[\"desc_clean\"])\n",
    "cosine_similarities = linear_kernel(tfidf_matrix, tfidf_matrix)"
   ]
  },
  {
   "cell_type": "code",
   "execution_count": 121,
   "metadata": {},
   "outputs": [],
   "source": [
    "indices = pd.Series(df.index)"
   ]
  },
  {
   "cell_type": "code",
   "execution_count": 122,
   "metadata": {},
   "outputs": [
    {
     "data": {
      "text/plain": [
       "0                                                 Amber\n",
       "1                                              Turbodog\n",
       "2                                           Purple Haze\n",
       "3                                            Dubbel Ale\n",
       "4                                     Widmer Hefeweizen\n",
       "5                             Mackeson Triple XXX Stout\n",
       "6                                        Trois Pistoles\n",
       "7                                    Blanche De Chambly\n",
       "8                                               Maudite\n",
       "9                                       La Fin Du Monde\n",
       "10                                   Traquair House Ale\n",
       "11                                           Alpha King\n",
       "12                                            Grand Cru\n",
       "13                                                White\n",
       "14                                        Anchor Porter\n",
       "15                                    Anchor Steam Beer\n",
       "16                                            Budweiser\n",
       "17                       Young's Double Chocolate Stout\n",
       "18                                Post Road Pumpkin Ale\n",
       "19    Blanche De Bruxelles / Manneken Pis Belgian White\n",
       "20                                            Wee Heavy\n",
       "21                                   Beck's Oktoberfest\n",
       "22                                   Coffeehouse Porter\n",
       "23                                             Pale Ale\n",
       "24                                                  IPA\n",
       "25                           Lost Sailor India Pale Ale\n",
       "26                                        Smoked Porter\n",
       "27                                 Arrogant Bastard Ale\n",
       "28                           Black Bavarian Style Lager\n",
       "29                                     Spaten Optimator\n",
       "30                   Blue Moon Harvest Moon Pumpkin Ale\n",
       "31                            Samuel Adams Winter Lager\n",
       "32                             Samuel Adams Octoberfest\n",
       "33                              Samuel Adams Summer Ale\n",
       "34                            Samuel Adams Boston Lager\n",
       "35                            Samuel Adams Cherry Wheat\n",
       "36                             Samuel Adams Triple Bock\n",
       "37                                  Butthead Doppelbock\n",
       "38                                  Maple Nut Brown Ale\n",
       "39                                   Orval Trappist Ale\n",
       "40                                           Celebrator\n",
       "41                                 Ayinger BrÃ¤u Weisse\n",
       "42                             Ayinger Jahrhundert Bier\n",
       "43                           Ayinger Altbairisch Dunkel\n",
       "44                                    Ayinger Ur-Weisse\n",
       "45                                      KÃ¶nig Pilsener\n",
       "46                   Corsendonk Pater / Abbey Brown Ale\n",
       "47                           Agnus Dei (Abbey Pale Ale)\n",
       "48                             Corsendonk Christmas Ale\n",
       "49                                             Hennepin\n",
       "Name: name, dtype: object"
      ]
     },
     "execution_count": 122,
     "metadata": {},
     "output_type": "execute_result"
    }
   ],
   "source": [
    "indices[:50]"
   ]
  },
  {
   "cell_type": "code",
   "execution_count": 123,
   "metadata": {},
   "outputs": [],
   "source": [
    "def recommendations(name, cosine_similarities=cosine_similarities):\n",
    "\n",
    "    recommended_beers = []\n",
    "\n",
    "    # gettin the index of the beer that matches the name\n",
    "    idx = indices[indices == name].index[0]\n",
    "\n",
    "    # creating a Series with the similarity scores in descending order\n",
    "    score_series = pd.Series(cosine_similarities[idx]).sort_values(ascending=False)\n",
    "\n",
    "    # getting the indexes of the 10 most similar beer except itself\n",
    "    top_10_indexes = list(score_series.iloc[1:11].index)\n",
    "    print(score_series.iloc[1:11])\n",
    "\n",
    "    # populating the list with the names of the top 10 matching beers\n",
    "    for i in top_10_indexes:\n",
    "        recommended_beers.append(list(df.index)[i])\n",
    "\n",
    "    return recommended_beers"
   ]
  },
  {
   "cell_type": "code",
   "execution_count": 124,
   "metadata": {},
   "outputs": [
    {
     "name": "stdout",
     "output_type": "stream",
     "text": [
      "98      0.046232\n",
      "1355    0.023741\n",
      "1014    0.019565\n",
      "1643    0.019498\n",
      "101     0.018839\n",
      "1504    0.016843\n",
      "1410    0.015325\n",
      "99      0.013884\n",
      "402     0.013102\n",
      "1612    0.011933\n",
      "dtype: float64\n"
     ]
    },
    {
     "data": {
      "text/plain": [
       "['Sierra Nevada Pale Ale',\n",
       " 'Sierra Nevada Estate Brewers Harvest Ale',\n",
       " 'Torpedo Extra IPA',\n",
       " 'Second Fiddle',\n",
       " 'Sierra Nevada Wheat Beer',\n",
       " 'Best Of Beer Camp: California Common - Beer Camp #8',\n",
       " \"30th Anniversary - Fritz And Ken's Ale\",\n",
       " 'Porter',\n",
       " 'Sierra Nevada India Pale Ale',\n",
       " 'Flipside Red IPA']"
      ]
     },
     "execution_count": 124,
     "metadata": {},
     "output_type": "execute_result"
    }
   ],
   "source": [
    "recommendations(\"Hazy Little Thing IPA\")"
   ]
  },
  {
   "cell_type": "code",
   "execution_count": 125,
   "metadata": {},
   "outputs": [
    {
     "name": "stdout",
     "output_type": "stream",
     "text": [
      "320     0.235412\n",
      "733     0.224747\n",
      "1119    0.200300\n",
      "952     0.190512\n",
      "32      0.187793\n",
      "30      0.168832\n",
      "797     0.164552\n",
      "155     0.160932\n",
      "31      0.158118\n",
      "298     0.144466\n",
      "dtype: float64\n"
     ]
    },
    {
     "data": {
      "text/plain": [
       "['Pyramid Hefeweizen',\n",
       " 'Samuel Adams White Ale',\n",
       " 'Blue Moon Honey Moon Summer Ale',\n",
       " 'Pyramid Apricot Ale',\n",
       " 'Samuel Adams Octoberfest',\n",
       " 'Blue Moon Harvest Moon Pumpkin Ale',\n",
       " 'Redhook Winterhook',\n",
       " 'Spaten Oktoberfestbier Ur-MÃ¤rzen',\n",
       " 'Samuel Adams Winter Lager',\n",
       " 'Redhook ESB']"
      ]
     },
     "execution_count": 125,
     "metadata": {},
     "output_type": "execute_result"
    }
   ],
   "source": [
    "recommendations(\"Samuel Adams Summer Ale\")"
   ]
  },
  {
   "cell_type": "code",
   "execution_count": 126,
   "metadata": {},
   "outputs": [
    {
     "name": "stdout",
     "output_type": "stream",
     "text": [
      "83      0.059339\n",
      "781     0.008774\n",
      "235     0.007242\n",
      "604     0.007043\n",
      "693     0.006685\n",
      "1117    0.006327\n",
      "211     0.005964\n",
      "1390    0.005585\n",
      "533     0.005194\n",
      "399     0.005079\n",
      "dtype: float64\n"
     ]
    },
    {
     "data": {
      "text/plain": [
       "['Corona Light',\n",
       " 'Morimoto Imperial Pilsner',\n",
       " \"Mickey's\",\n",
       " 'Rugged Trail Nut Brown Ale',\n",
       " 'Northern Hemisphere Harvest Wet Hop IPA',\n",
       " 'Wailua Wheat',\n",
       " \"He'Brew Genesis Ale (Old Version)\",\n",
       " 'Sierra Nevada Glissade Golden Bock',\n",
       " 'Maredsous 8 - Brune',\n",
       " 'Winter Ale']"
      ]
     },
     "execution_count": 126,
     "metadata": {},
     "output_type": "execute_result"
    }
   ],
   "source": [
    "recommendations(\"Corona Extra\")"
   ]
  },
  {
   "cell_type": "markdown",
   "metadata": {},
   "source": [
    "### These are not exactly great recommendations for a Corona Lover"
   ]
  },
  {
   "cell_type": "code",
   "execution_count": 74,
   "metadata": {},
   "outputs": [
    {
     "data": {
      "text/plain": [
       "array([[1.        , 0.01667019, 0.        , ..., 0.        , 0.0484561 ,\n",
       "        0.        ],\n",
       "       [0.01667019, 1.        , 0.        , ..., 0.        , 0.        ,\n",
       "        0.        ],\n",
       "       [0.        , 0.        , 1.        , ..., 0.        , 0.        ,\n",
       "        0.        ],\n",
       "       ...,\n",
       "       [0.        , 0.        , 0.        , ..., 1.        , 0.        ,\n",
       "        0.        ],\n",
       "       [0.0484561 , 0.        , 0.        , ..., 0.        , 1.        ,\n",
       "        0.        ],\n",
       "       [0.        , 0.        , 0.        , ..., 0.        , 0.        ,\n",
       "        1.        ]])"
      ]
     },
     "execution_count": 74,
     "metadata": {},
     "output_type": "execute_result"
    }
   ],
   "source": [
    "cosine_similarities"
   ]
  },
  {
   "cell_type": "code",
   "execution_count": 119,
   "metadata": {},
   "outputs": [
    {
     "name": "stdout",
     "output_type": "stream",
     "text": [
      "543     0.529969\n",
      "799     0.348127\n",
      "840     0.335035\n",
      "1612    0.329352\n",
      "1238    0.323763\n",
      "312     0.320974\n",
      "1055    0.320538\n",
      "716     0.302118\n",
      "673     0.289096\n",
      "1614    0.281792\n",
      "dtype: float64\n"
     ]
    },
    {
     "data": {
      "text/plain": [
       "['Uff-da',\n",
       " 'Samuel Adams Chocolate Bock',\n",
       " 'Hop Sun (Summer Wheat Beer)',\n",
       " 'Flipside Red IPA',\n",
       " '400 Pound Monkey',\n",
       " \"Raison D'Ã\\x8atre\",\n",
       " 'Lager of The Lakes',\n",
       " 'Sisyphus',\n",
       " 'Staghorn Octoberfest',\n",
       " 'Accumulation']"
      ]
     },
     "execution_count": 119,
     "metadata": {},
     "output_type": "execute_result"
    }
   ],
   "source": [
    "recommendations(\"Shiner Bock\")"
   ]
  },
  {
   "cell_type": "code",
   "execution_count": 127,
   "metadata": {},
   "outputs": [
    {
     "name": "stdout",
     "output_type": "stream",
     "text": [
      "359     0.019193\n",
      "691     0.011363\n",
      "6       0.011282\n",
      "636     0.010804\n",
      "1575    0.010200\n",
      "1270    0.009908\n",
      "161     0.009672\n",
      "89      0.009510\n",
      "236     0.009469\n",
      "846     0.009286\n",
      "dtype: float64\n"
     ]
    },
    {
     "data": {
      "text/plain": [
       "['Delirium Nocturnum',\n",
       " \"Dale's Pale Ale\",\n",
       " 'Trois Pistoles',\n",
       " 'Matilda',\n",
       " 'Organic Chocolate Stout',\n",
       " 'Vienna Lager',\n",
       " 'Fat Tire Belgian Style Ale',\n",
       " 'Heineken Lager Beer',\n",
       " 'Bass Pale Ale',\n",
       " 'Twilight Summer Ale']"
      ]
     },
     "execution_count": 127,
     "metadata": {},
     "output_type": "execute_result"
    }
   ],
   "source": [
    "recommendations(\"Salvator Doppel Bock\")"
   ]
  },
  {
   "cell_type": "code",
   "execution_count": null,
   "metadata": {},
   "outputs": [],
   "source": []
  }
 ],
 "metadata": {
  "kernelspec": {
   "display_name": "Ale-gorithm",
   "language": "python",
   "name": "python3"
  },
  "language_info": {
   "codemirror_mode": {
    "name": "ipython",
    "version": 3
   },
   "file_extension": ".py",
   "mimetype": "text/x-python",
   "name": "python",
   "nbconvert_exporter": "python",
   "pygments_lexer": "ipython3",
   "version": "3.8.0"
  }
 },
 "nbformat": 4,
 "nbformat_minor": 2
}
