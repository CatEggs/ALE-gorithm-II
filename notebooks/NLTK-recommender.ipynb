{
 "cells": [
  {
   "cell_type": "markdown",
   "metadata": {},
   "source": [
    "## Beer Recommender using Content Based Recommender System"
   ]
  },
  {
   "cell_type": "code",
   "execution_count": 38,
   "metadata": {},
   "outputs": [],
   "source": [
    "# Dependencies and packages\n",
    "%reload_ext lab_black\n",
    "import pandas as pd\n",
    "import numpy as np\n",
    "from nltk.corpus import stopwords\n",
    "from sklearn.metrics.pairwise import linear_kernel\n",
    "from sklearn.feature_extraction.text import CountVectorizer\n",
    "from sklearn.feature_extraction.text import TfidfVectorizer\n",
    "from sklearn.decomposition import LatentDirichletAllocation\n",
    "import re\n",
    "import random\n",
    "from sklearn.metrics import accuracy_score\n",
    "\n",
    "pd.options.display.max_columns = 30\n",
    "from IPython.core.interactiveshell import InteractiveShell\n",
    "\n",
    "InteractiveShell.ast_node_interactivity = \"all\"\n",
    "\n",
    "import pyLDAvis\n",
    "import pyLDAvis.sklearn\n",
    "\n",
    "pyLDAvis.enable_notebook()"
   ]
  },
  {
   "cell_type": "code",
   "execution_count": 8,
   "metadata": {},
   "outputs": [],
   "source": [
    "df = pd.read_csv(\"../data/csv/reviews_NLTK1686.csv\", encoding=\"latin-1\")"
   ]
  },
  {
   "cell_type": "code",
   "execution_count": 9,
   "metadata": {},
   "outputs": [
    {
     "data": {
      "text/html": [
       "<div>\n",
       "<style scoped>\n",
       "    .dataframe tbody tr th:only-of-type {\n",
       "        vertical-align: middle;\n",
       "    }\n",
       "\n",
       "    .dataframe tbody tr th {\n",
       "        vertical-align: top;\n",
       "    }\n",
       "\n",
       "    .dataframe thead th {\n",
       "        text-align: right;\n",
       "    }\n",
       "</style>\n",
       "<table border=\"1\" class=\"dataframe\">\n",
       "  <thead>\n",
       "    <tr style=\"text-align: right;\">\n",
       "      <th></th>\n",
       "      <th>beer_id</th>\n",
       "      <th>username</th>\n",
       "      <th>text</th>\n",
       "      <th>score</th>\n",
       "      <th>name</th>\n",
       "      <th>style</th>\n",
       "    </tr>\n",
       "  </thead>\n",
       "  <tbody>\n",
       "    <tr>\n",
       "      <th>0</th>\n",
       "      <td>5</td>\n",
       "      <td>bry5o5</td>\n",
       "      <td>Carmel-y, malty, tasty! Very well balanced beer.</td>\n",
       "      <td>4.89</td>\n",
       "      <td>Amber</td>\n",
       "      <td>Vienna Lager</td>\n",
       "    </tr>\n",
       "    <tr>\n",
       "      <th>1</th>\n",
       "      <td>6</td>\n",
       "      <td>LeonardFournette</td>\n",
       "      <td>Chocolatey, pretty strong hoppiness but anothe...</td>\n",
       "      <td>5.00</td>\n",
       "      <td>Turbodog</td>\n",
       "      <td>English Brown Ale</td>\n",
       "    </tr>\n",
       "    <tr>\n",
       "      <th>2</th>\n",
       "      <td>7</td>\n",
       "      <td>Sreyn2</td>\n",
       "      <td>Smooth</td>\n",
       "      <td>5.00</td>\n",
       "      <td>Purple Haze</td>\n",
       "      <td>Fruit and Field Beer</td>\n",
       "    </tr>\n",
       "    <tr>\n",
       "      <th>3</th>\n",
       "      <td>10</td>\n",
       "      <td>RBorsato</td>\n",
       "      <td>Burgundy, mahogany with a nice light brown hea...</td>\n",
       "      <td>4.92</td>\n",
       "      <td>Dubbel Ale</td>\n",
       "      <td>Belgian Dubbel</td>\n",
       "    </tr>\n",
       "    <tr>\n",
       "      <th>4</th>\n",
       "      <td>17</td>\n",
       "      <td>jschalch08</td>\n",
       "      <td>Really good tasting wheat beer</td>\n",
       "      <td>5.00</td>\n",
       "      <td>Widmer Hefeweizen</td>\n",
       "      <td>German Hefeweizen</td>\n",
       "    </tr>\n",
       "  </tbody>\n",
       "</table>\n",
       "</div>"
      ],
      "text/plain": [
       "   beer_id          username  \\\n",
       "0        5            bry5o5   \n",
       "1        6  LeonardFournette   \n",
       "2        7            Sreyn2   \n",
       "3       10          RBorsato   \n",
       "4       17        jschalch08   \n",
       "\n",
       "                                                text  score  \\\n",
       "0   Carmel-y, malty, tasty! Very well balanced beer.   4.89   \n",
       "1  Chocolatey, pretty strong hoppiness but anothe...   5.00   \n",
       "2                                             Smooth   5.00   \n",
       "3  Burgundy, mahogany with a nice light brown hea...   4.92   \n",
       "4                     Really good tasting wheat beer   5.00   \n",
       "\n",
       "                name                 style  \n",
       "0              Amber          Vienna Lager  \n",
       "1           Turbodog     English Brown Ale  \n",
       "2        Purple Haze  Fruit and Field Beer  \n",
       "3         Dubbel Ale        Belgian Dubbel  \n",
       "4  Widmer Hefeweizen     German Hefeweizen  "
      ]
     },
     "execution_count": 9,
     "metadata": {},
     "output_type": "execute_result"
    }
   ],
   "source": [
    "df.head()"
   ]
  },
  {
   "cell_type": "code",
   "execution_count": 10,
   "metadata": {},
   "outputs": [
    {
     "name": "stdout",
     "output_type": "stream",
     "text": [
      "We have 1686 beers in the data\n"
     ]
    }
   ],
   "source": [
    "print(\"We have\", len(df), \"beers in the data\")"
   ]
  },
  {
   "cell_type": "code",
   "execution_count": 11,
   "metadata": {},
   "outputs": [],
   "source": [
    "def print_description(index):\n",
    "    example = df[df.index == index][[\"text\", \"name\"]].values[0]\n",
    "    if len(example) > 0:\n",
    "        print(example[0])\n",
    "        print(\"Name:\", example[1])"
   ]
  },
  {
   "cell_type": "code",
   "execution_count": 12,
   "metadata": {},
   "outputs": [
    {
     "name": "stdout",
     "output_type": "stream",
     "text": [
      "Now this is a true Scottish Wee Heavy.. Very beautiful looking beer with a nice smooth smelling malt and the taste is unreal with grate tasting malts and no hop taste to speak of, Which is how a Wee Heavy is supposed to be....\n",
      "Name: Traquair House Ale\n"
     ]
    }
   ],
   "source": [
    "print_description(10)"
   ]
  },
  {
   "cell_type": "code",
   "execution_count": 13,
   "metadata": {},
   "outputs": [
    {
     "name": "stdout",
     "output_type": "stream",
     "text": [
      "This is my absolute favorite beer of all time. I think it tastes great, even if it does not have a reputation of being an excellent beer. To me, it is just a higher quality, slightly more sophisticated version of domestic party and game-day beers like Budweiser and Miller, and if that does't sound appealing to you, then I don't know what to tell you.\n",
      "Name: St. Pauli Girl\n"
     ]
    }
   ],
   "source": [
    "print_description(200)"
   ]
  },
  {
   "cell_type": "markdown",
   "metadata": {},
   "source": [
    "### Beer Review Text Length Distribution"
   ]
  },
  {
   "cell_type": "code",
   "execution_count": 14,
   "metadata": {},
   "outputs": [],
   "source": [
    "df[\"word_count\"] = df[\"text\"].apply(lambda x: len(str(x).split()))"
   ]
  },
  {
   "cell_type": "code",
   "execution_count": 15,
   "metadata": {},
   "outputs": [
    {
     "name": "stdout",
     "output_type": "stream",
     "text": [
      "Number of descriptions: 1686 \n",
      "Average word count 72.96975088967972 \n",
      "Minimum word count 1 \n",
      "Maximum word count 690\n"
     ]
    }
   ],
   "source": [
    "desc_lengths = list(df[\"word_count\"])\n",
    "\n",
    "print(\n",
    "    \"Number of descriptions:\",\n",
    "    len(desc_lengths),\n",
    "    \"\\nAverage word count\",\n",
    "    np.average(desc_lengths),\n",
    "    \"\\nMinimum word count\",\n",
    "    min(desc_lengths),\n",
    "    \"\\nMaximum word count\",\n",
    "    max(desc_lengths),\n",
    ")"
   ]
  },
  {
   "cell_type": "markdown",
   "metadata": {},
   "source": [
    "### Preprocessing review description text \n"
   ]
  },
  {
   "cell_type": "code",
   "execution_count": 16,
   "metadata": {},
   "outputs": [
    {
     "name": "stderr",
     "output_type": "stream",
     "text": [
      "[nltk_data] Downloading package stopwords to\n",
      "[nltk_data]     /Users/sheetalbongale/nltk_data...\n",
      "[nltk_data]   Package stopwords is already up-to-date!\n"
     ]
    },
    {
     "data": {
      "text/plain": [
       "True"
      ]
     },
     "execution_count": 16,
     "metadata": {},
     "output_type": "execute_result"
    }
   ],
   "source": [
    "import nltk\n",
    "\n",
    "nltk.download(\"stopwords\")"
   ]
  },
  {
   "cell_type": "code",
   "execution_count": 17,
   "metadata": {},
   "outputs": [
    {
     "data": {
      "text/plain": [
       "beer_id         int64\n",
       "username       object\n",
       "text           object\n",
       "score         float64\n",
       "name           object\n",
       "style          object\n",
       "word_count      int64\n",
       "dtype: object"
      ]
     },
     "execution_count": 17,
     "metadata": {},
     "output_type": "execute_result"
    }
   ],
   "source": [
    "df.dtypes"
   ]
  },
  {
   "cell_type": "code",
   "execution_count": 18,
   "metadata": {},
   "outputs": [],
   "source": [
    "df[\"text\"] = df[\"text\"].astype(str)"
   ]
  },
  {
   "cell_type": "code",
   "execution_count": 19,
   "metadata": {},
   "outputs": [
    {
     "name": "stderr",
     "output_type": "stream",
     "text": [
      "<>:1: DeprecationWarning: invalid escape sequence \\[\n",
      "<>:1: DeprecationWarning: invalid escape sequence \\[\n",
      "<ipython-input-19-275b553143ac>:1: DeprecationWarning: invalid escape sequence \\[\n",
      "  REPLACE_BY_SPACE_RE = re.compile(\"[/(){}\\[\\]\\|@,;]\")\n"
     ]
    }
   ],
   "source": [
    "REPLACE_BY_SPACE_RE = re.compile(\"[/(){}\\[\\]\\|@,;]\")\n",
    "BAD_SYMBOLS_RE = re.compile(\"[^0-9a-z #+_Â]\")\n",
    "STOPWORDS = set(stopwords.words(\"english\"))\n",
    "\n",
    "\n",
    "def clean_text(text):\n",
    "    \"\"\"\n",
    "        text: a string\n",
    "        \n",
    "        return: modified initial string\n",
    "    \"\"\"\n",
    "    text = text.lower()  # lowercase text\n",
    "    text = REPLACE_BY_SPACE_RE.sub(\n",
    "        \" \", text\n",
    "    )  # replace REPLACE_BY_SPACE_RE symbols by space in text. substitute the matched string in REPLACE_BY_SPACE_RE with space.\n",
    "    text = BAD_SYMBOLS_RE.sub(\n",
    "        \"\", text\n",
    "    )  # remove symbols which are in BAD_SYMBOLS_RE from text. substitute the matched string in BAD_SYMBOLS_RE with nothing.\n",
    "    text = \" \".join(\n",
    "        word for word in text.split() if word not in STOPWORDS\n",
    "    )  # remove stopwors from text\n",
    "    return text\n",
    "\n",
    "\n",
    "df[\"desc_clean\"] = df[\"text\"].apply(clean_text)"
   ]
  },
  {
   "cell_type": "code",
   "execution_count": 20,
   "metadata": {},
   "outputs": [
    {
     "name": "stdout",
     "output_type": "stream",
     "text": [
      "carmely malty tasty well balanced beer\n",
      "Name: Amber\n"
     ]
    }
   ],
   "source": [
    "def print_description(index):\n",
    "    example = df[df.index == index][[\"desc_clean\", \"name\"]].values[0]\n",
    "    if len(example) > 0:\n",
    "        print(example[0])\n",
    "        print(\"Name:\", example[1])\n",
    "\n",
    "\n",
    "print_description(0)"
   ]
  },
  {
   "cell_type": "code",
   "execution_count": 21,
   "metadata": {},
   "outputs": [
    {
     "name": "stdout",
     "output_type": "stream",
     "text": [
      "absolute favorite beer time think tastes great even reputation excellent beer higher quality slightly sophisticated version domestic party gameday beers like budweiser miller doest sound appealing dont know tell\n",
      "Name: St. Pauli Girl\n"
     ]
    }
   ],
   "source": [
    "print_description(200)"
   ]
  },
  {
   "cell_type": "code",
   "execution_count": 29,
   "metadata": {},
   "outputs": [],
   "source": [
    "df.set_index(\"name\", inplace=True)"
   ]
  },
  {
   "cell_type": "code",
   "execution_count": 55,
   "metadata": {},
   "outputs": [],
   "source": [
    "tf = TfidfVectorizer(\n",
    "    analyzer=\"word\", ngram_range=(0, 1), min_df=0, stop_words=\"english\"\n",
    ")\n",
    "tfidf_matrix = tf.fit_transform(df[\"desc_clean\"])\n",
    "cosine_similarities = linear_kernel(tfidf_matrix, tfidf_matrix)"
   ]
  },
  {
   "cell_type": "code",
   "execution_count": 56,
   "metadata": {},
   "outputs": [],
   "source": [
    "indices = pd.Series(df.index)"
   ]
  },
  {
   "cell_type": "code",
   "execution_count": 57,
   "metadata": {},
   "outputs": [
    {
     "data": {
      "text/plain": [
       "0                                                 Amber\n",
       "1                                              Turbodog\n",
       "2                                           Purple Haze\n",
       "3                                            Dubbel Ale\n",
       "4                                     Widmer Hefeweizen\n",
       "5                             Mackeson Triple XXX Stout\n",
       "6                                        Trois Pistoles\n",
       "7                                    Blanche De Chambly\n",
       "8                                               Maudite\n",
       "9                                       La Fin Du Monde\n",
       "10                                   Traquair House Ale\n",
       "11                                           Alpha King\n",
       "12                                            Grand Cru\n",
       "13                                                White\n",
       "14                                        Anchor Porter\n",
       "15                                    Anchor Steam Beer\n",
       "16                                            Budweiser\n",
       "17                       Young's Double Chocolate Stout\n",
       "18                                Post Road Pumpkin Ale\n",
       "19    Blanche De Bruxelles / Manneken Pis Belgian White\n",
       "20                                            Wee Heavy\n",
       "21                                   Beck's Oktoberfest\n",
       "22                                   Coffeehouse Porter\n",
       "23                                             Pale Ale\n",
       "24                                                  IPA\n",
       "25                           Lost Sailor India Pale Ale\n",
       "26                                        Smoked Porter\n",
       "27                                 Arrogant Bastard Ale\n",
       "28                           Black Bavarian Style Lager\n",
       "29                                     Spaten Optimator\n",
       "30                   Blue Moon Harvest Moon Pumpkin Ale\n",
       "31                            Samuel Adams Winter Lager\n",
       "32                             Samuel Adams Octoberfest\n",
       "33                              Samuel Adams Summer Ale\n",
       "34                            Samuel Adams Boston Lager\n",
       "35                            Samuel Adams Cherry Wheat\n",
       "36                             Samuel Adams Triple Bock\n",
       "37                                  Butthead Doppelbock\n",
       "38                                  Maple Nut Brown Ale\n",
       "39                                   Orval Trappist Ale\n",
       "40                                           Celebrator\n",
       "41                                 Ayinger BrÃ¤u Weisse\n",
       "42                             Ayinger Jahrhundert Bier\n",
       "43                           Ayinger Altbairisch Dunkel\n",
       "44                                    Ayinger Ur-Weisse\n",
       "45                                      KÃ¶nig Pilsener\n",
       "46                   Corsendonk Pater / Abbey Brown Ale\n",
       "47                           Agnus Dei (Abbey Pale Ale)\n",
       "48                             Corsendonk Christmas Ale\n",
       "49                                             Hennepin\n",
       "Name: name, dtype: object"
      ]
     },
     "execution_count": 57,
     "metadata": {},
     "output_type": "execute_result"
    }
   ],
   "source": [
    "indices[:50]"
   ]
  },
  {
   "cell_type": "code",
   "execution_count": 58,
   "metadata": {},
   "outputs": [],
   "source": [
    "def recommendations(name, cosine_similarities=cosine_similarities):\n",
    "\n",
    "    recommended_beers = []\n",
    "\n",
    "    # gettin the index of the beer that matches the name\n",
    "    idx = indices[indices == name].index[0]\n",
    "\n",
    "    # creating a Series with the similarity scores in descending order\n",
    "    score_series = pd.Series(cosine_similarities[idx]).sort_values(ascending=False)\n",
    "\n",
    "    # getting the indexes of the 10 most similar beer except itself\n",
    "    top_10_indexes = list(score_series.iloc[1:11].index)\n",
    "\n",
    "    # populating the list with the names of the top 10 matching beers\n",
    "    for i in top_10_indexes:\n",
    "        recommended_beers.append(list(df.index)[i])\n",
    "\n",
    "    return recommended_beers"
   ]
  },
  {
   "cell_type": "code",
   "execution_count": 59,
   "metadata": {},
   "outputs": [
    {
     "data": {
      "text/plain": [
       "[\"Short's Soft Parade\",\n",
       " 'Hottenroth',\n",
       " 'Bourbon County Brand Coffee Stout',\n",
       " 'Bud Light Lime',\n",
       " 'Prima Pils',\n",
       " \"Hamm's\",\n",
       " 'Lucky 13 Mondo Large Red Ale',\n",
       " 'Premium Beer',\n",
       " \"O'Hara's Irish Stout\",\n",
       " 'Aecht Schlenkerla Rauchbier Urbock']"
      ]
     },
     "execution_count": 59,
     "metadata": {},
     "output_type": "execute_result"
    }
   ],
   "source": [
    "recommendations(\"Hazy Little Thing IPA\")"
   ]
  },
  {
   "cell_type": "code",
   "execution_count": 68,
   "metadata": {},
   "outputs": [
    {
     "data": {
      "text/plain": [
       "[\"Leinenkugel's Summer Shandy\",\n",
       " 'Andygator',\n",
       " 'Otter Creek Citra Mantra',\n",
       " 'Summer Love',\n",
       " 'Scrimshaw Pilsner',\n",
       " 'The Kimmie, The Yink & The Holy Gose',\n",
       " 'Wailua Wheat',\n",
       " 'Dead Guy Ale',\n",
       " 'Otra Vez',\n",
       " 'Twilight Summer Ale']"
      ]
     },
     "execution_count": 68,
     "metadata": {},
     "output_type": "execute_result"
    }
   ],
   "source": [
    "recommendations(\"Samuel Adams Summer Ale\")"
   ]
  },
  {
   "cell_type": "code",
   "execution_count": 63,
   "metadata": {},
   "outputs": [
    {
     "data": {
      "text/plain": [
       "['Samuel Adams White Christmas',\n",
       " 'Blue Moon Agave Nectar Ale',\n",
       " 'Arcadia HopMouth Double IPA',\n",
       " 'White Rascal',\n",
       " 'Darkness',\n",
       " 'Third Shift Amber Lager',\n",
       " 'Old Rasputin',\n",
       " 'Gordon Biersch MÃ¤rzen',\n",
       " 'Black Sheep Ale (Special)',\n",
       " 'Simtra Triple IPA']"
      ]
     },
     "execution_count": 63,
     "metadata": {},
     "output_type": "execute_result"
    }
   ],
   "source": [
    "recommendations(\"Corona Extra\")"
   ]
  },
  {
   "cell_type": "markdown",
   "metadata": {},
   "source": [
    "### These are not exactly great recommendations for a Corona Lover"
   ]
  },
  {
   "cell_type": "code",
   "execution_count": 74,
   "metadata": {},
   "outputs": [
    {
     "data": {
      "text/plain": [
       "array([[1.        , 0.01667019, 0.        , ..., 0.        , 0.0484561 ,\n",
       "        0.        ],\n",
       "       [0.01667019, 1.        , 0.        , ..., 0.        , 0.        ,\n",
       "        0.        ],\n",
       "       [0.        , 0.        , 1.        , ..., 0.        , 0.        ,\n",
       "        0.        ],\n",
       "       ...,\n",
       "       [0.        , 0.        , 0.        , ..., 1.        , 0.        ,\n",
       "        0.        ],\n",
       "       [0.0484561 , 0.        , 0.        , ..., 0.        , 1.        ,\n",
       "        0.        ],\n",
       "       [0.        , 0.        , 0.        , ..., 0.        , 0.        ,\n",
       "        1.        ]])"
      ]
     },
     "execution_count": 74,
     "metadata": {},
     "output_type": "execute_result"
    }
   ],
   "source": [
    "cosine_similarities"
   ]
  },
  {
   "cell_type": "code",
   "execution_count": 69,
   "metadata": {},
   "outputs": [
    {
     "data": {
      "text/plain": [
       "['Salvator Doppel Bock',\n",
       " 'Samuel Adams Chocolate Bock',\n",
       " 'Brooklyn Pilsner',\n",
       " 'Noble Rot',\n",
       " 'Bud Ice',\n",
       " 'Biere De Mars',\n",
       " 'LongShot Double IPA',\n",
       " \"Terrapin Monk's Revenge\",\n",
       " 'Modelo Especial',\n",
       " 'Urbock 23Â°']"
      ]
     },
     "execution_count": 69,
     "metadata": {},
     "output_type": "execute_result"
    }
   ],
   "source": [
    "recommendations(\"Shiner Bock\")"
   ]
  },
  {
   "cell_type": "code",
   "execution_count": 70,
   "metadata": {},
   "outputs": [
    {
     "data": {
      "text/plain": [
       "['Shiner Bock',\n",
       " 'Samuel Adams Chocolate Bock',\n",
       " 'Cane And Ebel',\n",
       " 'Urbock 23Â°',\n",
       " \"G'Knight\",\n",
       " 'HofbrÃ¤u Maibock (Urbock)',\n",
       " 'Small Craft Warning',\n",
       " 'Weizenbock - Beer Camp #37 (Best Of Beer Camp)',\n",
       " 'Strawberry Harvest Lager',\n",
       " 'Samuel Adams Cold Snap']"
      ]
     },
     "execution_count": 70,
     "metadata": {},
     "output_type": "execute_result"
    }
   ],
   "source": [
    "recommendations(\"Salvator Doppel Bock\")"
   ]
  },
  {
   "cell_type": "code",
   "execution_count": null,
   "metadata": {},
   "outputs": [],
   "source": []
  }
 ],
 "metadata": {
  "kernelspec": {
   "display_name": "Ale-gorithm",
   "language": "python",
   "name": "python3"
  },
  "language_info": {
   "codemirror_mode": {
    "name": "ipython",
    "version": 3
   },
   "file_extension": ".py",
   "mimetype": "text/x-python",
   "name": "python",
   "nbconvert_exporter": "python",
   "pygments_lexer": "ipython3",
   "version": "3.8.0"
  }
 },
 "nbformat": 4,
 "nbformat_minor": 2
}
