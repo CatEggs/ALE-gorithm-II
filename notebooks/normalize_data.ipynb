{
 "cells": [
  {
   "cell_type": "code",
   "execution_count": 4,
   "metadata": {},
   "outputs": [],
   "source": [
    "from sklearn.preprocessing import normalize,minmax_scale\n",
    "import pandas as pd\n",
    "import numpy as np\n"
   ]
  },
  {
   "cell_type": "code",
   "execution_count": 9,
   "metadata": {},
   "outputs": [],
   "source": [
    "pd.options.mode.chained_assignment = None  # default='warn'\n",
    "INPATH=\"data/csv/beer_reviews.csv\"\n",
    "header=['brewery_id', 'brewery_name', 'review_time', 'review_overall', 'review_aroma', 'review_appearance', 'review_profilename', 'beer_style', 'review_palate', 'review_taste', 'beer_name', 'beer_abv', 'beer_beerid']\n",
    "X_cols=['beer_style','review_palate','review_taste','beer_abv','review_aroma']\n",
    "y_col=['beer_beerid']\n",
    "unique_styles=[]\n",
    "def MapBeerNames(n):\n",
    "    global unique_styles\n",
    "    if n not in unique_styles:\n",
    "        unique_styles.append(n)\n",
    "    return unique_styles.index(n)\n",
    "def BuildDataCSV():\n",
    "    with open(INPATH, \"r\", encoding=\"utf8\", errors=\"ignore\") as f:\n",
    "        d=pd.read_csv(f,header=0,names=header,dtype={f:np.float32 for f in X_cols[1:]},converters={'beer_style':MapBeerNames},\n",
    "                   na_values=['\"\"',\"''\",\" \"],keep_default_na=True,na_filter=True,skip_blank_lines=True).fillna(value=0.0,axis='columns',inplace=False)\n",
    "    return d\n"
   ]
  },
  {
   "cell_type": "code",
   "execution_count": 10,
   "metadata": {},
   "outputs": [],
   "source": [
    "data=BuildDataCSV()\n",
    "X=data[[f for f in X_cols]]\n",
    "y=data[[y_col[0]]]\n",
    "for f in X.keys():\n",
    "    X[f]=minmax_scale(X['beer_style'], feature_range=(0, 10), copy=True)\n",
    "unique_ids_count=len(set(y['beer_beerid']))\n",
    "for f in y.keys():\n",
    "    y[f]=minmax_scale(y['beer_beerid'], feature_range=(0,unique_ids_count), copy=True) ## there are 66055 unique beer id's"
   ]
  },
  {
   "cell_type": "code",
   "execution_count": null,
   "metadata": {},
   "outputs": [],
   "source": []
  },
  {
   "cell_type": "code",
   "execution_count": null,
   "metadata": {},
   "outputs": [],
   "source": []
  }
 ],
 "metadata": {
  "kernelspec": {
   "display_name": "Python 3.8.0 64-bit",
   "language": "python",
   "name": "python38064bit9f9b16d984dc433badff5d8448edef5b"
  },
  "language_info": {
   "codemirror_mode": {
    "name": "ipython",
    "version": 3
   },
   "file_extension": ".py",
   "mimetype": "text/x-python",
   "name": "python",
   "nbconvert_exporter": "python",
   "pygments_lexer": "ipython3",
   "version": "3.8.0"
  }
 },
 "nbformat": 4,
 "nbformat_minor": 4
}
