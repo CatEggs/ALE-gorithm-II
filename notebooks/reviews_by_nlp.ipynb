{
 "cells": [
  {
   "cell_type": "markdown",
   "metadata": {},
   "source": [
    "## NLP\n",
    "\n",
    "### The original dataset is available for download on [Kaggle](https://www.kaggle.com/ehallmar/beers-breweries-and-beer-reviews#reviews.csv). \n",
    "\n",
    "### The following steps demonstrate the data cleaning process for NLP use. Only entries with text reviews were preserved."
   ]
  },
  {
   "cell_type": "code",
   "execution_count": 1,
   "metadata": {},
   "outputs": [],
   "source": [
    "import pandas as pd\n",
    "import numpy as np\n",
    "import tables\n",
    "import os"
   ]
  },
  {
   "cell_type": "code",
   "execution_count": 2,
   "metadata": {},
   "outputs": [
    {
     "name": "stdout",
     "output_type": "stream",
     "text": [
      "The number of rows are: 9073128\n"
     ]
    }
   ],
   "source": [
    "df = pd.read_csv('../data/csv/reviews.csv')\n",
    "\n",
    "# Displays the number of rows in df\n",
    "print('The number of rows are: ' + str(len(df.index)))"
   ]
  },
  {
   "cell_type": "code",
   "execution_count": 3,
   "metadata": {},
   "outputs": [
    {
     "data": {
      "text/html": [
       "<div>\n",
       "<style scoped>\n",
       "    .dataframe tbody tr th:only-of-type {\n",
       "        vertical-align: middle;\n",
       "    }\n",
       "\n",
       "    .dataframe tbody tr th {\n",
       "        vertical-align: top;\n",
       "    }\n",
       "\n",
       "    .dataframe thead th {\n",
       "        text-align: right;\n",
       "    }\n",
       "</style>\n",
       "<table border=\"1\" class=\"dataframe\">\n",
       "  <thead>\n",
       "    <tr style=\"text-align: right;\">\n",
       "      <th></th>\n",
       "      <th>beer_id</th>\n",
       "      <th>username</th>\n",
       "      <th>date</th>\n",
       "      <th>text</th>\n",
       "      <th>look</th>\n",
       "      <th>smell</th>\n",
       "      <th>taste</th>\n",
       "      <th>feel</th>\n",
       "      <th>overall</th>\n",
       "      <th>score</th>\n",
       "    </tr>\n",
       "  </thead>\n",
       "  <tbody>\n",
       "    <tr>\n",
       "      <th>0</th>\n",
       "      <td>271781</td>\n",
       "      <td>bluejacket74</td>\n",
       "      <td>2017-03-17</td>\n",
       "      <td>750 ml bottle, 2016 vintage, bottle #304 of...</td>\n",
       "      <td>4.00</td>\n",
       "      <td>4.00</td>\n",
       "      <td>4.00</td>\n",
       "      <td>4.25</td>\n",
       "      <td>4.00</td>\n",
       "      <td>4.03</td>\n",
       "    </tr>\n",
       "    <tr>\n",
       "      <th>1</th>\n",
       "      <td>125646</td>\n",
       "      <td>_dirty_</td>\n",
       "      <td>2017-12-21</td>\n",
       "      <td></td>\n",
       "      <td>4.50</td>\n",
       "      <td>4.50</td>\n",
       "      <td>4.50</td>\n",
       "      <td>4.50</td>\n",
       "      <td>4.50</td>\n",
       "      <td>4.50</td>\n",
       "    </tr>\n",
       "    <tr>\n",
       "      <th>2</th>\n",
       "      <td>125646</td>\n",
       "      <td>CJDUBYA</td>\n",
       "      <td>2017-12-21</td>\n",
       "      <td></td>\n",
       "      <td>4.75</td>\n",
       "      <td>4.75</td>\n",
       "      <td>4.75</td>\n",
       "      <td>4.75</td>\n",
       "      <td>4.75</td>\n",
       "      <td>4.75</td>\n",
       "    </tr>\n",
       "    <tr>\n",
       "      <th>3</th>\n",
       "      <td>125646</td>\n",
       "      <td>GratefulBeerGuy</td>\n",
       "      <td>2017-12-20</td>\n",
       "      <td>0% 16 oz can. Funny story: As I finally wal...</td>\n",
       "      <td>4.75</td>\n",
       "      <td>4.75</td>\n",
       "      <td>4.50</td>\n",
       "      <td>4.50</td>\n",
       "      <td>4.50</td>\n",
       "      <td>4.58</td>\n",
       "    </tr>\n",
       "    <tr>\n",
       "      <th>4</th>\n",
       "      <td>125646</td>\n",
       "      <td>LukeGude</td>\n",
       "      <td>2017-12-20</td>\n",
       "      <td>Classic TH NEIPA. Overflowing head and bouq...</td>\n",
       "      <td>4.25</td>\n",
       "      <td>4.50</td>\n",
       "      <td>4.25</td>\n",
       "      <td>4.25</td>\n",
       "      <td>4.25</td>\n",
       "      <td>4.31</td>\n",
       "    </tr>\n",
       "  </tbody>\n",
       "</table>\n",
       "</div>"
      ],
      "text/plain": [
       "   beer_id         username        date  \\\n",
       "0   271781     bluejacket74  2017-03-17   \n",
       "1   125646          _dirty_  2017-12-21   \n",
       "2   125646          CJDUBYA  2017-12-21   \n",
       "3   125646  GratefulBeerGuy  2017-12-20   \n",
       "4   125646         LukeGude  2017-12-20   \n",
       "\n",
       "                                                text  look  smell  taste  \\\n",
       "0     750 ml bottle, 2016 vintage, bottle #304 of...  4.00   4.00   4.00   \n",
       "1                                                     4.50   4.50   4.50   \n",
       "2                                                     4.75   4.75   4.75   \n",
       "3     0% 16 oz can. Funny story: As I finally wal...  4.75   4.75   4.50   \n",
       "4     Classic TH NEIPA. Overflowing head and bouq...  4.25   4.50   4.25   \n",
       "\n",
       "   feel  overall  score  \n",
       "0  4.25     4.00   4.03  \n",
       "1  4.50     4.50   4.50  \n",
       "2  4.75     4.75   4.75  \n",
       "3  4.50     4.50   4.58  \n",
       "4  4.25     4.25   4.31  "
      ]
     },
     "execution_count": 3,
     "metadata": {},
     "output_type": "execute_result"
    }
   ],
   "source": [
    "df.head(5)"
   ]
  },
  {
   "cell_type": "code",
   "execution_count": 4,
   "metadata": {},
   "outputs": [],
   "source": [
    "mid_df = df.drop(columns=['date','look','smell','taste','feel','overall','score'])"
   ]
  },
  {
   "cell_type": "code",
   "execution_count": 5,
   "metadata": {},
   "outputs": [],
   "source": [
    "# list comprehension to strip each row\n",
    "mid_df['og_review'] = [x.strip(\" \\xa0\") for x in mid_df['text']]"
   ]
  },
  {
   "cell_type": "code",
   "execution_count": 6,
   "metadata": {},
   "outputs": [
    {
     "data": {
      "text/html": [
       "<div>\n",
       "<style scoped>\n",
       "    .dataframe tbody tr th:only-of-type {\n",
       "        vertical-align: middle;\n",
       "    }\n",
       "\n",
       "    .dataframe tbody tr th {\n",
       "        vertical-align: top;\n",
       "    }\n",
       "\n",
       "    .dataframe thead th {\n",
       "        text-align: right;\n",
       "    }\n",
       "</style>\n",
       "<table border=\"1\" class=\"dataframe\">\n",
       "  <thead>\n",
       "    <tr style=\"text-align: right;\">\n",
       "      <th></th>\n",
       "      <th>beer_id</th>\n",
       "      <th>username</th>\n",
       "      <th>og_review</th>\n",
       "    </tr>\n",
       "  </thead>\n",
       "  <tbody>\n",
       "    <tr>\n",
       "      <th>0</th>\n",
       "      <td>271781</td>\n",
       "      <td>bluejacket74</td>\n",
       "      <td>750 ml bottle, 2016 vintage, bottle #304 of 36...</td>\n",
       "    </tr>\n",
       "    <tr>\n",
       "      <th>1</th>\n",
       "      <td>125646</td>\n",
       "      <td>_dirty_</td>\n",
       "      <td></td>\n",
       "    </tr>\n",
       "    <tr>\n",
       "      <th>2</th>\n",
       "      <td>125646</td>\n",
       "      <td>CJDUBYA</td>\n",
       "      <td></td>\n",
       "    </tr>\n",
       "    <tr>\n",
       "      <th>3</th>\n",
       "      <td>125646</td>\n",
       "      <td>GratefulBeerGuy</td>\n",
       "      <td>0% 16 oz can. Funny story: As I finally walked...</td>\n",
       "    </tr>\n",
       "    <tr>\n",
       "      <th>4</th>\n",
       "      <td>125646</td>\n",
       "      <td>LukeGude</td>\n",
       "      <td>Classic TH NEIPA. Overflowing head and bouquet...</td>\n",
       "    </tr>\n",
       "  </tbody>\n",
       "</table>\n",
       "</div>"
      ],
      "text/plain": [
       "   beer_id         username                                          og_review\n",
       "0   271781     bluejacket74  750 ml bottle, 2016 vintage, bottle #304 of 36...\n",
       "1   125646          _dirty_                                                   \n",
       "2   125646          CJDUBYA                                                   \n",
       "3   125646  GratefulBeerGuy  0% 16 oz can. Funny story: As I finally walked...\n",
       "4   125646         LukeGude  Classic TH NEIPA. Overflowing head and bouquet..."
      ]
     },
     "execution_count": 6,
     "metadata": {},
     "output_type": "execute_result"
    }
   ],
   "source": [
    "# Remove column with extraneous string characters\n",
    "mid_df = mid_df.drop(['text'], axis = 1)\n",
    "mid_df.head()"
   ]
  },
  {
   "cell_type": "code",
   "execution_count": 7,
   "metadata": {},
   "outputs": [
    {
     "data": {
      "text/html": [
       "<div>\n",
       "<style scoped>\n",
       "    .dataframe tbody tr th:only-of-type {\n",
       "        vertical-align: middle;\n",
       "    }\n",
       "\n",
       "    .dataframe tbody tr th {\n",
       "        vertical-align: top;\n",
       "    }\n",
       "\n",
       "    .dataframe thead th {\n",
       "        text-align: right;\n",
       "    }\n",
       "</style>\n",
       "<table border=\"1\" class=\"dataframe\">\n",
       "  <thead>\n",
       "    <tr style=\"text-align: right;\">\n",
       "      <th></th>\n",
       "      <th>beer_id</th>\n",
       "      <th>username</th>\n",
       "      <th>og_review</th>\n",
       "    </tr>\n",
       "  </thead>\n",
       "  <tbody>\n",
       "    <tr>\n",
       "      <th>0</th>\n",
       "      <td>271781</td>\n",
       "      <td>bluejacket74</td>\n",
       "      <td>750 ml bottle, 2016 vintage, bottle #304 of 36...</td>\n",
       "    </tr>\n",
       "    <tr>\n",
       "      <th>3</th>\n",
       "      <td>125646</td>\n",
       "      <td>GratefulBeerGuy</td>\n",
       "      <td>0% 16 oz can. Funny story: As I finally walked...</td>\n",
       "    </tr>\n",
       "    <tr>\n",
       "      <th>4</th>\n",
       "      <td>125646</td>\n",
       "      <td>LukeGude</td>\n",
       "      <td>Classic TH NEIPA. Overflowing head and bouquet...</td>\n",
       "    </tr>\n",
       "    <tr>\n",
       "      <th>7</th>\n",
       "      <td>125646</td>\n",
       "      <td>MFMB</td>\n",
       "      <td>Pours a creamy opaque light straw yellow with ...</td>\n",
       "    </tr>\n",
       "    <tr>\n",
       "      <th>13</th>\n",
       "      <td>125646</td>\n",
       "      <td>jngrizzaffi</td>\n",
       "      <td>Pours a cloudy yellow color with a thin foamy ...</td>\n",
       "    </tr>\n",
       "  </tbody>\n",
       "</table>\n",
       "</div>"
      ],
      "text/plain": [
       "    beer_id         username  \\\n",
       "0    271781     bluejacket74   \n",
       "3    125646  GratefulBeerGuy   \n",
       "4    125646         LukeGude   \n",
       "7    125646             MFMB   \n",
       "13   125646      jngrizzaffi   \n",
       "\n",
       "                                            og_review  \n",
       "0   750 ml bottle, 2016 vintage, bottle #304 of 36...  \n",
       "3   0% 16 oz can. Funny story: As I finally walked...  \n",
       "4   Classic TH NEIPA. Overflowing head and bouquet...  \n",
       "7   Pours a creamy opaque light straw yellow with ...  \n",
       "13  Pours a cloudy yellow color with a thin foamy ...  "
      ]
     },
     "execution_count": 7,
     "metadata": {},
     "output_type": "execute_result"
    }
   ],
   "source": [
    "# Extract rows with reviews\n",
    "final_df = mid_df[mid_df['og_review'] != '']\n",
    "final_df.head()"
   ]
  },
  {
   "cell_type": "markdown",
   "metadata": {},
   "source": [
    "### Final data to contain beer_id, username, review"
   ]
  },
  {
   "cell_type": "code",
   "execution_count": 8,
   "metadata": {},
   "outputs": [
    {
     "name": "stderr",
     "output_type": "stream",
     "text": [
      "<ipython-input-8-81b7c0c3dcc3>:5: SettingWithCopyWarning: \n",
      "A value is trying to be set on a copy of a slice from a DataFrame.\n",
      "Try using .loc[row_indexer,col_indexer] = value instead\n",
      "\n",
      "See the caveats in the documentation: https://pandas.pydata.org/pandas-docs/stable/user_guide/indexing.html#returning-a-view-versus-a-copy\n",
      "  final_df['review'] = [''.join(character for character in strings if character not in punctuations).lower().split(\" \") for strings in final_df['og_review']]\n"
     ]
    },
    {
     "data": {
      "text/html": [
       "<div>\n",
       "<style scoped>\n",
       "    .dataframe tbody tr th:only-of-type {\n",
       "        vertical-align: middle;\n",
       "    }\n",
       "\n",
       "    .dataframe tbody tr th {\n",
       "        vertical-align: top;\n",
       "    }\n",
       "\n",
       "    .dataframe thead th {\n",
       "        text-align: right;\n",
       "    }\n",
       "</style>\n",
       "<table border=\"1\" class=\"dataframe\">\n",
       "  <thead>\n",
       "    <tr style=\"text-align: right;\">\n",
       "      <th></th>\n",
       "      <th>beer_id</th>\n",
       "      <th>username</th>\n",
       "      <th>review</th>\n",
       "    </tr>\n",
       "  </thead>\n",
       "  <tbody>\n",
       "    <tr>\n",
       "      <th>0</th>\n",
       "      <td>271781</td>\n",
       "      <td>bluejacket74</td>\n",
       "      <td>[750, ml, bottle, 2016, vintage, bottle, 304, ...</td>\n",
       "    </tr>\n",
       "    <tr>\n",
       "      <th>3</th>\n",
       "      <td>125646</td>\n",
       "      <td>GratefulBeerGuy</td>\n",
       "      <td>[0, 16, oz, can, funny, story, as, i, finally,...</td>\n",
       "    </tr>\n",
       "    <tr>\n",
       "      <th>4</th>\n",
       "      <td>125646</td>\n",
       "      <td>LukeGude</td>\n",
       "      <td>[classic, th, neipa, overflowing, head, and, b...</td>\n",
       "    </tr>\n",
       "    <tr>\n",
       "      <th>7</th>\n",
       "      <td>125646</td>\n",
       "      <td>MFMB</td>\n",
       "      <td>[pours, a, creamy, opaque, light, straw, yello...</td>\n",
       "    </tr>\n",
       "    <tr>\n",
       "      <th>13</th>\n",
       "      <td>125646</td>\n",
       "      <td>jngrizzaffi</td>\n",
       "      <td>[pours, a, cloudy, yellow, color, with, a, thi...</td>\n",
       "    </tr>\n",
       "    <tr>\n",
       "      <th>15</th>\n",
       "      <td>125646</td>\n",
       "      <td>PDOR1960</td>\n",
       "      <td>[another, great, brew, from, treehouse]</td>\n",
       "    </tr>\n",
       "    <tr>\n",
       "      <th>19</th>\n",
       "      <td>125646</td>\n",
       "      <td>Lucular</td>\n",
       "      <td>[pours, with, a, cloudy, yelloworange, haze, w...</td>\n",
       "    </tr>\n",
       "    <tr>\n",
       "      <th>28</th>\n",
       "      <td>205644</td>\n",
       "      <td>Brutaltruth</td>\n",
       "      <td>[from, the, tall, boy, can, and, enjoyed, in, ...</td>\n",
       "    </tr>\n",
       "    <tr>\n",
       "      <th>32</th>\n",
       "      <td>205644</td>\n",
       "      <td>secondtooth</td>\n",
       "      <td>[appearance, pours, a, deep, black, with, tan,...</td>\n",
       "    </tr>\n",
       "    <tr>\n",
       "      <th>36</th>\n",
       "      <td>150672</td>\n",
       "      <td>Derek</td>\n",
       "      <td>[beautiful, crystal, clear, pour, with, a, nic...</td>\n",
       "    </tr>\n",
       "    <tr>\n",
       "      <th>37</th>\n",
       "      <td>150672</td>\n",
       "      <td>byronic</td>\n",
       "      <td>[poured, a, bit, lively, and, had, to, wait, f...</td>\n",
       "    </tr>\n",
       "    <tr>\n",
       "      <th>39</th>\n",
       "      <td>150672</td>\n",
       "      <td>Coronaeus</td>\n",
       "      <td>[355ml, can, bright, copper, with, a, dense, f...</td>\n",
       "    </tr>\n",
       "    <tr>\n",
       "      <th>43</th>\n",
       "      <td>150672</td>\n",
       "      <td>wanderingspirit</td>\n",
       "      <td>[quite, balanced, and, distinct, ipa, of, a, w...</td>\n",
       "    </tr>\n",
       "    <tr>\n",
       "      <th>44</th>\n",
       "      <td>150672</td>\n",
       "      <td>Phyl21ca</td>\n",
       "      <td>[can, poured, a, clear, amber, color, ale, wit...</td>\n",
       "    </tr>\n",
       "    <tr>\n",
       "      <th>48</th>\n",
       "      <td>150672</td>\n",
       "      <td>Sathanas</td>\n",
       "      <td>[can, bought, online, from, liquor, direct, dr...</td>\n",
       "    </tr>\n",
       "    <tr>\n",
       "      <th>50</th>\n",
       "      <td>150672</td>\n",
       "      <td>KingHoppy</td>\n",
       "      <td>[passing, through, swift, current, sk, i, stop...</td>\n",
       "    </tr>\n",
       "    <tr>\n",
       "      <th>53</th>\n",
       "      <td>150672</td>\n",
       "      <td>Bunman3</td>\n",
       "      <td>[yes, please, ive, been, hoping, to, find, bla...</td>\n",
       "    </tr>\n",
       "    <tr>\n",
       "      <th>56</th>\n",
       "      <td>150672</td>\n",
       "      <td>sasky7777</td>\n",
       "      <td>[a, well, put, together, hoppy, ale, easy, dri...</td>\n",
       "    </tr>\n",
       "    <tr>\n",
       "      <th>59</th>\n",
       "      <td>150672</td>\n",
       "      <td>biboergosum</td>\n",
       "      <td>[355ml, can, the, latest, from, this, nascent,...</td>\n",
       "    </tr>\n",
       "    <tr>\n",
       "      <th>62</th>\n",
       "      <td>311190</td>\n",
       "      <td>Rub_This_BBQ</td>\n",
       "      <td>[look, is, great, dark, with, a, nice, creamy,...</td>\n",
       "    </tr>\n",
       "  </tbody>\n",
       "</table>\n",
       "</div>"
      ],
      "text/plain": [
       "    beer_id         username  \\\n",
       "0    271781     bluejacket74   \n",
       "3    125646  GratefulBeerGuy   \n",
       "4    125646         LukeGude   \n",
       "7    125646             MFMB   \n",
       "13   125646      jngrizzaffi   \n",
       "15   125646         PDOR1960   \n",
       "19   125646          Lucular   \n",
       "28   205644      Brutaltruth   \n",
       "32   205644      secondtooth   \n",
       "36   150672            Derek   \n",
       "37   150672          byronic   \n",
       "39   150672        Coronaeus   \n",
       "43   150672  wanderingspirit   \n",
       "44   150672         Phyl21ca   \n",
       "48   150672         Sathanas   \n",
       "50   150672        KingHoppy   \n",
       "53   150672          Bunman3   \n",
       "56   150672        sasky7777   \n",
       "59   150672      biboergosum   \n",
       "62   311190     Rub_This_BBQ   \n",
       "\n",
       "                                               review  \n",
       "0   [750, ml, bottle, 2016, vintage, bottle, 304, ...  \n",
       "3   [0, 16, oz, can, funny, story, as, i, finally,...  \n",
       "4   [classic, th, neipa, overflowing, head, and, b...  \n",
       "7   [pours, a, creamy, opaque, light, straw, yello...  \n",
       "13  [pours, a, cloudy, yellow, color, with, a, thi...  \n",
       "15            [another, great, brew, from, treehouse]  \n",
       "19  [pours, with, a, cloudy, yelloworange, haze, w...  \n",
       "28  [from, the, tall, boy, can, and, enjoyed, in, ...  \n",
       "32  [appearance, pours, a, deep, black, with, tan,...  \n",
       "36  [beautiful, crystal, clear, pour, with, a, nic...  \n",
       "37  [poured, a, bit, lively, and, had, to, wait, f...  \n",
       "39  [355ml, can, bright, copper, with, a, dense, f...  \n",
       "43  [quite, balanced, and, distinct, ipa, of, a, w...  \n",
       "44  [can, poured, a, clear, amber, color, ale, wit...  \n",
       "48  [can, bought, online, from, liquor, direct, dr...  \n",
       "50  [passing, through, swift, current, sk, i, stop...  \n",
       "53  [yes, please, ive, been, hoping, to, find, bla...  \n",
       "56  [a, well, put, together, hoppy, ale, easy, dri...  \n",
       "59  [355ml, can, the, latest, from, this, nascent,...  \n",
       "62  [look, is, great, dark, with, a, nice, creamy,...  "
      ]
     },
     "execution_count": 8,
     "metadata": {},
     "output_type": "execute_result"
    }
   ],
   "source": [
    "# List all possible punctuations\n",
    "punctuations = '''!()-[]{};:'\"\\,<>./?@#$%^&*_~'''\n",
    "\n",
    "# For each row, remove punctuations, handle case and split on spaces to convert individual words to elements\n",
    "final_df['review'] = [''.join(character for character in strings if character not in punctuations).lower().split(\" \") for strings in final_df['og_review']]\n",
    "\n",
    "# Remove column with extraneous string characters\n",
    "final_df = final_df.drop(['og_review'], axis = 1)\n",
    "final_df.head(20)"
   ]
  },
  {
   "cell_type": "code",
   "execution_count": 9,
   "metadata": {},
   "outputs": [
    {
     "name": "stdout",
     "output_type": "stream",
     "text": [
      "The number of rows are: 2987991\n"
     ]
    }
   ],
   "source": [
    "print('The number of rows are: ' + str(len(final_df.index)))"
   ]
  },
  {
   "cell_type": "code",
   "execution_count": 10,
   "metadata": {},
   "outputs": [],
   "source": [
    "final_df.to_csv('../data/csv/cleaned_reviews.csv', index = False)"
   ]
  },
  {
   "cell_type": "code",
   "execution_count": 12,
   "metadata": {},
   "outputs": [],
   "source": [
    "final_df.to_hdf('../data/csv/cleaned_reviews.hdf', key = 'df', mode = 'w')"
   ]
  },
  {
   "cell_type": "markdown",
   "metadata": {},
   "source": [
    "### Create document for each beer_id"
   ]
  },
  {
   "cell_type": "code",
   "execution_count": 74,
   "metadata": {},
   "outputs": [
    {
     "data": {
      "text/html": [
       "<div>\n",
       "<style scoped>\n",
       "    .dataframe tbody tr th:only-of-type {\n",
       "        vertical-align: middle;\n",
       "    }\n",
       "\n",
       "    .dataframe tbody tr th {\n",
       "        vertical-align: top;\n",
       "    }\n",
       "\n",
       "    .dataframe thead th {\n",
       "        text-align: right;\n",
       "    }\n",
       "</style>\n",
       "<table border=\"1\" class=\"dataframe\">\n",
       "  <thead>\n",
       "    <tr style=\"text-align: right;\">\n",
       "      <th></th>\n",
       "      <th>beer_id</th>\n",
       "      <th>review</th>\n",
       "    </tr>\n",
       "  </thead>\n",
       "  <tbody>\n",
       "    <tr>\n",
       "      <th>325</th>\n",
       "      <td>47604</td>\n",
       "      <td>['hazy', 'amber', 'with', 'a', 'goodsize', 'tw...</td>\n",
       "    </tr>\n",
       "    <tr>\n",
       "      <th>395</th>\n",
       "      <td>47604</td>\n",
       "      <td>['a=a', 'light', 'golden', 'color', 'with', 'f...</td>\n",
       "    </tr>\n",
       "    <tr>\n",
       "      <th>396</th>\n",
       "      <td>47604</td>\n",
       "      <td>['a', 'a', 'nice', 'copperyorange', 'color', '...</td>\n",
       "    </tr>\n",
       "    <tr>\n",
       "      <th>397</th>\n",
       "      <td>47604</td>\n",
       "      <td>['i', 'brought', 'this', 'to', 'the', 'inaugur...</td>\n",
       "    </tr>\n",
       "    <tr>\n",
       "      <th>398</th>\n",
       "      <td>47604</td>\n",
       "      <td>['rye', 'ipa', 'hopped', 'with', 'citra', 'pou...</td>\n",
       "    </tr>\n",
       "    <tr>\n",
       "      <th>...</th>\n",
       "      <td>...</td>\n",
       "      <td>...</td>\n",
       "    </tr>\n",
       "    <tr>\n",
       "      <th>487</th>\n",
       "      <td>367068</td>\n",
       "      <td>['saisons', 'can', 'encompass', 'a', 'wide', '...</td>\n",
       "    </tr>\n",
       "    <tr>\n",
       "      <th>238</th>\n",
       "      <td>367910</td>\n",
       "      <td>['lhazy', 'nectar12', 'inch', 'head', 'good', ...</td>\n",
       "    </tr>\n",
       "    <tr>\n",
       "      <th>1856</th>\n",
       "      <td>368662</td>\n",
       "      <td>['had', 'on', 'draft', 'at', 'breweries', 'var...</td>\n",
       "    </tr>\n",
       "    <tr>\n",
       "      <th>486</th>\n",
       "      <td>369858</td>\n",
       "      <td>['tasted', 'in', 'a', 'tall', 'tulip', 'from',...</td>\n",
       "    </tr>\n",
       "    <tr>\n",
       "      <th>1797</th>\n",
       "      <td>370956</td>\n",
       "      <td>['taste', 'crisp', 'semi', 'sweet', 'caramel',...</td>\n",
       "    </tr>\n",
       "  </tbody>\n",
       "</table>\n",
       "<p>2000 rows × 2 columns</p>\n",
       "</div>"
      ],
      "text/plain": [
       "      beer_id                                             review\n",
       "325     47604  ['hazy', 'amber', 'with', 'a', 'goodsize', 'tw...\n",
       "395     47604  ['a=a', 'light', 'golden', 'color', 'with', 'f...\n",
       "396     47604  ['a', 'a', 'nice', 'copperyorange', 'color', '...\n",
       "397     47604  ['i', 'brought', 'this', 'to', 'the', 'inaugur...\n",
       "398     47604  ['rye', 'ipa', 'hopped', 'with', 'citra', 'pou...\n",
       "...       ...                                                ...\n",
       "487    367068  ['saisons', 'can', 'encompass', 'a', 'wide', '...\n",
       "238    367910  ['lhazy', 'nectar12', 'inch', 'head', 'good', ...\n",
       "1856   368662  ['had', 'on', 'draft', 'at', 'breweries', 'var...\n",
       "486    369858  ['tasted', 'in', 'a', 'tall', 'tulip', 'from',...\n",
       "1797   370956  ['taste', 'crisp', 'semi', 'sweet', 'caramel',...\n",
       "\n",
       "[2000 rows x 2 columns]"
      ]
     },
     "execution_count": 74,
     "metadata": {},
     "output_type": "execute_result"
    }
   ],
   "source": [
    "# Sample 2000 beers, drop column username and sort by beer_id\n",
    "df = pd.read_csv('../data/csv/cleaned_reviews.csv').head(2000).drop(['username'], axis =1 ).sort_values('beer_id')\n",
    "df"
   ]
  },
  {
   "cell_type": "code",
   "execution_count": 79,
   "metadata": {},
   "outputs": [
    {
     "name": "stdout",
     "output_type": "stream",
     "text": [
      "232 unique beers\n"
     ]
    }
   ],
   "source": [
    "print(str(df['beer_id'].nunique()) + ' unique beers')"
   ]
  },
  {
   "cell_type": "code",
   "execution_count": 80,
   "metadata": {},
   "outputs": [
    {
     "data": {
      "text/html": [
       "<div>\n",
       "<style scoped>\n",
       "    .dataframe tbody tr th:only-of-type {\n",
       "        vertical-align: middle;\n",
       "    }\n",
       "\n",
       "    .dataframe tbody tr th {\n",
       "        vertical-align: top;\n",
       "    }\n",
       "\n",
       "    .dataframe thead th {\n",
       "        text-align: right;\n",
       "    }\n",
       "</style>\n",
       "<table border=\"1\" class=\"dataframe\">\n",
       "  <thead>\n",
       "    <tr style=\"text-align: right;\">\n",
       "      <th></th>\n",
       "      <th>beer_id</th>\n",
       "      <th>review</th>\n",
       "    </tr>\n",
       "  </thead>\n",
       "  <tbody>\n",
       "    <tr>\n",
       "      <th>325</th>\n",
       "      <td>47604</td>\n",
       "      <td>['hazy', 'amber', 'with', 'a', 'goodsize', 'tw...</td>\n",
       "    </tr>\n",
       "    <tr>\n",
       "      <th>395</th>\n",
       "      <td>47604</td>\n",
       "      <td>['a=a', 'light', 'golden', 'color', 'with', 'f...</td>\n",
       "    </tr>\n",
       "    <tr>\n",
       "      <th>396</th>\n",
       "      <td>47604</td>\n",
       "      <td>['a', 'a', 'nice', 'copperyorange', 'color', '...</td>\n",
       "    </tr>\n",
       "    <tr>\n",
       "      <th>397</th>\n",
       "      <td>47604</td>\n",
       "      <td>['i', 'brought', 'this', 'to', 'the', 'inaugur...</td>\n",
       "    </tr>\n",
       "    <tr>\n",
       "      <th>398</th>\n",
       "      <td>47604</td>\n",
       "      <td>['rye', 'ipa', 'hopped', 'with', 'citra', 'pou...</td>\n",
       "    </tr>\n",
       "    <tr>\n",
       "      <th>399</th>\n",
       "      <td>47604</td>\n",
       "      <td>['bottle', 'into', 'a', 'pint', 'glass', 'got'...</td>\n",
       "    </tr>\n",
       "    <tr>\n",
       "      <th>400</th>\n",
       "      <td>47604</td>\n",
       "      <td>['been', 'seeing', 'this', 'beer', 'on', 'shel...</td>\n",
       "    </tr>\n",
       "  </tbody>\n",
       "</table>\n",
       "</div>"
      ],
      "text/plain": [
       "     beer_id                                             review\n",
       "325    47604  ['hazy', 'amber', 'with', 'a', 'goodsize', 'tw...\n",
       "395    47604  ['a=a', 'light', 'golden', 'color', 'with', 'f...\n",
       "396    47604  ['a', 'a', 'nice', 'copperyorange', 'color', '...\n",
       "397    47604  ['i', 'brought', 'this', 'to', 'the', 'inaugur...\n",
       "398    47604  ['rye', 'ipa', 'hopped', 'with', 'citra', 'pou...\n",
       "399    47604  ['bottle', 'into', 'a', 'pint', 'glass', 'got'...\n",
       "400    47604  ['been', 'seeing', 'this', 'beer', 'on', 'shel..."
      ]
     },
     "execution_count": 80,
     "metadata": {},
     "output_type": "execute_result"
    }
   ],
   "source": [
    "df.iloc[0:7]"
   ]
  },
  {
   "cell_type": "code",
   "execution_count": 81,
   "metadata": {},
   "outputs": [
    {
     "data": {
      "text/plain": [
       "\"['hazy', 'amber', 'with', 'a', 'goodsize', 'two', 'inch', 'plus', 'head', 'on', 'the', 'top', 'decent', 'retention', 'as', 'it', 'stayed', 'around', 'bitter', 'citrus', 'hops', 'tones', 'of', 'grapefruit', 'and', 'tangerine', 'dominated', 'the', 'brew', 'not', 'much', 'room', 'for', 'anything', 'else', 'in', 'there', 'a', 'bit', 'of', 'sugar', 'orange', 'peel', 'huge', 'hoppy', 'bitter', 'bite', 'right', 'out', 'of', 'the', 'gate', 'good', 'dry', 'finish', 'lots', 'of', 'resiney', 'grapefruit', 'tones', 'throughout', 'a', 'touch', 'of', 'sugar', 'trying', 'to', 'balance', 'out', 'the', 'hops', 'but', 'it', 'was', 'not', 'really', 'going', 'anywhere', 'huge', 'hops', 'huge', 'bitter', 'big', 'ipa']\""
      ]
     },
     "execution_count": 81,
     "metadata": {},
     "output_type": "execute_result"
    }
   ],
   "source": [
    "df['review'].iloc[0]"
   ]
  },
  {
   "cell_type": "code",
   "execution_count": 82,
   "metadata": {},
   "outputs": [
    {
     "data": {
      "text/plain": [
       "beer_id\n",
       "47604     ['hazy', 'amber', 'with', 'a', 'goodsize', 'tw...\n",
       "47606     ['had', 'some', 'of', 'this', 'on', 'tap', 'la...\n",
       "47630     ['day', 'two', 'at', 'nerax', '2009', 'from', ...\n",
       "47655     ['a', 'this', 'poured', 'a', 'clear', 'straw',...\n",
       "47658     ['very', 'dark', 'appearance', 'with', 'tan', ...\n",
       "                                ...                        \n",
       "367068    ['saisons', 'can', 'encompass', 'a', 'wide', '...\n",
       "367910    ['lhazy', 'nectar12', 'inch', 'head', 'good', ...\n",
       "368662    ['had', 'on', 'draft', 'at', 'breweries', 'var...\n",
       "369858    ['tasted', 'in', 'a', 'tall', 'tulip', 'from',...\n",
       "370956    ['taste', 'crisp', 'semi', 'sweet', 'caramel',...\n",
       "Name: review, Length: 232, dtype: object"
      ]
     },
     "execution_count": 82,
     "metadata": {},
     "output_type": "execute_result"
    }
   ],
   "source": [
    "# Concatenate the rows by beer_id\n",
    "df = df.groupby(['beer_id'])['review'].apply(lambda x: ','.join(x))\n",
    "df"
   ]
  },
  {
   "cell_type": "code",
   "execution_count": 85,
   "metadata": {},
   "outputs": [
    {
     "data": {
      "text/plain": [
       "\"['hazy', 'amber', 'with', 'a', 'goodsize', 'two', 'inch', 'plus', 'head', 'on', 'the', 'top', 'decent', 'retention', 'as', 'it', 'stayed', 'around', 'bitter', 'citrus', 'hops', 'tones', 'of', 'grapefruit', 'and', 'tangerine', 'dominated', 'the', 'brew', 'not', 'much', 'room', 'for', 'anything', 'else', 'in', 'there', 'a', 'bit', 'of', 'sugar', 'orange', 'peel', 'huge', 'hoppy', 'bitter', 'bite', 'right', 'out', 'of', 'the', 'gate', 'good', 'dry', 'finish', 'lots', 'of', 'resiney', 'grapefruit', 'tones', 'throughout', 'a', 'touch', 'of', 'sugar', 'trying', 'to', 'balance', 'out', 'the', 'hops', 'but', 'it', 'was', 'not', 'really', 'going', 'anywhere', 'huge', 'hops', 'huge', 'bitter', 'big', 'ipa'],['a=a', 'light', 'golden', 'color', 'with', 'faint', 'amber', 'hues', 'one', 'finger', 'head', 'with', 'subpar', 'retention', 'and', 'lacing', 's=subdued', 'caramel', 'malt', 'and', 'rye', 'not', 'strong', 'at', 'all', 'definitely', 'the', 'low', 'point', 'of', 'this', 'beer', 'the', 'rye', 'is', 'subdued', 'but', 'adds', 'a', 'nice', 'touch', 't=prominent', 'caramel', 'malt', 'and', 'subdued', 'rye', 'some', 'hop', 'bitterness', 'comes', 'out', 'in', 'the', 'aftertaste', 'very', 'drinkable', 'but', 'not', 'outstanding', 'm=the', 'high', 'point', 'of', 'the', 'beer', 'very', 'high', 'carbonation', 'that', 'feels', 'great', 'rolling', 'across', 'the', 'tongue', 'medium', 'body', 'o=im', 'glad', 'i', 'got', 'to', 'try', 'this', 'but', 'it', 'doesnt', 'hold', 'a', 'candle', 'to', 'hop', 'rod', 'rye', 'still', 'i', 'would', 'definitely', 'have', 'it', 'again'],['a', 'a', 'nice', 'copperyorange', 'color', 'with', 'a', 'fluffy', 'white', 'head', 'leaves', 'lacing', 'down', 'the', 'glass', 's', 'i', 'get', 'caramel', 'malts', 'bread', 'some', 'citrusy', 'hops', 'and', 'orange', 'peel', 'there', 'is', 'a', 'bit', 'of', 'peppery', 'spiciness', 'in', 'the', 'nose', 'as', 'well', 't', 'caramel', 'malt', 'citrus', 'hops', 'and', 'some', 'spiciness', 'i', 'get', 'orange', 'and', 'some', 'straw', 'in', 'the', 'flavor', 'finish', 'bitter', 'and', 'semidry', 'm', 'it', 'has', 'a', 'nice', 'mediumthin', 'body', 'that', 'sort', 'of', 'coats', 'the', 'tongue', 'a', 'little', 'resinous', 'd', 'this', 'is', 'a', 'good', 'beer', 'that', 'i', 'could', 'drink', 'more', 'of'],['i', 'brought', 'this', 'to', 'the', 'inaugural', 'imminent', 'liquidation', 'bottle', 'share', 'event', 'bottle', 'poured', 'into', 'a', 'taster', 'glass', 'a', '', 'pours', 'hazy', 'orange', 'with', 'a', 'nice', 'cap', 'of', 'one', 'and', 'a', 'half', 'finger', 'tall', 'head', 'dissipating', 'down', 'to', 'a', 'light', 'film', 'leaving', 'light', 'lacing', 'down', 'the', 'glass', 's', '', 'plenty', 'of', 'rye', 'bready', 'malt', 'grassy', 'citric', 'hops', 'and', 'some', 'dulled', 'citric', 'fruit', 'pretty', 'good', 'a', 'bit', 'faded', 'tho', 't', '', 'very', 'similar', 'to', 'the', 'nose', 'big', 'dose', 'of', 'chewy', 'malt', 'rye', 'and', 'dulled', 'citric', 'hops', 'finish', 'is', 'a', 'mix', 'of', 'chewy', 'grains', 'and', 'light', 'hop', 'bitterness', 'not', 'too', 'bad', 'just', 'nothing', 'mind', 'blowing', 'm', '', 'medium', 'body', 'and', 'flavor', 'with', 'moderate', 'carbonation', 'overall', 'chewy', 'feel', 'with', 'most', 'of', 'it', 'lingering', 'throughout', 'the', 'finish', 'd', '', 'decent', 'stuff', 'i', 'enjoy', 'rye', 'beers', 'even', 'if', 'this', 'one', 'is', 'listed', 'as', 'an', 'ipa', 'for', 'what', 'they', 'are', 'but', 'i', 'am', 'just', 'not', 'a', 'fan', 'of', 'the', 'chewy', 'feel', 'that', 'accompanies', 'them', 'overall', 'this', 'was', 'pretty', 'good', 'but', 'it', 'really', 'wasnt', 'anything', 'mind', 'blowing'],['rye', 'ipa', 'hopped', 'with', 'citra', 'poured', 'into', 'a', 'tremens', 'glass', 'the', 'nose', 'is', 'pleasant', 'sweet', 'and', 'malty', 'the', 'taste', 'is', 'hops', 'and', 'rye', 'but', 'the', 'combination', 'doesnt', 'quite', 'come', 'together', 'creating', 'a', 'weird', 'mix', 'of', 'flavors', 'with', 'the', 'rye', 'somewhat', 'holding', 'things', 'together', 'a', 'subtle', 'honey', 'sweetness', 'comes', 'at', 'the', 'finish', 'interesting', 'but', 'not', 'on', 'the', 'level', 'of', 'hop', 'rod', 'or', 'lennys', 'ripa'],['bottle', 'into', 'a', 'pint', 'glass', 'got', 'this', 'on', 'my', 'birthday', 'trip', 'to', 'socal', 'at', 'the', 'brewery', 'a', '', 'amber', 'body', 'with', 'a', 'white', 'head', 'on', 'top', 's', '', 'light', 'floral', 'hop', 'aroma', 'mingles', 'with', 'some', 'pale', 'malts', 't', '', 'spicy', 'notes', 'from', 'the', 'rye', 'a', 'bit', 'of', 'a', 'florally', 'hop', 'flavor', 'really', 'well', 'balanced', 'finishes', 'with', 'a', 'hint', 'of', 'bitterness', 'm', '', 'medium', 'body', 'good', 'amount', 'of', 'carbonation', 'd', '', 'drinks', 'real', 'easy', 'almost', 'like', 'a', 'apa', 'rather', 'than', 'an', 'ipa', 'this', 'is', 'a', 'really', 'enjoyable', 'beer', 'but', 'nothing', 'otherworldly', 'im', 'glad', 'i', 'got', 'to', 'try', 'it', 'and', 'would', 'drink', 'it', 'again'],['been', 'seeing', 'this', 'beer', 'on', 'shelves', 'for', 'a', 'while', 'now', 'but', 'never', 'bought', 'one', 'now', 'that', 'i', 'tried', 'their', 'knuckle', 'sndwitch', 'ive', 'been', 'trying', 'more', 'bootleggars', 'stuff', 'pours', 'a', 'very', 'nice', 'orangy', 'hazy', 'yellow', 'color', 'very', 'nice', 'frothy', 'head', 'with', 'very', 'nice', 'lacing', 'in', 'the', 'aroma', 'you', 'really', 'get', 'the', 'rye', 'nice', 'hoppy', 'citrucy', 'aroma', 'complements', 'the', 'rye', 'character', 'the', 'flavor', 'is', 'great', 'nice', 'hoppy', 'bite', 'with', 'the', 'smoothness', 'of', 'the', 'rye', 'it', 'feels', 'like', 'its', 'missing', 'something', 'in', 'the', 'finish', 'like', 'a', 'hop', 'isnt', 'biting', 'my', 'tongue', 'enough', 'it', 'hits', 'the', 'sides', 'of', 'your', 'tongue', 'but', 'notthe', 'center', 'mouthfeel', 'is', 'good', 'nice', 'dryness', 'with', 'a', 'good', 'carb', 'overall', 'i', 'could', 'drink', 'this', 'often', 'if', 'i', 'see', 'it', 'on', 'tap', 'somewhere', 'ill', 'get', 'it', 'for', 'sure', 'its', 'a', 'solid', 'beer', 'and', 'i', 'dont', 'know', 'why', 'it', 'only', 'had', 'a', 'b', 'rating', 'on', 'here', 'its', 'not', 'the', 'best', 'ive', 'had', 'but', 'it', 'is', 'solid'],['poured', 'from', 'a', '22oz', 'bottle', 'without', 'a', 'best', 'before', 'date', 'into', 'a', 'schooner', 'a', '–', 'solid', 'amber', 'color', 'and', 'very', 'slightly', 'cloudy', 'fluffy', 'white', 'head', 'that', 'resolved', 'after', 'a', 'couple', 'minutes', 'leaving', 'a', 'moderate', 'amount', 'of', 'lacing', 's', '–', 'strong', 'citrus', 'hops', 'on', 'the', 'nose', 'really', 'nice', 'and', 'cutting', 'so', 'strong', 'that', 'i', 'couldn’t', 'get', 'anything', 'else', 't', '–', 'best', 'way', 'i', 'could', 'think', 'of', 'to', 'describe', 'the', 'taste', 'as', 'remarkably', 'even', 'and', 'bitter', 'the', 'citrus', 'hops', 'was', 'present', 'from', 'the', 'first', 'part', 'of', 'the', 'sip', 'and', 'all', 'the', 'way', 'through', 'it', 'was', 'supported', 'by', 'some', 'very', 'mild', 'bready', 'malts', 'but', 'the', 'hops', 'were', 'absolutely', 'center', 'stage', 'm', '–', 'this', 'had', 'a', 'lighter', 'body', 'than', 'its', 'color', 'and', 'pedigree', 'would', 'have', 'suggested', 'it', 'was', 'only', 'mildly', 'carbonated', 'with', 'no', 'booziness', 'd', '–', 'very', 'drinkable', 'but', 'also', 'a', 'bit', 'unidimensional', 'lacked', 'character', 'beyond', 'the', 'hops', 'to', 'really', 'drive', 'me', 'to', 'drink', 'more', 'than', 'one', 'a', 'decent', 'ipa', 'but', 'not', 'really', 'remarkable', 'in', 'any', 'dimension', 'other', 'than', 'the', 'solidity', 'of', 'its', 'hops'],['pours', '14', 'finger', 'of', 'beige', 'head', 'color', 'is', 'a', 'burnt', 'rustic', 'orange', 'aroma', 'rye', 'grassyfloral', 'hops', 'some', 'grapefruit', 'citrus', 'and', 'bready', 'maltys', 'taste', 'grapefruit', 'citrus', 'floral', 'grassy', 'hops', 'rye', 'bready', 'malts', 'simple', 'mouthfeel', 'bitter', 'and', 'spiced', 'medium', 'bodied', 'with', 'a', 'medium', 'amount', 'of', 'carbonation', 'ends', 'really', 'really', 'dry', 'overall', 'decent', 'rpa', 'but', 'a', 'bit', 'to', 'dry', 'for', 'me', 'somewhat', 'drinkable'],['appearance', 'yellowamber', 'with', 'a', 'fluffy', 'white', 'head', 'smell', 'very', 'strong', 'floral', 'and', 'piney', 'hops', 'i', 'had', 'this', 'from', 'a', 'freshly', 'tapped', 'keg', 'your', 'results', 'may', 'vary', 'taste', 'strong', 'bitterness', 'up', 'front', 'into', 'a', 'rye', 'and', 'malt', 'slightly', 'sweet', 'and', 'very', 'substantial', 'backbone', 'leaves', 'a', 'bit', 'of', 'resiny', 'hop', 'aftertaste', 'mouthfeel', 'pretty', 'thick', 'and', 'moderately', 'carbonated', 'overall', 'great', 'ipa', 'the', 'hop', 'bill', 'is', 'nothing', 'new', 'but', 'the', 'maltrye', 'backbone', 'sets', 'it', 'apart', 'from', 'the', 'standard', 'west', 'coast', 'style', 'ipa', 'i', 'had', 'this', 'from', 'a', 'freshly', 'tapped', 'keg', 'and', 'was', 'blown', 'away', 'i', 'had', 'it', 'a', 'few', 'months', 'later', 'from', 'the', 'same', 'keg', 'and', 'it', 'was', 'still', 'great', '', 'the', 'hop', 'aroma', 'had', 'faded', 'somewhat', 'but', 'the', 'grains', 'were', 'still', 'delicious'],['disappointing', 'thin', 'and', 'innocuous', 'tastes', 'more', 'like', 'a', 'session', 'beer', 'where', 'is', 'the', 'rye'],['on', 'tap', 'at', 'congregation', 'ale', 'house', 'slightly', 'hazy', 'gold', 'color', 'aroma', 'of', 'pine', 'and', 'rye', 'bread', 'taste', 'is', 'balanced', 'rye', 'is', 'present', 'but', 'not', 'overwhelming', 'moderate', 'bitter', 'finish', 'smooth', 'mouth', 'feel'],['0'],['poured', 'from', 'a', '22oz', 'bomber', 'into', 'a', 'pint', 'glass', 'l', 'nice', 'orange', 'color', 'very', 'clear', 'delicate', 'offwhite', 'head', 's', 'toasted', 'malt', 'hint', 'of', 'acetic', 'acid', 'vinegar', 't', 'toasted', 'malt', 'with', 'a', 'tart', 'crispness', 'slight', 'cidery', 'aftertaste', 'im', 'trying', 'to', 'learn', 'what', 'flavors', 'rye', 'adds', 'to', 'a', 'beer', 'but', 'im', 'not', 'sure', 'i', 'taste', 'it', 'here', 'f', 'body', 'is', 'on', 'the', 'thin', 'side', 'of', 'medium', 'well', 'carbonated', 'o', 'this', 'is', 'a', 'nice', 'beer', 'more', 'complex', 'than', 'your', 'standard', 'pale', 'ale', 'but', 'could', 'still', 'drink', 'this', 'all', 'night', 'long', 'especially', 'with', 'some', 'good', 'hearty', 'bbq'],['its', 'like', 'alpine', 'ale', 'but', 'more', 'hoppy'],['orange', 'golden', 'in', 'the', 'glass', 'with', 'a', 'classic', 'offwhite', 'head', 'looking', 'good', 'nose', 'is', 'light', 'with', 'yeasty', 'easters', 'light', 'lemon', 'taste', '', 'classic', 'styling', 'here', 'very', 'well', 'balanced', 'this', 'one', 'goes', 'down', 'easy', 'with', 'big', 'points', 'in', 'the', 'drinkability', 'column', 'hoppiness', 'really', 'comes', 'through', '', 'ipa', 'yes', 'have', 'had', 'other', 'ryes', 'in', 'the', 'past', 'where', 'the', 'rye', 'really', 'dominates', 'while', 'i', 'like', 'that', 'extreme', 'not', 'really', 'getting', 'that', 'here', 'though', 'the', 'beer', 'is', 'quite', 'good', 'carbonation', 'is', 'just', 'north', 'of', 'mild', 'sipping', 'this', 'one', 'well', 'chilled', 'on', 'a', 'hot', 'southern', 'california', 'evening', 'this', 'one', 'hits', 'the', 'spot', 'tonight', 'given', 'the', 'solid', 'drinkability', 'of', 'this', 'beer', 'unfortunately', 'my', 'glass', 'will', 'soon', 'be', 'empty'],['i', 'was', 'hoping', 'for', 'some', 'strong', 'rye', 'notes', 'from', 'this', 'beer', 'they', 'should', 'definitely', 'try', 'a', 'jacaranda', 'from', 'claremont', 'craft', 'ales', 'and', 'figure', 'their', 'ish', 'out', 'this', 'beer', 'was', 'no', 'bueno', 'need', 'more', 'rye', 'very', 'average', 'beer', 'disappointed', '='],['pours', 'an', 'amber', 'brown', 'with', 'nice', 'clarity', 'and', 'a', 'fluffy', 'cap', 'that', 'leaves', 'thick', 'lacing', 'nose', 'has', 'some', 'spicy', 'bready', 'notes', 'earthy', 'forest', 'without', 'much', 'else', 'taste', 'is', 'easy', 'drinking', 'and', 'bittered', 'nicely', 'yet', 'a', 'touch', 'simplistic', 'dry', 'rye', 'bread', 'a', 'touch', 'of', 'slightly', 'sweet', 'caramel', 'and', 'again', 'not', 'much', 'else', 'decent', 'and', 'easy', 'drinking', 'but', 'nothing', 'out', 'of', 'the', 'ordinary'],['poured', 'from', 'a', '22oz', 'bomber', 'bottle', 'into', 'a', 'bruery', 'tulip', 'glass', 'a', 'the', 'beer', 'pours', 'a', 'cloudy', 'golden', 'orange', 'with', 'a', 'light', 'brown', 'tinge', 'hue', 'a', 'solid', 'inch', 'head', 'rose', 'leaving', 'some', 'spotty', 'lacing', 's', 'scents', 'of', 'grapefruit', 'and', 'mild', 'caramel', 'some', 'dry', 'lemon', 'citrus', 'very', 'mild', 'rye', 'and', 'hop', 'spice', 't', 'mixture', 'of', 'tropical', 'hops', 'followed', 'by', 'carmel', 'sweetness', 'with', 'a', 'bitter', 'dry', 'finish', 'its', 'a', 'bit', 'between', 'a', 'light', 'imperial', 'ipa', 'with', 'this', 'malt', 'character', 'and', 'a', 'lighter', 'hops', 'than', 'an', 'ipa', 'the', 'rye', 'notes', 'could', 'be', 'stepped', 'up', 'too', 'imho', 'm', 'medium', 'mouth', 'dry', 'finish', 'malt', 'smooths', 'it', 'out', 'a', 'bit', 'but', 'it', 'also', 'has', 'some', 'grit', 'to', 'it', 'o', 'decent', 'but', 'not', 'stellar', 'it', 'has', 'potential', 'so', 'some', 'recipe', 'tweaking', 'and', 'it', 'could', 'be', 'a', 'real', 'winner'],['this', 'is', 'a', 'nice', 'solid', 'brew', 'that', 'i', 'would', 'hand', 'to', 'someone', 'new', 'to', 'craft', 'beer', 'appearance', 'orangebrown', 'with', 'a', 'fair', 'amount', 'of', 'white', 'head', 'that', 'disappears', 'after', 'a', 'few', 'minutes', 'aroma', 'distinct', 'but', 'not', 'overwhelming', 'scent', 'of', 'hops', 'taste', 'this', 'is', 'not', 'an', 'overwhelming', 'beer', '', 'the', 'rye', 'complements', 'the', 'hops', 'well', '', 'they', 'are', 'both', 'present', 'at', 'first', 'taste', 'with', 'the', 'hops', 'coming', 'out', 'stronger', 'the', 'rye', 'lasts', 'longer', 'hanging', 'on', 'to', 'the', 'finish', 'as', 'the', 'taste', 'fades', 'theres', 'almost', 'a', 'smoothness', 'to', 'this', 'beer', 'which', 'is', 'unusual', 'for', 'a', 'hopsy', 'beverage', 'id', 'bring', 'this', 'one', 'to', 'a', 'house', 'full', 'of', 'bud', 'drinkers', 'as', 'an', 'introduction', 'to', 'craft', 'beer', '', 'it', 'wont', 'overwhelm', 'anyone', 'but', 'still', 'has', 'a', 'distinctive', 'taste', 'scent', 'and', 'body', 'as', 'for', 'myself', 'i', 'prefer', 'bolder', 'flavors'],['i', 'generally', 'dont', 'like', 'the', 'flavor', 'of', 'rye', 'but', 'in', 'beer', 'i', 'find', 'its', 'a', 'nice', 'compliment', 'to', 'the', 'hops', 'it', 'works', 'especially', 'well', 'in', 'an', 'ipa', 'where', 'ryes', 'natural', 'astringency', 'cant', 'overpower', 'the', 'beer', 'this', 'ones', 'got', 'a', 'rich', 'nose', 'that', 'offers', 'plenty', 'of', 'caramel', 'malt', 'and', 'cascade', 'hops', 'i', 'cant', 'smell', 'the', 'rye', 'i', 'can', 'definitely', 'taste', 'it', 'though', 'it', 'adds', 'a', 'little', 'spice', 'to', 'an', 'otherwise', 'solid', 'ipa', 'the', 'rye', 'flavor', 'melds', 'nicely', 'into', 'the', 'hops', 'on', 'the', 'finish', 'solid', 'effort', 'recommended', 'music', 'pairing', 'stephen', 'malkmus', '', 'pig', 'lib'],['thanks', 'for', 'this', 'one', 'from', 'randy', 'poured', 'into', 'a', 'pint', 'glass', 'pours', 'a', 'burnt', 'orange', 'color', 'with', 'a', 'thing', 'layer', 'of', 'foam', 'big', 'rye', 'aroma', 'with', 'a', 'little', 'bit', 'of', 'fruity', 'and', 'piney', 'hops', 'rounding', 'this', 'one', 'out', 'hints', 'of', 'caramel', 'linger', 'bitter', 'hops', 'start', 'to', 'finish', 'here', 'with', 'a', 'pretty', 'good', 'rye', 'flavor', 'slight', 'fruity', 'notes', 'in', 'the', 'flavor', 'but', 'this', 'has', 'a', 'big', 'bitter', 'hop', 'finish', 'light', 'body', 'with', 'somewhat', 'sharp', 'carbonation', 'pretty', 'enjoyable', 'ipa', 'here', 'i', 'love', 'rye', 'so', 'this', 'one', 'is', 'right', 'up', 'my', 'alley'],['look', 'brownish', 'orange', 'with', '1', 'inch', 'head', 'and', 'great', 'retention', 'and', 'some', 'spotty', 'lace', 'also', 'had', 'some', 'floaters', 'smell', 'very', 'strong', 'wheat', 'and', 'rye', 'notes', 'with', 'some', 'citrus', 'and', 'pine', 'taste', 'very', 'light', 'wheat', 'and', 'rye', 'notes', 'and', 'piney', 'hops', 'are', 'the', 'big', 'flavors', 'citrus', 'fruits', 'as', 'well', 'are', 'present', 'as', 'the', 'beer', 'warms', 'the', 'piney', 'hops', 'become', 'a', 'bit', 'overpowering', 'mouthfeel', 'light', 'body', 'high', 'carbonation', 'and', 'a', 'dry', 'finish', 'it', 'leaves', 'the', 'palate', 'really', 'dry', 'that', 'you', 'need', 'to', 'keep', 'drinking', 'this', 'is', 'it', 'that', 'bad', 'overall', 'i', 'really', 'enjoyed', 'this', 'beer', 'and', 'will', 'consume', 'several', 'more', 'in', 'the', 'coming', 'months', 'the', 'is', 'a', 'great', 'summer', 'beer', 'especially', 'on', 'these', 'hot', 'california', 'nights', 'good', 'flavor', 'profile', 'and', 'just', 'an', 'overall', 'good', 'beer'],['a', '', 'burnt', 'umber', 'color', 'with', 'an', 'offwhite', 'head', 'that', 'had', 'moderate', 'retention', 'and', 'stick', 's', '', 'fairly', 'mild', 'not', 'a', 'particularly', 'hoppy', 'ipa', 'although', 'granted', 'it', 'is', 'a', 'single', 'as', 'opposed', 'to', 'double', 'theres', 'some', 'citrusgrapefruit', 'notes', 'some', 'caramelized', 'rye', 'on', 'the', 'backbone', 'it', 'smells', 'nice', 'but', 'fairly', 'innocuous', 't', '', 'easy', 'drinking', 'some', 'more', 'hops', 'mostly', 'grapefruit', 'in', 'nature', 'the', 'rye', 'is', 'nicely', 'present', 'but', 'not', 'overpowering', 'nothing', 'in', 'this', 'beer', 'is', 'overpowering', 'just', 'smooth', 'easy', 'to', 'drink', 'm', '', 'moderate', 'body', 'and', 'carbonation', 'and', 'finishes', 'on', 'the', 'dry', 'side', 'o', '', 'not', 'a', 'bad', 'beer', 'can', 'get', 'it', 'down', 'easily', 'enough', 'but', 'there', 'isnt', 'a', 'ton', 'special', 'that', 'is', 'going', 'on', 'here'],['poured', 'into', 'a', 'stone', 'nonic', 'a', 'pours', 'a', 'difficult', 'mix', 'of', 'brown', 'orange', 'red', 'and', 'yellow', 'with', 'different', 'colors', 'and', 'shades', 'all', 'over', 'the', 'place', 'depending', 'on', 'how', 'the', 'light', 'hits', 'lacing', 'just', 'covers', 'the', 'wall', 'of', 'the', 'glass', 'with', 'foam', 'nice', 's', 'tangerine', 'mango', 'apple', 'cherry', 'hops', 'and', 'yeast', 'in', 'the', 'nose', 'the', 'fruitiness', 'and', 'hoppiness', 'really', 'balance', 'well', 'in', 'the', 'nose', 'which', 'i', 'think', 'is', 'a', 'nice', 'change', 'from', 'the', 'onesided', 'dominance', 'of', 'so', 'many', 'ipas', 't', 'taste', 'is', 'more', 'bitter', 'than', 'i', 'expected', 'i', 'got', 'some', 'yeasty', 'floaties', 'in', 'my', 'glass', 'and', 'im', 'a', 'little', 'bit', 'worried', 'thats', 'affecting', 'the', 'taste', 'honestly', 'much', 'more', 'hop', 'bite', 'grain', 'and', 'yeast', 'in', 'the', 'taste', 'than', 'was', 'present', 'in', 'the', 'smell', 'fruits', 'are', 'more', 'subtle', 'and', 'swirl', 'around', 'the', 'strong', 'presence', 'of', 'the', 'aforementioned', 'flavors', 'offering', 'good', 'support', 'but', 'i', 'wish', 'the', 'fruitiness', 'was', 'a', 'little', 'less', 'shy', 'theres', 'kind', 'of', 'a', 'hollow', 'taste', 'gap', 'in', 'the', 'middle', 'which', 'is', 'strange', 'to', 'me', 'm', 'watching', 'the', 'beer', 'pour', 'made', 'it', 'seem', 'like', 'it', 'had', 'an', 'almost', 'syrup', 'like', 'viscosity', 'and', 'you', 'can', 'appreciate', 'the', 'slick', 'thickness', 'in', 'the', 'mouth', 'as', 'well', 'really', 'a', 'silky', 'feeling', 'though', 'that', 'does', 'well', 'by', 'me', 'carbonation', 'is', 'felt', 'more', 'in', 'the', 'rest', 'in', 'the', 'mouth', 'than', 'in', 'the', 'tongue', 'o', 'i', 'drank', 'this', 'on', 'the', 'recommendation', 'of', 'cavery', 'and', 'he', 'had', 'a', 'glass', 'from', 'this', 'same', 'bottle', 'with', 'me', 'he', 'says', 'there', 'seems', 'to', 'be', 'something', 'strange', 'about', 'this', 'bottle', 'in', 'relation', 'to', 'the', 'last', 'time', 'he', 'tried', 'it', 'so', 'i', 'leave', 'my', 'review', 'here', 'open', 'to', 'the', 'possibility', 'that', 'the', 'yeast', 'i', 'accidentally', 'poured', 'or', 'some', 'other', 'bottle', 'issue', 'isnt', 'giving', 'me', 'the', 'full', 'experience', 'here', 'that', 'said', 'the', 'beer', 'i', 'just', 'had', 'is', 'good', 'interesting', 'but', 'seems', 'to', 'have', 'a', 'strong', 'need', 'to', 'be', 'tweaked', 'flavor', 'of', 'fruits', 'needs', 'to', 'be', 'upped', 'hopsyeast', 'toned', 'down', 'and', 'progression', 'of', 'the', 'tastes', 'needs', 'to', 'be', 'reworked', 'a', 'bit', 'i', 'think', 'there', 'are', 'some', 'raw', 'materials', 'of', 'greatness', 'in', 'this', 'beer', 'but', 'at', 'the', 'moment', 'only', 'the', 'raw', 'materials'],['bottle', 'from', 'kl', 'rwc', 'no', 'freshness', 'date', 'the', 'color', 'is', 'a', 'brownishgold', 'fairly', 'hazy', 'with', 'a', 'lowermoderate', 'level', 'of', 'carbonation', 'that', 'produces', 'about', 'an', 'inch', 'of', 'head', 'the', 'nose', 'ispretty', 'bland', 'actually', 'i', 'was', 'expecting', 'a', 'lot', 'more', 'from', 'this', 'having', 'had', 'some', 'great', 'ipas', 'from', 'bootleggers', 'theres', 'a', 'citrusy', 'grapefruitlike', 'hop', 'presence', 'but', 'its', 'mild', 'i', 'cant', 'say', 'that', 'i', 'get', 'much', 'rye', 'a', 'bit', 'of', 'cereal', 'sweetness', 'not', 'a', 'bad', 'aroma', 'by', 'any', 'means', 'just', 'boring', 'theres', 'a', 'bolder', 'hop', 'character', 'on', 'the', 'palate', 'leaning', 'in', 'the', 'grapefruit', 'direction', 'with', 'a', 'little', 'bit', 'of', 'an', 'herbalearthy', 'twang', 'rye', 'has', 'a', 'moderate', 'presence', 'lending', 'some', 'drying', 'earthiness', 'to', 'an', 'otherwise', 'bready', 'moderately', 'sweet', 'malt', 'base', 'as', 'i', 'work', 'my', 'way', 'through', 'the', 'bottle', 'i', 'start', 'to', 'pick', 'up', 'mild', 'diacetyl', 'the', 'finish', 'is', 'pretty', 'grainy', 'and', 'bitter', 'the', 'beer', 'feels', 'a', 'bit', 'thin', 'until', 'it', 'warms', 'up', 'and', 'then', 'the', 'caramel', 'malt', 'backbone', 'becomes', 'more', 'evident', 'overall', 'theres', 'nothing', 'horribly', 'wrong', 'with', 'this', 'beer', 'its', 'just', 'very', 'runofthemill', 'easy', 'enough', 'to', 'drink', 'but', 'completely', 'forgettable', 'its', 'probably', 'more', 'of', 'a', 'b', 'than', 'c+', 'but', 'i', 'cant', 'justify', 'bumping', 'up', 'my', 'scores', 'any', 'more', 'than', 'this', 'pass', 'on', 'this', 'one', 'and', 'give', 'their', 'soco', 'ipa', 'a', 'try'],['pours', 'a', 'clean', 'orangeish', 'to', 'yellow', 'color', 'with', 'a', 'small', 'white', 'head', 'in', 'the', 'aroma', 'dry', 'rye', 'and', 'a', 'hint', 'of', 'hops', 'in', 'the', 'taste', 'a', 'small', 'hop', 'and', 'a', 'small', 'rye', 'fruitiness', 'a', 'small', 'hop', 'bite', 'and', 'medium', 'to', 'lighter', 'bodied', 'mouthfeel', 'with', 'a', 'dry', 'green', 'apple', 'skin', 'in', 'the', 'aftertaste', 'a', 'nice', 'rye', 'presence', 'but', 'small', 'hop', 'than', 'expected'],['22oz', 'bottle', 'acquired', 'in', 'trade', 'with', 'hophead22', 'thanks', 'poured', 'a', 'medium', 'and', 'slightly', 'hazy', 'amberishorangish', 'color', 'with', 'an', 'averaged', 'sized', 'off', 'white', 'head', 'armoas', 'of', 'rye', 'grains', 'a', 'little', 'earthy', 'and', 'citrus', 'tastes', 'of', 'rye', 'grains', 'citrus', 'ans', 'some', 'caramel', 'had', 'a', 'light', 'tart', 'and', 'sour', 'finish', 'that', 'i', 'too', 'liked'],['pours', 'a', 'hazy', 'orwngish', 'brown', 'a', 'nice', 'amount', 'of', 'light', 'tan', 'head', 'very', 'frothy', 'and', 'nice', 'smells', 'sweet', 'with', 'a', 'touch', 'of', 'rye', 'spice', 'some', 'pine', 'on', 'the', 'nose', 'as', 'well', 'tastes', 'sweet', 'and', 'well', 'balanced', 'the', 'rye', 'spice', 'is', 'a', 'bit', 'underwhelming', 'and', 'the', 'hops', 'are', 'not', 'very', 'prominent', 'but', 'overall', 'a', 'fairly', 'solid', 'brew'],['a', '', 'fairly', 'clear', 'honey', 'near', 'white', 'head', 'stays', 'for', 'some', 'time', 'cling', 'lace', 'pretty', 'evident', 's', '', 'light', 'smell', 'malt', 'and', 'spice', 't', '', 'rye', 'is', 'nice', 'mixed', 'with', 'sweet', 'malt', 'm', '', 'nice', 'mix', 'between', 'the', 'sweet', 'and', 'the', 'grainier', 'spicy', 'rye', 'd', '', 'very', 'easy', 'to', 'drink', 'i', 'think', 'i', 'like', 'this', 'one'],['got', 'a', 'few', 'bottles', 'form', 'a', 'coworker', 'whose', 'brother', 'flew', 'out', 'this', 'way', 'to', 'visitwith', 'some', 'spare', 'room', 'in', 'the', 'luggage', '', 'a', '', 'amber', 'bit', 'cloudinessbut', 'a', 'nice', 'glow', 'to', 'it', 's', '', 'citrus', 'hops', '', 'rye', 'blenda', 'bit', 'of', 'malts', 'mixed', 'in', 'with', 'a', 'waft', 'of', 'orangecoriander', 't', '', 'pretty', 'goodreminded', 'me', 'of', 'cane', '', 'ebel', 'and', 'founders', 'ryepatastyessentailly', 'a', 'blend', 'of', 'what', 'one', 'smells', 'm', '', 'medium', 'to', 'thin', 'bodied', 'beer', 'that', 'allows', 'the', 'carbonate', 'to', 'roll', 'down', 'the', 'palate', 'o', '', 'i', 'thought', 'it', 'was', 'a', 'pretty', 'good', 'rye', 'p', 'a', 'definitely', 'enjoyed', 'their', 'knuckle', 'sandwich', 'more', 'but', 'nice', 'to', 'try', 'their', 'other', 'offerings', 'none', 'the', 'less'],['chilled', 'bottle', 'into', 'a', 'glass', 'a', 'pours', 'a', 'hazy', 'chestnutamber', 'body', 'with', 'a', 'shortlived', 'offwhite', 'head', 'lacing', 'is', 'light', 'and', 'the', 'primary', 'remnant', 'of', 'head', 'is', 'a', 'medium', 'collar', 'on', 'the', 'beer', 's', 'vibrant', 'citrus', 'and', 'floral', 'hops', 'that', 'combine', 'to', 'remind', 'me', 'of', 'overripe', 'mango', 'its', 'vaguely', 'earthy', 'as', 'well', 'no', 'rye', 'in', 'the', 'nose', 'that', 'i', 'can', 'pick', 'up', 'but', 'there', 'is', 'a', 'cereal', 'note', 'not', 'all', 'that', 'pungent', 'definitely', 'not', 'a', 'standout', 't', 'rye', 'is', 'a', 'little', 'more', 'pronounced', 'in', 'the', 'taste', 'though', 'its', 'not', 'spicy', 'it', 'contributes', 'a', 'robust', 'graininess', 'that', 'counteracts', 'the', 'dominant', 'earthy', 'hops', 'mild', 'taste', 'of', 'citrus', 'but', 'nothing', 'as', 'vibrant', 'as', 'the', 'nose', 'suggested', 'also', 'a', 'little', 'buttery', '', 'by', 'the', 'end', '', 'i', 'havent', 'tasted', 'this', 'in', 'an', 'ipa', 'in', 'a', 'long', 'time', 'm', 'mediumbodied', 'with', 'good', 'carbonation', 'fairly', 'smooth', 'despite', 'the', 'rye', 'which', 'i', 'usually', 'expect', 'to', 'contribute', 'a', 'bite', 'o', 'its', 'drinkable', 'but', 'forgettable', 'still', 'not', 'feeling', 'the', 'bootleggers', 'love', 'yet'],['hazy', 'appearance', 'with', 'nice', 'carbonation', 'and', 'a', 'pleasant', 'aroma', 'of', 'citrus', 'and', 'bready', 'notes', 'the', 'body', 'is', 'a', 'little', 'light', 'with', 'the', 'flavor', 'coming', 'across', 'a', 'little', 'on', 'the', 'watery', 'side', 'this', 'definitely', 'didnt', 'have', 'much', 'of', 'the', 'rye', 'character', 'i', 'expected', 'and', 'was', 'a', 'little', 'too', 'thin', 'compared', 'to', 'others', 'in', 'the', 'style', 'not', 'something', 'i', 'would', 'seek', 'out', 'again'],['0', '22oz', 'bottle', 'poured', 'into', 'a', 'pint', 'glass', 'a', '', 'pours', 'a', 'dark', 'carmelorange', 'in', 'color', 'with', 'a', 'quick', 'fading', 'light', 'tan', 'head', 'some', 'lacing', 'left', 'on', 'the', 'glass', 's', '', 'slight', 'maltiness', 'but', 'that', 'is', 'it', 't', '', 'hoppy', 'but', 'not', 'piney', 'some', 'carmel', 'but', 'not', 'sweet', 'muted', 'd', '', 'medium', 'carbonation', 'o', '', 'interesting', 'flavors', 'but', 'i', 'enjoyed', 'it'],['22oz', 'bottle', 'poured', 'into', 'a', 'pint', 'glass', 'orange', 'gold', 'in', 'color', 'mostly', 'clear', 'with', 'little', 'head', 'not', 'much', 'nose', 'rye', 'is', 'distinct', 'but', 'not', 'as', 'prominent', 'as', 'i', 'would', 'like', 'all', 'in', 'all', 'an', 'average', 'beer'],['just', 'not', 'good', 'skunky', 'and', 'messy', 'all', 'around'],['pours', 'a', 'light', 'orange', 'color', 'impressive', 'clarity', 'good', '34', 'white', 'head', 'on', 'it', 'average', 'in', 'the', 'retentionlace', 'aspect', 'of', 'the', 'appearance', 'score', 'aroma', 'gave', 'up', 'the', 'mild', 'hops', 'sweetness', 'and', 'light', 'rye', 'feelz', 'taste', 'didnt', 'impart', 'the', 'rye', 'though', 'light', 'caramel', 'and', 'hop', 'flavors', 'grapefruit', 'good', 'bomber', 'price', 'but', 'ultimately', 'being', 'simply', 'a', 'decent', 'ipa', 'isnt', 'going', 'to', 'lead', 'me', 'to', 'purchase', 'another', 'bomber', 'when', 'there', 'are', 'so', 'many', '46', 'pack', 'prices', 'from', 'awesome', 'breweries', 'beers', 'snlagunitas', 'etc', '', '', ''],['picked', 'this', 'up', 'at', 'whole', 'foods', 'i', 'left', 'my', 'wallet', 'in', 'el', 'segundo', 'pretty', 'solid', 'beer', 'selection', 'with', 'a', 'nice', 'emphasis', 'on', 'locals', 'the', 'pour', 'on', 'this', 'was', 'a', 'big', 'hazy', 'orange', 'almost', 'widmer', 'heffe', 'like', 'which', 'is', 'strange', 'since', 'some', 'of', 'the', 'previous', 'reviews', 'had', 'it', 'translucent', 'and', 'almost', 'clear', 'i', 'liked', 'to', 'citrusy', 'smell', 'which', 'balances', 'with', 'the', 'malty', 'taste', 'almost', 'to', 'a', 'creamy', 'feel', 'this', 'was', 'quite', 'drinkable', 'my', 'only', 'concern', 'is', 'that', 'these', 'guys', 'are', 'inconsistant', 'with', 'what', 'hits', 'the', 'market', 'and', 'how', 'each', 'bottle', 'or', 'batch', 'is', 'different', 'i', 'got', 'a', 'good', 'one', 'ill', 'be', 'back', 'just', 'an', 'update', 'i', 'cant', 'stop', 'buying', 'this', 'stuff'],['thanks', 'for', 'the', 'bottle', 'konrad', 'i', 'like', 'the', 'color', 'scheme', 'on', 'the', 'bottle', 'it', 'fits', 'the', 'name', 'poured', 'it', 'out', 'into', 'a', 'pint', 'glass', 'its', 'surprisingly', 'translucent', 'with', 'not', 'the', 'tiniest', 'hint', 'of', 'haze', 'small', 'streams', 'of', 'bubbles', 'looks', 'like', 'tea', 'water', 'a', 'simple', 'golden', 'yellow', 'with', 'slight', 'red', 'tinges', 'and', 'a', 'tiny', 'ring', 'of', 'white', 'head', 'on', 'top', 'nose', 'has', 'a', 'sharp', 'sweet', 'fruit', 'smell', 'like', 'apple', 'and', 'pear', 'this', 'layer', 'is', 'almost', 'like', 'a', 'cider', 'some', 'hops', 'come', 'through', 'as', 'well', 'but', 'its', 'dominated', 'by', 'the', 'sugary', 'fruit', 'taste', 'is', 'sweet', 'malty', 'flavors', 'vaguely', 'pineapple', 'lingering', 'hops', 'come', 'in', 'at', 'the', 'end', 'to', 'remind', 'that', 'its', 'an', 'ipa', 'but', 'they', 'are', 'very', 'gentle', 'i', 'cant', 'pick', 'up', 'on', 'the', 'rye', 'very', 'gentle', 'mustiness', 'mouthfeel', 'and', 'drinkability', 'are', 'both', 'average', 'overall', 'not', 'bad', 'just', 'doesnt', 'seem', 'to', 'fit', 'the', 'rye', 'or', 'ipa', 'categories'],['glass', 'sam', 'adams', 'perfect', 'pint', 'glass', 'temp', 'cellared', '', 'approx', '55', 'degrees', 'thanks', 'to', 'rodburg', 'for', 'the', 'bootleggers', 'brewery', 'hookup', 'this', 'is', 'a', 'lightly', 'hazy', 'golden', 'brown', 'colored', 'liquid', 'with', 'a', 'slight', 'orange', 'cast', 'to', 'it', 'a', 'onefinger', 'offwhite', 'colored', 'head', 'of', 'foam', 'sits', 'on', 'top', 'retention', 'is', 'fairly', 'good', 'but', 'is', 'gone', 'before', 'the', 'glass', 'hits', 'the', 'halfway', 'point', 'lacing', 'is', 'good', 'in', 'appearance', 'but', 'is', 'very', 'slippery', 'lots', 'of', 'citrus', 'hops', 'notes', 'blended', 'with', 'a', 'boatload', 'of', 'caramel', 'presence', 'almost', 'has', 'a', 'butterscotch', 'quality', 'to', 'it', 'light', 'spice', 'notes', 'and', 'a', 'biscuity', 'yeast', 'presence', 'the', 'sweetness', 'of', 'butterscotchcaramel', 'hits', 'first', 'and', 'lingers', 'for', 'awhile', 'just', 'when', 'you', 'think', 'that', 'nothing', 'is', 'going', 'to', 'happen', 'in', 'comes', 'a', 'good', 'kiss', 'of', 'citrus', 'hops', 'bringing', 'a', 'touch', 'of', 'bitterness', 'with', 'it', 'the', 'yeast', 'is', 'still', 'present', 'but', 'its', 'somewhat', 'buried', 'there', 'is', 'a', 'nice', 'hint', 'of', 'rye', 'spice', 'coming', 'through', 'but', 'not', 'nearly', 'as', 'much', 'as', 'i', 'had', 'anticipatedexpected', 'the', 'body', 'is', 'medium', 'at', 'best', 'but', 'id', 'probably', 'put', 'it', 'in', 'the', 'high', 'end', 'of', 'light', 'bodied', 'the', 'carbonation', 'is', 'medium', 'level', 'it', 'has', 'a', 'crisp', 'sharpness', 'to', 'it', 'the', 'body', 'is', 'a', 'letdown', 'to', 'me', 'its', 'quite', 'drinkable', 'but', 'its', 'really', 'just', 'kind', 'of', 'a', 'lackluster', 'beer', 'i', 'hate', 'saying', 'that', 'because', 'i', 'really', 'hoped', 'to', 'like', 'it', 'if', 'i', 'want', 'something', 'completely', 'inoffensive', 'that', 'i', 'dont', 'have', 'to', 'think', 'about', 'the', 'multiple', 'layers', 'of', 'this', 'would', 'be', 'on', 'the', 'list', 'sadly'],['poured', 'a', 'clear', 'light', 'copper', 'hue', 'with', 'an', 'eggshell', 'colored', 'head', 'left', 'little', 'lacing', 'on', 'the', 'glass', 'during', 'the', 'drink', 'however', 'smell', 'was', 'a', 'faint', 'floral', 'hoppiness', 'with', 'some', 'sweet', 'malty', 'notes', 'as', 'well', 'not', 'much', 'going', 'on', 'there', 'taste', 'was', 'a', 'balanced', 'between', 'the', 'malts', 'and', 'the', 'hops', 'upfront', 'some', 'caramel', 'malt', 'and', 'a', 'slight', 'rye', 'spice', 'flavor', 'hops', 'were', 'crisp', 'and', 'refreshing', 'in', 'the', 'finish', 'floral', 'hops', 'were', 'the', 'majority', 'with', 'a', 'slight', 'grassiness', 'mouthfeel', 'was', 'medium', 'bodied', 'and', 'made', 'for', 'a', 'refreshing', 'thirst', 'quencher', 'drinkability', 'was', 'good', 'because', 'of', 'the', 'balance', 'not', 'too', 'much', 'hop', 'bite', 'but', 'not', 'to', 'much', 'malt', 'sweetness', 'alcohol', 'flavor', 'is', 'subdued', 'and', 'this', 'probably', 'could', 'be', 'a', 'session', 'beer'],['perfectly', 'respectable', 'ipa', 'though', 'the', 'rye', 'aspect', 'is', 'not', 'as', 'pronounced', 'as', 'some', 'of', 'the', 'competition', 'a', 'clear', 'golden', 'good', 'foam', '', 'lacing', 'sediment', 'remained', 'in', 'bottle', 's', 'hops', 'with', 'a', 'little', 'malt', 'appropriate', 'for', 'an', 'ipa', 't', 'hoppy', 'but', 'little', 'rye', 'character', 'a', 'good', 'example', 'of', 'an', 'ipa', 'm', 'clean', 'and', 'crisp', 'appropriately', 'west', 'coast', 'ipa', 'd', 'easy', 'to', 'drink', 'slight', 'alcohol', 'in', 'back', 'may', 'slow', 'down', 'some', 'not', 'the', 'greatest', 'rye', 'ipa', 'on', 'the', 'market', 'but', 'good', 'clean', 'taste', 'aroma', 'and', 'ipa', 'character', 'make', 'it', 'well', 'worth', 'trying'],['ontap', 'at', 'bootleggers', 'a', 'the', 'pour', 'is', 'an', 'orangishyellow', 'color', 'with', 'a', 'nice', 'white', 'head', 'on', 'top', 'which', 'sticks', 'around', 'for', 'quite', 'awhile', 's', 'the', 'smell', 'is', 'primarily', 'citrus', 'hops', 'grapefruit', 'with', 'a', 'touch', 'of', 'caramel', 'but', 'no', 'rye', 'notes', 'to', 'speak', 'of', 't', 'the', 'taste', 'is', 'a', 'bit', 'better', 'than', 'the', 'nose', 'the', 'grapefruit', 'hops', 'are', 'there', 'along', 'with', 'a', 'somewhat', 'mild', 'bitterness', 'the', 'caramel', 'malt', 'provides', 'a', 'bit', 'more', 'sweetness', 'than', 'im', 'used', 'to', 'in', 'an', 'ipa', 'but', 'not', 'bad', 'again', 'no', 'rye', 'to', 'be', 'found', 'm', 'medium', 'in', 'body', 'with', 'moderate', 'carbonation', 'd', 'this', 'ipa', 'isnt', 'too', 'bad', 'but', 'not', 'necessarily', 'one', 'of', 'the', 'better', 'west', 'coast', 'incarnations', 'the', 'name', 'is', 'also', 'a', 'bit', 'misleading', 'as', 'i', 'really', 'failed', 'to', 'detect', 'any', 'of', 'the', 'usual', 'rye', 'characteristics'],['appearance', '', 'this', 'is', 'a', 'thick', 'murky', 'light', 'brown', 'in', 'color', 'with', 'a', 'faint', 'orangish', 'tint', 'and', 'a', 'brownwhite', 'head', 'that', 'was', 'almost', 'as', 'thick', 'as', 'the', 'beer', 'itself', 'smell', '', 'theres', 'a', 'lot', 'going', 'on', 'in', 'here', 'the', 'hops', 'jump', 'out', 'first', 'they', 'are', 'mainly', 'citrus', 'in', 'character', 'but', 'with', 'a', 'very', 'bitter', 'slant', 'they', 'are', 'incredibly', 'creamy', 'on', 'the', 'nose', 'if', 'thats', 'possible', 'and', 'theres', 'a', 'sharpness', 'to', 'them', 'that', 'you', 'dont', 'often', 'find', 'the', 'malt', 'base', 'is', 'rank', 'in', 'a', 'very', 'good', 'way', 'the', 'rye', 'comes', 'out', 'husky', 'and', 'quite', 'tight', 'to', 'the', 'smell', 'beneath', 'it', 'all', 'is', 'a', 'rich', 'sweetness', 'that', 'again', 'smells', 'very', 'tight', 'all', 'of', 'this', 'malty', 'goodness', 'play', 'especially', 'well', 'with', 'the', 'hops', 'taste', '', 'the', 'hops', 'and', 'malts', 'play', 'nice', 'at', 'the', 'taste', 'too', 'the', 'hops', 'lose', 'some', 'of', 'their', 'sharpness', 'that', 'i', 'got', 'from', 'the', 'nose', 'but', 'are', 'still', 'large', 'the', 'malts', 'are', 'just', 'wonderful', 'though', 'and', 'especially', 'that', 'sweet', 'character', 'came', 'threw', 'beautifully', 'at', 'the', 'taste', 'it', 'is', 'all', 'just', 'the', 'right', 'mix', 'of', 'citrus', 'hops', 'malts', 'light', 'nongrainy', 'rye', 'and', 'sugar', 'mouthfeel', '', 'this', 'is', 'huge', 'in', 'the', 'mouth', 'i', 'wouldnt', 'call', 'it', 'fullbodied', 'but', 'definitely', 'medium', 'on', 'the', 'big', 'side', 'the', 'carbonation', 'is', 'light', 'and', 'appropriate', 'there', 'is', 'some', 'light', 'bitterness', 'throughout', 'but', 'this', 'is', 'not', 'a', 'bonecrushing', 'bitter', 'drink', 'like', 'some', 'ipas', 'drinkability', '', 'with', 'a', 'modest', '62', 'abv', 'this', 'is', 'definitely', 'a', 'session', 'ale', 'it', 'is', 'very', 'smooth', 'yet', 'big', 'and', 'chewy', 'and', 'has', 'enough', 'complexity', 'to', 'keep', 'things', 'entertaining', 'i', 'definitely', 'enjoyed', 'this', 'better', 'than', 'most', 'as', 'it', 'is', 'only', 'averaging', 'an', 'overall', 'score', 'of', '35', 'or', 'so', 'and', 'i', 'thought', 'it', 'was', 'way', 'above', 'that', 'grade', 'big', 'heavy', 'and', 'harmonious'],['poured', 'from', 'a', '22oz', 'bomber', 'into', 'my', 'dogfish', 'head', 'shaped', 'pint', 'glass', 'rustic', 'suggests', 'that', 'the', 'brewer', 'lacks', 'confidence', 'in', 'this', 'beer', '', 'the', 'dent', 'in', 'the', 'bottlecap', 'were', 'these', 'handcapped', 'further', 'adds', 'to', 'the', 'homebrew', 'feel', 'safety', 'orange', 'liquid', 'with', 'some', 'chill', 'haze', '', 'topped', 'by', 'a', 'billowing', 'finger', 'of', 'offwhite', 'foam', 'excellent', 'lacing', 'and', 'decent', 'retention', 'caramel', 'citrus', 'and', 'rye', 'flour', 'aromas', '', 'floral', 'and', 'earthy', 'but', 'somewhat', 'subdued', 'bitterness', 'is', 'assertive', 'though', 'the', 'hop', 'flavors', 'are', 'not', 'particularly', 'complex', 'tangerine', 'grass', 'flowers', 'and', 'floralherbal', 'notes', 'combine', 'with', 'honey', 'or', 'caramel', 'malt', 'the', 'rye', 'adds', 'a', 'touch', 'of', 'sourness', 'in', 'the', 'finish', 'almost', 'like', 'buckwheat', 'spritzy', 'carbonation', 'not', 'quite', 'mediumbodied', 'and', 'very', 'zippy', 'mouthfeel', 'a', 'good', 'effort', 'which', 'i', 'would', 'be', 'happy', 'to', 'have', 'again', '', 'though', 'not', 'in', 'the', 'same', 'league', 'as', 'alpine', 'nelson'],['pours', 'a', 'clear', 'dark', 'orange', 'amber', 'with', 'a', 'beautiful', 'thick', 'and', 'firm', 'white', 'head', 'nose', 'is', 'medium', 'sweet', 'and', 'floral', 'grapefruit', 'with', 'a', 'hint', 'and', 'undertone', 'of', 'ripe', 'pineapple', 'mouthfeel', 'is', 'rich', 'and', 'creamy', 'and', 'with', 'a', 'very', 'nice', 'body', 'flavors', 'are', 'actually', 'very', 'much', 'like', 'a', 'rye', 'bread', 'in', 'naturerye', 'grain', 'flavor', 'with', 'extremely', 'well', 'balanced', 'malt', 'and', 'fruit', 'finish', 'is', 'long', 'and', 'with', 'a', 'bitter', 'rye', 'grapefruit', 'character', 'very', 'consumer', 'friendly', 'and', 'food', 'friendly', 'with', 'a', 'very', 'nice', 'character', 'flavor', 'profile', 'and', 'finish', 'finish', 'goes', 'on', 'forever', 'and', 'gets', 'more', 'and', 'more', 'bitter', 'for', 'a', 'minute', 'or', 'two'],['pours', 'a', 'golden', 'orangeish', 'yellow', 'with', 'a', 'big', 'white', 'foam', 'head', 'smells', '', 'wheres', 'the', 'rye', 'smells', 'like', 'some', 'tropical', 'ipa', 'notes', 'just', 'a', 'hint', 'and', '', 'maybe', 'some', 'grapefruit', 'kind', 'of', 'muted', 'flavor', 'is', 'similarly', 'uninspiring', 'its', 'sweeter', 'than', 'a', 'normal', 'ipa', 'but', 'i', 'dont', 'know', 'if', 'thats', 'from', 'the', 'rye', 'or', 'what', 'because', 'i', 'detect', 'basically', 'no', 'rye', 'some', 'grapefruit', 'some', 'sweet', 'malt', 'but', 'a', 'bit', 'grainy', 'well', '', 'its', 'not', 'bad', 'but', 'too', 'expensive', 'for', 'what', 'it', 'is'],['pours', 'a', '3', 'finger', 'nearly', 'white', 'head', 'over', 'a', 'mildly', 'cloudy', 'copper', 'liquid', 'smells', 'piney', 'and', 'tropical', 'hop', 'aroma', 'with', 'some', 'musty', 'rye', 'character', 'tastes', 'juicy', 'tropical', 'flavors', 'from', 'hops', 'with', 'sweet', 'malt', 'undertones', 'and', 'an', 'earthy', 'stingedge', 'from', 'the', 'rye', 'hop', 'flavor', 'is', 'mostly', 'lemon', 'and', 'blood', 'orange', 'with', 'some', 'pineapple', 'and', 'pine', 'comes', 'across', 'a', 'bit', 'acidic', 'and', 'is', 'accompanied', 'by', 'a', 'mild', 'alcohol', 'sting', 'quite', 'clean', 'esters', 'are', 'minimal', 'and', 'hop', 'bitter', 'is', 'strong', 'and', 'clean', 'the', 'hop', 'bitter', 'blends', 'with', 'the', 'alcohol', 'and', 'acidic', 'well', 'but', 'the', 'hop', 'flavors', 'are', 'too', 'over', 'the', 'top', 'the', 'finish', 'falls', 'flat', 'with', 'a', 'lack', 'of', 'flavors', 'would', 'be', 'nice', 'to', 'have', 'a', 'grassy', 'hop', 'bitterness', 'to', 'keep', 'the', 'palatte', 'engaged', 'mdlight', 'body', 'with', 'some', 'dextrinous', 'character', 'strong', 'carbonation', 'is', 'detracting', 'decent', 'beer'],['ontap', 'at', 'beachwood', 'bbq', 'in', 'seal', 'beach', 'ca', 'pours', 'a', 'nice', 'copper', 'color', 'with', 'a', 'onefinger', 'offwhite', 'head', 'the', 'head', 'recedes', 'into', 'a', 'thin', 'layer', 'on', 'top', 'leaving', 'solid', 'lacing', 'smells', 'of', 'pale', 'malts', 'with', 'good', 'amounts', 'of', 'citrus', 'hops', 'and', 'light', 'hints', 'of', 'spicy', 'rye', 'tastes', 'very', 'similar', 'to', 'how', 'it', 'smells', 'pale', 'malt', 'flavors', 'up', 'front', 'with', 'hints', 'of', 'rye', 'are', 'joined', 'shortly', 'by', 'light', 'citrus', 'flavors', 'midway', 'through', 'the', 'sip', 'the', 'rye', 'gains', 'a', 'bit', 'of', 'strength', 'before', 'fading', 'to', 'a', 'mildly', 'bitter', 'ending', 'mouthfeel', 'is', 'good', 'it', 'has', 'a', 'nice', 'thickness', 'with', 'moderate', 'carbonation', 'drinkability', 'is', 'good', 'i', 'finished', 'my', 'glass', 'fairly', 'quickly', 'and', 'could', 'have', 'another', 'overall', 'this', 'is', 'a', 'solid', 'rye', 'ipa', 'that', 'i', 'could', 'session', 'and', 'enjoy', 'it', 'worth', 'a', 'shot'],['i', 'think', 'bootleggers', 'has', 'done', 'a', 'great', 'job', 'with', 'making', 'an', 'ipa', 'that', 'everyone', 'can', 'enjoy', 'so', 'many', 'beer', 'drinkers', 'that', 'are', 'stepping', 'out', 'for', 'the', 'first', 'time', 'are', 'afraid', 'of', 'ipas', 'because', 'they', 'are', 'overthetop', 'in', 'flavor', 'the', 'color', 'is', 'a', 'cloudylight', 'carmel', 'hue', 'it', 'pours', 'beautifully', 'from', 'a', 'tap', 'leaving', 'a', 'moderate', 'head', 'of', 'foam', 'the', 'carbonation', 'is', 'great', 'too', 'making', 'it', 'very', 'sippable', 'love', 'the', 'opening', 'citrus', 'notes', 'and', 'has', 'that', 'ipa', 'bitter', 'finish', 'but', 'not', 'overpowering', 'making', 'it', 'perfect', 'for', 'different', 'types', 'of', 'food', 'pairings', 'i', 'have', 'had', 'many', 'other', 'ipas', 'and', 'while', 'they', 'were', 'good', 'i', 'did', 'not', 'want', 'another', 'glass', 'bootleggers', 'has', 'an', 'ipa', 'that', 'you', 'can', 'drink', 'more', 'than', '1', 'glass', 'and', 'it', 'is', 'not', 'too', 'much'],['pours', 'a', 'murky', 'goldenbrown', 'with', 'a', 'total', 'lack', 'of', 'head', 'minimal', 'lacing', 'aroma', 'is', 'flat', 'grainy', 'and', 'plain', 'some', 'floral', 'hops', 'but', 'no', 'rye', 'to', 'speak', 'of', 'some', 'sourness', 'more', 'metallic', 'than', 'anything', 'else', 'good', 'mouthfeel', 'firm', 'but', 'not', 'thick', 'or', 'syrupy', 'decent', 'carbonation', 'taste', 'makes', 'up', 'in', 'part', 'for', 'what', 'is', 'lacking', 'smooth', 'sweet', 'fruity', 'hop', 'flavor', 'tropical', 'and', 'blood', 'orange', 'hop', 'taste', 'but', 'nothing', 'tangy', 'or', 'bitter', 'attribute', 'that', 'to', 'the', 'overmalted', 'backing', 'very', 'sweet', 'for', 'the', 'style', 'as', 'for', 'the', 'rye', 'again', 'it', 'is', 'nearly', 'nonexistent', 'compared', 'to', 'a', 'similar', 'beer', 'hop', 'rod', 'rye', 'this', 'is', 'weak', 'and', 'ryefree', 'however', 'this', 'beer', 'tastes', 'really', 'good', 'i', 'could', 'drink', 'this', 'again', 'and', 'again', 'but', 'it', 'misses', 'the', 'boat', 'stylisticly'],['22oz', 'brown', 'bottle', 'im', 'a', 'sucker', 'for', 'rye', 'ipas', 'dating', 'back', 'to', 'the', 'grand', 'daddy', 'of', 'them', 'all', 'bear', 'republics', 'hop', 'rod', 'rye', 'poured', 'into', 'a', 'small', 'tulip', 'it', 'is', 'an', 'inviting', 'dark', 'copper', 'color', 'with', 'a', 'frothy', 'meaty', 'off', 'white', 'head', 'the', 'nuts', 'and', 'bolts', 'of', 'this', 'brew', 'come', 'up', 'short', 'its', 'lacking', 'any', 'depth', 'and', 'is', 'kind', 'of', 'thin', 'for', 'this', 'style', 'rye', 'stands', 'out', 'boldly', 'and', 'in', 'this', 'its', 'moderate', 'to', 'mild', 'mouthfeel', 'is', 'also', 'light', 'with', 'some', 'lingering', 'some', 'distracting', 'sticky', 'malt', 'notes', 'not', 'for', 'me', 'a', 'great', 'style', 'im', 'glad', 'more', 'brewerys', 'are', 'attempting', 'the', 'rye', 'ipa', 'but', 'this', 'needs', 'some', 'work'],['appearance', '', 'pours', 'into', 'my', 'sa', 'perfect', 'pint', 'with', 'a', 'dark', 'amber', 'hue', 'over', 'two', 'fingers', 'of', 'tan', 'fluffy', 'head', 'is', 'achieved', 'with', 'a', 'moderate', 'pour', 'the', 'head', 'is', 'slowly', 'dissipating', 'leaving', 'decent', 'lacing', 'on', 'the', 'sides', 'of', 'the', 'glass', 'smell', '', 'slight', 'hops', 'floral', 'citrus', 'ie', 'grapefruit', 'and', 'sweet', 'maltiness', 'honestly', 'it', 'also', 'smells', 'quite', 'literally', 'just', 'like', 'marijuana', 'after', 'a', 'few', 'big', 'intakes', 'of', 'the', 'nose', 'one', 'can', 'most', 'definitely', 'smell', 'the', 'dankness', 'to', 'this', 'drink', 'taste', '', 'flavor', 'smells', 'similar', 'to', 'the', 'nose', 'but', 'overall', 'muted', 'it', 'is', 'a', 'bit', 'sweeter', 'than', 'most', 'other', 'ipas', 'but', 'not', 'in', 'a', 'way', 'that', 'detracts', 'from', 'the', 'overall', 'drink', 'not', 'much', 'rye', 'can', 'be', 'found', 'after', 'numerous', 'sips', 'there', 'is', 'plenty', 'of', 'grapefruit', 'sweet', 'malts', 'and', 'pine', 'not', 'horrible', 'by', 'any', 'means', 'but', 'just', 'nothing', 'that', 'really', 'jumps', 'out', 'at', 'you', 'mouthfeel', '', 'medium', 'bodied', 'decent', 'carbonation', 'drinkability', '', 'pretty', 'quaffable', 'this', 'is', 'by', 'no', 'means', 'a', 'bad', 'ipa', 'however', 'as', 'someone', 'else', 'stated', 'previously', 'for', 'the', 'price', 'there', 'is', 'no', 'reason', 'to', 'buy', 'it', 'for', 'the', 'same', 'price', 'i', 'could', 'have', 'opted', 'to', 'get', 'a', 'blind', 'pig', 'which', 'was', 'right', 'next', 'to', 'this', 'but', 'i', 'wanted', 'to', 'try', 'something', 'new', 'again', 'im', 'glad', 'i', 'tried', 'it', 'but', 'with', 'so', 'many', 'other', 'great', 'west', 'coast', 'dipas', 'out', 'there', 'i', 'wont', 'be', 'getting', 'this', 'again'],['poured', 'from', 'a', '22oz', 'bomber', 'into', 'a', 'tulip', 'glass', 'got', 'this', 'as', 'an', 'extra', 'cant', 'remember', 'who', 'but', 'thank', 'you', 'very', 'much', 'if', 'you', 'read', 'this', 'pours', 'a', 'beautiful', 'red', 'brown', 'color', 'with', 'hop', 'haze', 'and', 'a', 'massive', 'massive', 'head', 'almost', 'thought', 'it', 'was', 'infected', 'at', 'how', 'much', 'head', 'there', 'was', 'and', 'the', 'retention', 'lasts', 'forever', 'smells', 'bready', 'with', 'just', 'a', 'slight', 'spicy', 'note', 'from', 'the', 'rye', 'has', 'a', 'touch', 'of', 'lemony', 'hops', 'as', 'well', 'tastes', 'a', 'touch', 'sweet', 'but', 'has', 'a', 'good', 'hop', 'bite', 'to', 'it', 'sorta', 'has', 'that', 'hombrewed', 'sweetness', 'to', 'it', 'love', 'the', 'light', 'body', 'with', 'caramel', 'malts', 'i', 'would', 'have', 'thought', 'it', 'was', 'an', 'amber', 'ale', 'to', 'be', 'honest', 'with', 'some', 'hops', 'added', 'nothing', 'crazy', 'for', 'the', 'style', 'but', 'the', 'key', 'here', 'is', 'that', 'its', 'balanced', 'well', 'mouthfeel', 'is', 'decent', 'with', 'that', 'medium', 'carbonation', 'retaining', 'in', 'the', 'actual', 'liquid', 'after', 'the', 'massive', 'head', 'recedes', 'this', 'is', 'a', 'very', 'drinkable', 'beer', 'just', 'nothing', 'to', 'go', 'running', 'for', 'not', 'sure', 'of', 'the', 'price', 'but', 'if', 'its', 'a', 'qpr', 'then', 'maybe', 'its', 'worth', 'a', 'shot', 'to', 'seek', 'out', 'nice', 'job', 'though'],['picked', 'this', 'one', 'up', 'at', 'holiday', 'wine', 'cellar', 'on', 'a', 'recent', 'trip', 'to', 'san', 'diego', 'poured', 'from', 'the', 'bomber', 'a', 'medium', 'orange', 'color', 'with', 'a', 'huge', 'rocky', 'white', 'head', 'some', 'citrusy', 'hops', 'on', 'the', 'nose', 'as', 'well', 'as', 'a', 'little', 'caramel', 'on', 'the', 'palate', 'more', 'of', 'the', 'same', 'but', 'really', 'no', 'noticeable', 'rye', 'not', 'bad', 'but', 'kind', 'of', 'a', 'disappointment', 'considering', 'the', 'number', 'of', 'great', 'west', 'coast', 'ipas', 'out', 'there'],['poured', 'into', 'a', 'duvel', 'tulip', 'appearance', 'a', 'cloudy', 'light', 'brown', 'liquid', 'with', 'a', 'nice', 'thick', 'twofinger', 'offwhite', 'head', 'smell', 'bright', 'citrus', 'hop', 'aroma', 'with', 'a', 'mellow', 'rye', 'sourness', 'to', 'it', 'very', 'relaxing', 'fragrance', 'taste', 'the', 'initial', 'hit', 'is', 'of', 'hops', 'but', 'quickly', 'the', 'sour', 'rye', 'flavor', 'takes', 'over', 'going', 'down', 'the', 'hops', 'reappear', 'in', 'a', 'tame', 'bitterness', 'mouthfeel', 'definite', 'ipa', 'bitter', 'mouthfeel', 'not', 'too', 'bitter', 'like', 'most', 'other', 'aspects', 'of', 'this', 'brew', 'it', 'appears', 'that', 'the', 'rye', 'component', 'is', 'muting', 'the', 'more', 'traditional', 'ipa', 'aspects', 'to', 'be', 'honest', 'i', 'dont', 'totally', 'mind', 'this', 'as', 'i', 'tend', 'to', 'enjoy', 'rye', 'beers', 'and', 'have', 'yet', 'to', 'develop', 'a', 'great', 'affinity', 'for', 'the', 'more', 'highly', 'touted', 'hopped', 'up', 'ipas', 'drinkability', 'super', 'easy', 'drinkability', 'the', 'muted', 'hop', 'character', 'and', 'low', 'abv', 'make', 'this', 'a', 'very', 'appealing', 'option', 'i', 'thoroughly', 'enjoyed', 'my', 'time', 'with', 'this', 'beer', 'and', 'am', 'thankful', 'to', 'nicks6217', 'for', 'throwing', 'this', 'in', 'on', 'a', 'trade', 'that', 'we', 'completed'],['bottle', 'poured', 'into', 'a', 'perfect', 'pint', 'glasspours', 'a', 'medium', 'gold', 'with', 'red', 'and', 'copper', 'tones', 'nice', 'tope', 'head', 'good', 'retention', 'and', 'lacinglight', 'of', 'aroma', 'of', 'surprise', 'rye', 'a', 'little', 'caramel', 'with', 'a', 'smidge', 'of', 'vomit', 'on', 'the', 'endthe', 'taste', 'and', 'feel', 'are', 'really', 'light', 'feel', 'is', 'annoyingly', 'thin', 'the', 'taste', 'is', 'light', 'rye', 'not', 'strong', 'but', 'incredibly', 'easy', 'to', 'drink', 'a', 'total', 'palate', 'cleanser'],['served', 'from', 'tap', 'into', 'a', 'sampler', 'mason', 'jar', 'at', 'the', 'brewery', 'poured', 'yelloworange', 'with', 'a', 'half', 'finger', 'white', 'head', 'that', 'subsided', 'to', 'a', 'minimal', 'amount', 'quickly', 'it', 'maintained', 'nice', 'lacing', 'throughout', 'the', 'glass', 'the', 'aroma', 'was', 'comprised', 'of', 'sweet', 'malt', 'wheat', 'rye', 'perhaps', 'and', 'citrus', 'hops', 'the', 'flavor', 'was', 'of', 'sweet', 'malt', 'citrus', 'hop', 'and', 'slight', 'bitter', 'hop', 'it', 'had', 'a', 'light', 'feel', 'on', 'the', 'palate', 'with', 'mild', 'carbonation', 'overall', 'this', 'wasnt', 'bad', 'but', 'this', 'was', 'not', 'great', 'it', 'was', 'nicely', 'balanced', 'in', 'flavor', 'but', 'it', 'just', 'seemed', 'to', 'be', 'lacking', 'something', 'the', 'ryewheat', 'taste', 'perhaps', 'it', 'had', 'a', 'pretty', 'good', 'aroma', 'though', 'would', 'definitely', 'be', 'happy', 'to', 'try', 'this', 'one', 'again'],['a', 'hazy', 'red', 'orange', '2', 'fingers', 'of', 'white', 'head', 'with', 'little', 'lacing', 's', 'orange', 'flower', 'water', 'and', 'meyer', 'zest', 'with', 'rye', 'spiciness', 'and', 'some', 'herbal', 'hop', 'character', 't', 'very', 'malty', 'a', 'little', 'sweet', 'kind', 'of', 'like', 'a', 'rye', 'bread', 'with', 'candied', 'citrus', 'zest', 'not', 'bad', 'but', 'balanced', 'in', 'favor', 'of', 'the', 'malt', 'rather', 'than', 'being', 'hop', 'forward', 'floral', 'and', 'herbaceous', 'hop', 'flavors', 'marry', 'well', 'with', 'the', 'rye', 'spice', 'and', 'the', 'lingering', 'malt', 'sweetness', 'results', 'in', 'an', 'almost', 'neutral', 'finish', 'after', 'being', 'tempered', 'by', 'the', 'hop', 'bitterness', 'which', 'makes', 'this', 'very', 'easy', 'to', 'drink', 'the', 'mouthfeel', 'is', 'very', 'full', 'and', 'a', 'little', 'syrupy', 'and', 'oily', 'but', 'its', 'not', 'cloying', 'the', 'carbonation', 'is', 'low', 'this', 'is', 'a', 'very', 'drinkable', 'rye', 'ipa', 'with', 'good', 'flavor', 'but', 'not', 'a', 'lot', 'of', 'intensity', 'id', 'really', 'like', 'it', 'if', 'it', 'was', 'a', 'little', 'drier', 'but', 'its', 'still', 'a', 'good', 'beer', 'and', 'a', 'good', 'reason', 'to', 'support', 'a', 'local', 'brewery'],['this', 'is', 'my', 'first', 'beer', 'from', 'bootleggers', 'pours', 'a', 'hazy', 'dark', 'golden', 'color', 'lacing', 'is', 'pretty', 'looking', 'good', 'so', 'far', 'first', 'smell', 'was', 'a', 'blast', 'of', 'applecider', 'upon', 'stronger', 'whiffs', 'i', 'think', 'its', 'the', 'rye', 'andor', 'yeast', 'character', 'playing', 'tricks', 'with', 'me', 'very', 'different', 'smelling', 'than', 'other', 'rye', 'beers', 'i', 'have', 'had', 'was', 'not', 'expecting', 'this', 'taste', 'at', 'all', 'i', 'can', 'only', 'describe', 'it', 'as', 'a', 'creamy', 'rye', 'with', 'a', 'hint', 'of', 'hop', 'bitterness', 'at', 'the', 'end', 'but', 'this', 'beer', 'is', 'all', 'biscuit', 'malt', 'and', 'rye', 'medium', 'mouthfeel', 'slightly', 'syrupy', 'even', 'this', 'is', 'a', 'nicely', 'bodied', 'beer', 'very', 'drinkable', 'its', 'smooth', 'and', 'tasty', 'rye', 'is', 'one', 'of', 'my', 'favorite', 'ingredients', 'if', 'i', 'were', 'grading', 'this', 'beer', 'according', 'to', 'style', 'it', 'would', 'fall', 'flat', 'on', 'its', 'face', 'not', 'even', 'close', 'to', 'an', 'ipa', 'however', 'if', 'you', 'like', 'rye', 'give', 'it', 'a', 'shot'],['a', 'pours', 'a', 'translucent', 'golden', 'with', 'some', 'amber', 'highlights', 'capped', 'by', 'two', 'fingers', 'of', 'foamy', 'offwhite', 'head', 'retention', 'is', 'moderate', 'as', 'it', 'slowly', 'settles', 'to', 'about', 'a', 'half', 'finger', 'of', 'head', 's', 'moderate', 'citrus', 'up', 'front', 'along', 'with', 'piney', 'and', 'earthiness', 'followed', 'by', 'pleasant', 'spicy', 'notes', 'of', 'rye', 'toffee', 'base', 'is', 'evident', 'in', 'the', 'background', 'although', 'aroma', 'as', 'a', 'whole', 'is', 'a', 'bit', 'subdued', 't', 'hops', 'are', 'a', 'bit', 'muted', 'up', 'front', 'with', 'piney', 'and', 'earthy', 'notes', 'coming', 'through', 'rye', 'comes', 'through', 'strong', 'on', 'the', 'midpalate', 'before', 'giving', 'way', 'to', 'a', 'burst', 'of', 'sweet', 'caramel', 'near', 'the', 'back', 'end', 'm', 'medium', 'bodied', 'with', 'moderate', 'to', 'high', 'carbonation', 'feels', 'a', 'bit', 'thin', 'd', 'easily', 'drinkable', 'but', 'doesnt', 'quite', 'live', 'up', 'to', 'its', 'potential', 'ill', 'certainly', 'try', 'it', 'again', 'as', 'the', 'beer', 'has', 'its', 'merits', 'perhaps', 'this', 'had', 'sat', 'a', 'bit', 'too', 'long'],['this', 'is', 'a', 'new', 'beer', 'in', 'bootleggers', 'portfolio', 'an', 'ipa', 'with', '10', 'rye', 'it', 'tasted', 'really', 'nice', 'during', 'my', 'tasting', 'at', 'the', 'brewery', 'so', 'i', 'bought', 'a', 'growler', 'to', 'go', 'on', 'to', 'the', 'beer', 'big', 'patchysoapy', 'head', 'on', 'top', 'a', 'color', 'of', 'beautiful', 'clearish', 'copperbronze', 'good', 'head', 'retention', 'aromaoh', 'man', 'that', 'smells', 'good', 'very', 'citrusy', 'grapefruit', 'it', 'bombards', 'the', 'nostrils', 'cracks', 'of', 'dry', 'biscuit', 'and', 'caramel', 'the', 'taste', 'is', 'simply', 'a', 'good', 'thing', 'its', 'quite', 'balanaced', 'tastydont', 'worry', 'the', 'hops', 'sneak', 'in', 'towards', 'the', 'back', 'this', 'is', 'a', 'very', 'complex', 'beer', 'at', 'first', 'it', 'has', 'a', 'slight', 'tropical', 'fruit', 'flavor', 'with', 'a', 'gummy', 'feel', 'and', 'caramel', 'flavors', 'bready', 'strong', 'earthy', 'notes', 'and', 'drying', 'in', 'the', 'middle', 'probably', 'from', 'the', 'rye', 'yet', 'the', 'hop', 'flavor', 'pokes', 'through', 'this', 'becomes', 'a', 'strong', 'floral', 'flavor', 'towards', 'the', 'back', 'very', 'clean', 'and', 'dry', 'in', 'the', 'finish', 'the', 'easygoing', 'mouthfeel', 'helps', 'things', 'out', 'here', 'and', 'feels', 'as', 'light', 'as', 'a', 'feather', 'with', 'just', 'a', 'tick', 'of', 'carbonation', 'its', 'good', 'to', 'find', 'a', 'slight', 'twist', 'on', 'a', 'popular', 'style', 'particularly', 'for', 'the', 'better', 'this', 'is', 'clocked', 'at', '85', 'ibus', 'yet', 'feels', 'like', 'half', 'of', 'that', 'simply', 'put', 'it', 'is', 'very', 'tasty', 'and', 'easy', 'to', 'drink', 'i', 'wonder', 'how', 'this', 'will', 'fare', 'when', 'its', 'bottled', 'soon', '22511', '', 'had', 'it', 'again', 'from', 'a', 'growler', 'more', 'unbalanced', 'than', 'i', 'remember', 'still', 'very', 'clean', 'and', 'hoppy', 'though'],['starts', 'off', 'with', 'a', 'dense', 'lt', 'brown', 'head', 'the', 'nose', 'has', 'big', 'citrus', 'notes', 'with', 'a', 'big', 'rye', 'bread', 'aroma', 'the', 'head', 'retention', 'is', 'good', 'some', 'nice', 'lacing', 'on', 'the', 'glass', 'the', 'taste', 'good', 'malty', 'toasted', 'rye', 'bread', 'flavorsa', 'dry', 'lemon', 'rind', 'mixed', 'with', 'a', 'hint', 'of', 'blood', 'orange', 'gives', 'to', 'a', 'good', 'midpalate', 'fruit', 'the', 'malt', 'backbone', 'softens', 'into', 'sweet', 'dates', 'and', 'spicy', 'rye', 'finish', 'kudos', 'for', 'a', 'great', 'twist', 'on', 'a', 'hoppy', 'classic', 'feels', 'good', 'to', 'buy', 'a', 'beer', 'that', 'was', 'brewed', 'down', 'the', 'street', 'from', 'ya'],['22', 'oz', 'bomber', 'a', 'ryepa', 'a', 'pours', 'a', 'lightly', 'hazy', 'amber', 'with', 'a', 'really', 'light', 'white', 'head', 'real', 'nice', 'sunset', 'colour', 's', 'all', 'hops', 'no', 'hint', 'of', 'rye', 'nice', 'light', 'citrus', 'smells', 'like', 'a', 'regular', 'ipa', 't', 'the', 'rye', 'certainly', 'comes', 'in', 'in', 'the', 'taste', 'great', 'spicy', 'character', 'adds', 'complexity', 'to', 'the', 'solid', 'hop', 'profile', 'tangerine', 'orange', 'tropical', 'notes', 'from', 'the', 'hops', 'are', 'all', 'there', 'malt', 'is', 'treacly', 'almost', 'cake', 'batter', 'at', 'times', 'a', 'really', 'good', 'mix', 'of', 'flavours', 'm', 'smooth', 'creamy', 'robust', 'dry', 'finish', 'd', 'a', 'real', 'nice', 'surprise', 'out', 'of', 'the', 'local', 'brewery', 'in', 'fullerton', 'bootleggers', 'im', 'going', 'to', 'have', 'to', 'try', 'their', 'whole', 'lineup', 'now', 'with', 'how', 'good', 'this', 'was'],['poured', 'from', 'a', '22oz', 'bottle', 'into', 'my', 'glass', 'a', '', 'pours', 'a', 'clear', 'brunt', 'orange', 'with', 'a', 'modest', 'white', 'head', 'that', 'quickly', 'disappeared', 'into', 'a', 'white', 'sheen', 'and', 'a', 'white', 'ring', 'around', 'my', 'glass', 'leaves', 'a', 'little', 'lacing', 's', '', 'not', 'getting', 'much', 'in', 'the', 'way', 'of', 'spicy', 'ryemaybe', 'i', 'dont', 'know', 'what', 'rye', 'is', 'supposed', 'to', 'smell', 'like', 'some', 'faint', 'floral', 'hops', 'combined', 'with', 'a', 'slighty', 'sweet', 'malt', 'backbone', 't', '', 'not', 'much', 'on', 'the', 'tongue', 'either', 'a', 'slight', 'grapefruit', 'bitterness', 'that', 'does', 'not', 'last', 'long', 'followed', 'by', 'some', 'sweetness', 'possibly', 'from', 'the', 'malt', 'm', '', 'light', 'and', 'crisp', 'maybe', 'a', 'touch', 'watery', 'd', '', 'not', 'a', 'bad', 'beer', 'just', 'not', 'one', 'i', 'would', 'purchase', 'again', 'however', 'this', 'could', 'be', 'sessionable', 'on', 'a', 'very', 'hot', 'and', 'humid', 'day', 'very', 'light', 'and', 'refreshing', 'and', 'very', 'little', 'alcohol', 'detection'],['picked', 'this', 'up', 'while', 'in', 'socal', 'for', 'bt', 'what', 'a', 'magical', '48', 'hours', 'couldnt', 'beat', 'the', 'price', 'on', 'this', 'drank', 'at', 'the', 'utah', 'state', '', 'nevada', 'tailgate', 'pours', 'a', 'light', 'orange', 'very', 'clear', 'good', 'carbonation', 'and', 'average', 'head', 'light', 'hop', 'aroma', 'sweetness', 'tempered', 'taste', 'relatively', 'smooth', 'lacking', 'the', 'rye', 'spiciness', 'you', 'might', 'expect', 'but', 'decent', 'hopping', 'light', 'caramel', 'flavor', 'still', 'carries', 'some', 'of', 'that', 'sweetness', 'throughout', 'not', 'a', 'complex', 'or', 'strong', 'rye', 'beer', 'at', 'all', '349', 'a', 'bomber', 'it', 'was', 'worth', 'that'],['bomber', 'served', 'in', 'a', 'goose', 'island', 'ipa', 'tulip', 'a', '', 'medium', 'to', 'dark', 'amber', 'large', 'white', 'head', 'shrinks', 'down', 'after', 'a', 'minute', 'or', 'two', 'and', 'great', 'lacing', 's', '', 'floral', 'hops', 'rye', 'and', 'oranges', 't', '', 'rye', 'and', 'lemony', 'hops', 'gt', 'bready', 'rye', 'and', 'a', 'little', 'black', 'pepper', 'gt', 'a', 'splash', 'of', 'grapefruit', 'briefly', 'finishes', 'off', 'this', 'rye', 'cocktail', 'm', '', 'mediumbodied', 'and', 'adequately', 'carbonated', 'd', '', 'inoffensive', 'and', 'pretty', 'tasty', 'not', 'bad', 'this', 'is', 'a', 'solid', 'rye', 'ipa', '', 'its', 'not', 'too', 'complex', 'but', 'the', 'tastes', 'it', 'possesses', 'are', 'pulled', 'off', 'nicely', 'definitely', 'worth', 'a', 'try', 'if', 'you', 'like', 'the', 'style'],['poured', 'a', 'orangish', 'brown', 'with', 'a', 'half', 'finger', 'of', 'head', 'and', 'left', 'some', 'bubbly', 'lacing', 'sticking', 'to', 'the', 'glass', 'on', 'the', 'first', 'whiff', 'i', 'was', 'greeted', 'by', 'some', 'citrusy', 'qualities', 'but', 'had', 'caramel', 'malt', 'presence', 'with', 'bready', 'biscuit', 'notes', 'and', 'faint', 'hops', 'in', 'the', 'background', 'the', 'hops', 'were', 'a', 'tad', 'more', 'potent', 'on', 'the', 'palate', 'with', 'citrus', 'and', 'slight', 'pine', 'accents', 'with', 'lots', 'of', 'sweet', 'caramel', 'notes', 'but', 'no', 'rye', 'to', 'be', 'found', 'the', 'brew', 'was', 'light', 'to', 'medium', 'in', 'body', 'with', 'a', 'fair', 'amount', 'of', 'carbonation', 'which', 'had', 'a', 'sweet', 'citrusy', 'malty', 'and', 'slight', 'hoppy', 'finish', 'it', 'drank', 'really', 'good', 'and', 'would', 'probably', 'be', 'able', 'to', 'drink', 'lots', 'of', 'this', 'beer', 'in', 'one', 'sitting', 'making', 'it', 'a', 'pretty', 'sessionable', 'brew'],['22oz', 'bomber', 'received', 'as', 'an', 'extra', 'in', 'a', 'trade', 'with', 'a', 'generous', 'ba', 'thanks', 'appearance', 'pours', 'copper', 'with', 'honey', 'folds', 'the', 'crown', 'is', 'a', '1', 'finger', 'soapy', 'white', 'that', 'displays', 'moderate', 'retention', 'and', 'lace', 'smell', 'rye', 'and', 'floral', 'hops', 'over', 'a', 'slightly', 'toffee', 'like', 'malt', 'taste', 'same', 'as', 'the', 'nose', 'but', 'more', 'pungent', 'id', 'give', 'it', 'a', '38', 'if', 'i', 'could', 'so', 'im', 'rounding', 'up', 'a', 'bit', 'mouthfeel', 'medium', 'bodied', 'with', 'active', 'fine', 'carbonation', 'drinkability', 'sessionable'],['agolden', 'amber', 'nice', 'tight', 'white', 'head', 'that', 'settles', 'on', 'top', 'slight', 'lacing', 'that', 'settles', 'quickly', 'back', 'into', 'the', 'glass', 'sat', 'first', 'it', 'smelled', 'like', 'a', 'jr', 'pliny', 'but', 'the', 'aroma', 'faded', 'quickly', 'now', 'im', 'getting', 'a', 'little', 'wet', 'cardboard', 'definitely', 'not', 'good', 'tearthy', 'spicy', 'hops', 'spicy', 'and', 'mildly', 'sweet', 'malts', 'and', 'there', 'it', 'is', 'again', 'wet', 'cardboard', 'mlike', 'the', 'head', 'suggests', 'this', 'is', 'a', 'creamy', 'beer', 'light', 'maybe', 'a', 'little', 'undercarbed', 'for', 'the', 'style', 'dit', 'was', 'going', 'well', 'at', 'first', 'but', 'that', 'wet', 'cardboard', 'taste', 'ruined', 'it', 'i', 'drank', 'enough', 'to', 'finish', 'my', 'review', 'and', 'then', 'i', 'drain', 'poured'],['8212011', 'a', 'dark', 'gold', 'with', 'a', 'big', 'frothy', 'white', 'head', 'and', 'lots', 'of', 'lacing', 'on', 'the', 'pint', 'glass', 's', 'floral', 'notes', 'with', 'orange', 'tangerine', 'and', 'grapefruit', 'malt', 'is', 'bready', 'with', 'rye', 'and', 'caramel', 't', 'bread', 'and', 'caramel', 'with', 'a', 'little', 'rye', 'notes', 'of', 'orange', 'blend', 'with', 'tangerine', 'attempting', 'to', 'combat', 'the', 'malt', 'alcohol', 'is', 'well', 'hidden', 'bitterness', 'is', 'at', 'a', 'moderate', 'level', 'm', 'medium', 'body', 'with', 'moderate', 'carbonation', 'overall', 'a', 'good', 'ipa', 'though', 'maltier', 'than', 'desirable'],['pours', 'a', 'clear', 'bright', 'orange', 'body', 'a', 'four', 'finger', 'eggshell', 'colored', 'head', 'rests', 'atop', 'the', 'fluffy', 'head', 'works', 'its', 'way', 'back', 'slowly', 'fairly', 'solid', 'sheet', 'of', 'lacing', 'blankets', 'the', 'glass', 'this', 'is', 'a', 'great', 'looking', 'beer', 'i', 'am', 'not', 'saying', 'it', 'is', 'perfect', 'but', 'they', 'do', 'not', 'get', 'much', 'better', 'the', 'nose', 'displays', 'an', 'impressive', 'amount', 'of', 'balance', 'sweet', 'citrusy', 'hop', 'aroma', 'comes', 'across', 'first', 'there', 'is', 'a', 'pleasant', 'malt', 'base', 'sitting', 'right', 'behind', 'spicy', 'rye', 'and', 'warm', 'breadiness', 'pair', 'well', 'with', 'the', 'hops', 'there', 'is', 'not', 'a', 'great', 'deal', 'of', 'crystal', 'malt', 'coming', 'through', 'in', 'the', 'nose', 'i', 'appreciate', 'that', 'soft', 'grassy', 'hops', 'linger', 'in', 'the', 'back', 'i', 'have', 'sat', 'on', 'this', 'bottle', 'for', 'a', 'little', 'bit', 'while', 'it', 'is', 'certainly', 'with', 'in', 'the', 'appropriate', 'time', 'from', 'for', 'enjoying', 'i', 'feel', 'the', 'hops', 'may', 'have', 'died', 'down', 'slightly', 'the', 'aroma', 'is', 'very', 'pleasant', 'none', 'the', 'less', 'the', 'flavor', 'is', 'very', 'similar', 'to', 'the', 'characteristics', 'picked', 'up', 'in', 'the', 'nose', 'with', 'one', 'huge', 'difference', 'the', 'rye', 'the', 'rye', 'simply', 'was', 'a', 'complimentary', 'aroma', 'but', 'is', 'a', 'dominant', 'flavor', 'i', 'cannot', 'recall', 'a', 'rye', 'ipa', 'with', 'this', 'much', 'rye', 'presence', 'the', 'citrus', 'hop', 'flavor', 'is', 'noted', 'upfront', 'along', 'side', 'the', 'rye', 'the', 'earthy', 'spiciness', 'of', 'the', 'rye', 'works', 'well', 'in', 'combination', 'with', 'the', 'citrusy', 'hops', 'the', 'bitterness', 'from', 'the', 'hops', 'is', 'hard', 'to', 'judge', 'the', 'almost', 'astringent', 'quality', 'of', 'the', 'rye', 'can', 'mask', 'it', 'a', 'bit', 'on', 'my', 'palate', 'i', 'would', 'say', 'the', 'bitterness', 'is', 'a', 'bit', 'lower', 'allowing', 'the', 'rye', 'to', 'provide', 'the', 'bite', 'behind', 'the', 'rye', 'the', 'bready', 'malt', 'flavor', 'completes', 'the', 'flavor', 'profile', 'this', 'is', 'not', 'a', 'terribly', 'complex', 'beer', 'with', 'many', 'flavor', 'transitions', 'but', 'the', 'flavors', 'work', 'very', 'well', 'together', 'medium', 'bodied', 'beer', 'the', 'carbonation', 'is', 'slightly', 'lower', 'than', 'what', 'i', 'would', 'desire', 'the', 'finish', 'is', 'a', 'touch', 'above', 'dry', 'the', 'mouthfeel', 'is', 'the', 'low', 'point', 'for', 'this', 'beer', 'while', 'not', 'bad', 'by', 'any', 'means', 'it', 'just', 'does', 'not', 'leave', 'me', 'as', 'impressed', 'as', 'the', 'other', 'attributes', 'rustic', 'rye', 'is', 'a', 'heck', 'of', 'a', 'beer', 'i', 'am', 'really', 'digging', 'the', 'assertiveness', 'of', 'the', 'rye', 'the', 'flavor', 'combination', 'works', 'very', 'well', 'a', 'very', 'drinkable', 'beer', 'big', 'thanks', 'to', 'fosterjm', 'for', 'the', 'bottle'],['bottle', 'shared', 'with', 'sundaysour', 'poured', 'into', 'stone', 'nonic', 'glass', 'poured', 'carefully', 'leaving', 'yeast', 'at', 'the', 'bottom', 'of', 'the', 'bottle', 'a', 'early', 'morning', 'red', 'sunlight', 'with', 'a', 'massive', '3', 'finger', 'head', 'the', 'head', 'fluffs', 'over', 'the', 'body', 'like', 'some', 'fancy', 'soap', 'in', 'a', 'scented', 'bathtub', 'if', 'sundaysour', 'pays', 'too', 'much', 'attention', 'to', 'this', 'visual', 'shell', 'remind', 'me', 'that', 'im', 'not', 'romantic', 'enough', 'an', 'unusual', 'redness', 'but', 'what', 'a', 'strong', 'head', 's', 'smells', 'of', 'fresh', 'cut', 'leather', 'tropical', 'fruits', 'and', 'persimmons', 'really', 'nice', 'enticing', 'nose', 'sweet', 'bread', 'malt', 'backbone', 'accentuates', 'tropical', 'fruits', 'in', 'favor', 'of', 'mango', 'and', 'gradually', 'pulls', 'the', 'senses', 'away', 'from', 'citrus', 'a', 'bit', 'conflicted', 'but', 'good', 'nonetheless', 't', 'very', 'light', 'tangerine', 'citrus', 'zing', 'mango', 'middle', 'and', 'french', 'bread', 'crust', 'malt', 'pleasantly', 'light', 'grainy', 'bittering', 'that', 'is', 'chased', 'by', 'a', 'lemongrass', 'note', 'a', 'seedlike', 'linger', 'in', 'favor', 'of', 'sesame', 'makes', 'for', 'a', 'fantastic', 'aftertaste', 'an', 'extremely', 'crushable', 'rye', 'ipa', 'finish', 'of', 'lighter', 'rustic', 'breads', 'm', 'modest', 'carbonation', 'that', 'disguises', 'a', 'mediumheavy', 'body', 'for', 'the', 'style', 'this', 'really', 'adds', 'to', 'the', 'bready', 'dimension', 'of', 'the', 'malt', 'i', 'feel', 'like', 'i', 'have', 'a', 'crunchy', 'artisanal', 'bread', 'in', 'my', 'mouth', 'quite', 'nice', 'and', 'distinct', 'but', 'may', 'contribute', 'to', 'the', 'flavor', 'being', 'a', 'bit', 'monotone', 'o', 'this', 'beer', 'is', 'on', 'the', 'verge', 'of', 'greatness', 'but', 'for', 'right', 'now', 'it', 'can', 'settle', 'solidly', 'on', 'the', 'side', 'of', 'verygoodness', 'i', 'think', 'with', 'a', 'bit', 'of', 'refining', 'this', 'could', 'give', 'the', 'alpine', 'ipas', 'a', 'run', 'for', 'their', 'money', 'this', 'beer', 'certainly', 'has', 'some', 'rough', 'edges', 'but', 'they', 'arent', 'necessarily', 'negative', 'there', 'is', 'a', 'really', 'raw', 'ingredient', 'element', 'to', 'this', 'beer', 'that', 'i', 'appreciate', 'but', 'i', 'would', 'urge', 'bootleggers', 'to', 'dig', 'deeper', 'they', 'have', 'something', 'really', 'good', 'here', 'that', 'could', 'be', 'great', 'it', 'could', 'use', 'maybe', 'a', 'bit', 'stronger', 'flavor', 'imperial', 'anyone', 'and', 'perhaps', 'some', 'more', 'discernable', 'flavor', 'transitions', 'however', 'this', 'beer', 'is', 'aptly', 'named', 'in', 'the', 'end', 'this', 'is', 'a', 'deliciously', 'rustic', 'rye', 'offering'],['poured', 'from', 'a', '22', 'oz', 'bottle', 'into', 'my', 'duvel', 'tulip', 'thanks', 'to', 'cardinal79', 'for', 'sending', 'me', 'this', 'awesome', 'extra', 'a', 'pours', 'a', 'ambergold', 'brown', 'with', '3', 'fingers', 'of', 'pillowy', 'white', 'head', 'lots', 'of', 'lacing', 'remains', 's', 'smells', 'of', 'grassy', 'hops', 'and', 'sweet', 'malts', 'the', 'rye', 'smell', 'reminds', 'me', 'of', 'a', 'pastrami', 'sandwich', 'sans', 'pastrami', 't', 'very', 'pleasant', 'hoppy', 'bitterness', 'muted', 'by', 'the', 'malts', 'moderately', 'sweet', 'and', 'caramelly', 'but', 'the', 'star', 'is', 'the', 'rye', 'taste', 'adding', 'a', 'bitter', 'breadiness', 'to', 'the', 'flavor', 'profile', 'm', 'very', 'smooth', 'malts', 'and', 'hops', 'mellow', 'each', 'other', 'with', 'a', 'perfect', 'velvety', 'coat', 'on', 'my', 'palate', 'o', 'a', 'great', 'brew', 'havent', 'had', 'it', 'on', 'tap', 'but', 'plan', 'to', 'next', 'time', 'im', 'in', 'oc'],['pours', 'a', 'slightly', 'hazy', 'orange', 'with', 'a', '1', 'inch', 'foamy', 'orangewhite', 'head', 'that', 'settles', 'to', 'a', 'thin', 'cap', 'on', 'top', 'of', 'the', 'beer', 'foamy', 'rings', 'of', 'lace', 'line', 'the', 'glass', 'on', 'the', 'drink', 'down', 'smell', 'is', 'of', 'maltgrainrye', 'and', 'some', 'very', 'mild', 'herbal', 'hop', 'aromas', 'taste', 'is', 'slightly', 'sweet', 'and', 'is', 'of', 'maltgrainrye', 'up', 'front', 'with', 'some', 'herbal', 'hops', 'on', 'the', 'finish', 'and', 'a', 'slight', 'alcohol', 'kick', 'with', 'each', 'sip', 'there', 'is', 'a', 'mild', 'hop', 'bitterness', 'on', 'the', 'palate', 'with', 'each', 'sip', 'this', 'beer', 'has', 'a', 'lower', 'level', 'of', 'carbonation', 'with', 'a', 'slightly', 'crisp', 'and', 'medium', 'bodied', 'mouthfeel', 'overall', 'this', 'is', 'a', 'pretty', 'good', 'beer', 'that', 'is', 'drinkable', 'but', 'the', 'smell', 'is', 'pretty', 'weak', 'in', 'my', 'opinion'],['a', '', 'pours', 'a', 'clear', 'goldenorange', 'with', 'a', 'finger', 'of', 'frothy', 'white', 'head', 'the', 'head', 'fades', 'fairly', 'slowly', 'leaving', 'behind', 'some', 'nice', 'lacing', 's', '', 'aroma', 'is', 'a', 'mix', 'of', 'sweet', 'caramel', 'malts', 'and', 'rye', 'with', 'some', 'grapefruit', 'and', 'citrus', 'hops', 'and', 'a', 'touch', 'of', 'pine', 'hop', 't', '', 'starts', 'off', 'with', 'a', 'mix', 'of', 'sweet', 'caramel', 'malts', 'with', 'some', 'grapefruit', 'orange', 'and', 'citrus', 'hops', 'with', 'some', 'bitterness', 'through', 'the', 'middle', 'some', 'light', 'pine', 'hop', 'comes', 'through', 'with', 'a', 'bit', 'more', 'bitterness', 'and', 'some', 'rye', 'spiciness', 'the', 'finish', 'is', 'a', 'mix', 'of', 'sweet', 'caramel', 'and', 'biscuit', 'malts', 'rye', 'spiciness', 'and', 'some', 'citrus', 'and', 'light', 'pine', 'hops', 'm', '', 'medium', 'bodied', 'with', 'moderate', 'carbonation', 'feels', 'smooth', 'with', 'a', 'dry', 'bitter', 'and', 'lightly', 'spicy', 'finish', 'd', '', 'very', 'drinkable', 'nice', 'rye', 'ipa', 'with', 'a', 'good', 'balance', 'of', 'hops', 'and', 'some', 'nice', 'rye', 'spiciness'],['for', 'my', 'first', 'review', 'here', 'on', 'beer', 'advocate', 'i', 'wanted', 'to', 'pay', 'homage', 'to', 'a', 'local', 'of', 'sorts', 'brewery', 'based', 'in', 'fullerton', 'orange', 'county', 'while', 'i', 'am', 'familiar', 'with', 'dtf', 'and', 'the', 'trifling', 'nonsense', 'which', 'goes', 'on', 'there', 'i', 'have', 'always', 'been', 'interested', 'in', 'the', 'citys', 'brewery', 'which', 'this', 'beer', 'gave', 'me', 'the', 'perfect', 'opportunity', 'to', 'get', 'to', 'know', 'flowing', 'out', 'of', 'the', 'deucedeuce', 'the', 'beer', 'came', 'out', 'the', 'same', 'color', 'of', 'the', 'fall', 'leaves', 'in', 'the', 'recent', 'charlie', 'brown', 'thanksgiving', 'special', 'i', 'just', 'watched', 'yet', 'when', 'settled', 'in', 'the', 'glass', 'proper', 'ipa', 'glass', 'of', 'course', 'the', 'beer', 'took', 'on', 'a', 'darker', 'color', 'almost', 'brown', 'from', 'here', 'i', 'knew', 'it', 'was', 'going', 'to', 'be', 'delicious', 'sniffing', 'it', 'as', 'the', 'head', 'decreased', 'to', 'mere', 'layer', 'of', 'white', 'topping', 'the', 'abyss', 'below', 'it', 'smelled', 'to', 'me', 'almost', 'tame', 'with', 'the', 'rye', 'acting', 'as', 'a', 'barrier', 'of', 'sorts', 'from', 'the', 'onslaught', 'some', 'ipas', 'can', 'bring', 'finally', 'tasting', 'the', 'sweet', 'nectar', 'i', 'was', 'admittedly', 'surprised', 'by', 'the', 'lack', 'of', 'bitterness', 'which', 'again', 'accompany', 'many', 'ipas', 'while', 'there', 'was', 'no', 'shortage', 'of', 'hops', 'there', 'was', 'still', 'a', 'cacophony', 'of', 'other', 'tastes', 'combined', 'going', 'to', 'create', 'a', 'unique', 'andwelldelicious', 'flavor', 'overall', 'with', 'the', 'combination', 'of', 'appearance', 'smell', 'taste', 'and', 'personal', 'notes', 'i', 'was', 'happy', 'with', 'the', 'product', 'which', 'was', 'sampled', 'through', '22', 'ounces', 'and', 'about', '15', 'minutes', 'of', 'bliss', 'on', 'a', 'friday', 'afternoon', 'this', 'taste', 'from', 'bootleggers', 'will', 'most', 'almost', 'certainly', 'bring', 'me', 'up', 'the', '55', 'freeway', 'sometime', 'soon', 'to', 'check', 'out', 'the', 'brewery', 'itself', 'nestled', 'in', 'the', 'forest', 'known', 'as', 'downtown', 'fullerton'],['pours', 'a', 'fairly', 'clear', 'dark', 'amber', 'nice', 'head', 'solid', 'but', 'looks', 'pretty', 'plain', 'though', 'smell', 'is', 'pretty', 'fruit', 'some', 'oranges', 'and', 'grapefruit', 'but', 'fairly', 'sweet', 'and', 'malty', 'not', 'aggressively', 'hoppy', 'some', 'rye', 'spiciness', 'too', 'taste', 'is', 'fairly', 'bitter', 'not', 'as', 'much', 'citrus', 'as', 'on', 'the', 'nose', 'lots', 'of', 'rye', 'spice', 'again', 'and', 'even', 'more', 'sweet', 'maltiness', 'pretty', 'good', 'but', 'needs', 'more', 'hop', 'and', 'less', 'malt', 'lots', 'and', 'lots', 'of', 'fizzy', 'carb', 'pretty', 'full', 'body', 'good', 'mouthfeel', 'overall', 'good', 'beer', 'not', 'remarkable', 'but', 'a', 'solid', 'rye', 'ipa', 'which', 'is', 'a', 'style', 'i', 'always', 'like', '6810'],['it', 'is', 'a', 'happy', 'beer', 'it', 'lightens', 'your', 'spirit', 'it', 'would', 'be', 'good', 'morning', 'fishing', 'beer', 'i', 'stumbled', 'upon', 'a', 'nice', 'irish', 'pub', 'gallagers', 'in', 'huntington', 'beach', 'and', 'was', 'turned', 'on', 'to', 'this', 'we', 'were', 'not', 'disapointed', 'after', 'having', 'visted', 'a', 'pub', 'that', 'served', 'bud', 'and', 'the', 'like', 'i', 'was', 'very', 'happy', 'with', 'this', 'find'],['got', 'this', 'at', 'the', 'abc', 'market', 'next', 'to', 'disneyland', 'always', 'enjoy', 'a', 'good', 'rye', 'pa', 'so', 'thought', 'id', 'give', 'it', 'a', 'try', 'brewery', 'in', 'fullerton', 'just', 'up', 'the', 'road', 'from', 'the', 'magic', 'kingdom', 'a', '', 'pours', 'a', 'clear', 'golden', 'with', 'a', 'copper', 'hint', 'good', 'carbonation', 'and', 'inch', 'thick', 'head', 'of', 'large', 'bubbles', 'that', 'last', 'for', 'a', 'short', 'period', 'and', 'then', 'disapate', 'back', 'into', 'the', 'beer', 's', '', 'after', 'a', 'day', 'walking', 'around', 'disneyland', 'this', 'is', 'the', 'grand', 'finale', 'of', 'the', 'day', 'excellent', 'hop', 'aroma', 'fruity', 'citrus', 'grapefruit', 'and', 'a', 'peppery', 'smell', 't', '', 'tastes', 'as', 'i', 'imagined', 'balanced', 'hops', 'malt', 'rye', 'fruitiness', 'and', 'pepper', 'with', 'a', 'smooth', 'bitterness', 'tastes', 'like', 'a', 'homebrew', 'i', 'made', 'but', 'drier', 'o', '', 'worth', 'the', 'price', 'to', 'try', 'a', 'local', 'brew', 'made', 'by', 'a', 'homebrewer', 'recently', 'turned', 'craft', 'brewer', 'wish', 'i', 'could', 'try', 'more', 'from', 'bootleggers'],['clear', 'pale', 'orange', 'in', 'appearance', 'with', 'one', 'inch', 'of', 'head', 'some', 'lacing', 'as', 'you', 'drink', 'surprising', 'amount', 'of', 'tart', 'yeast', 'prevalent', 'in', 'the', 'aroma', 'to', 'start', 'very', 'grassy', 'weedy', 'hop', 'aroma', 'not', 'much', 'pine', 'or', 'bitterness', 'apparent', 'pale', 'malt', 'is', 'hiding', 'behind', 'the', 'mildly', 'spicy', 'rye', 'malt', 'that', 'rye', 'malt', 'is', 'very', 'apparent', 'in', 'the', 'flavor', 'again', 'mildly', 'spicy', 'full', 'of', 'flavor', 'i', 'get', 'a', 'little', 'butterscotch', 'diacetyl', 'which', 'i', 'realize', 'was', 'in', 'the', 'aroma', 'too', 'but', 'i', 'just', 'couldnt', 'place', 'it', 'that', 'grassy', 'hop', 'aroma', 'comes', 'out', 'in', 'the', 'flavor', 'as', 'well', 'not', 'as', 'bitter', 'as', 'i', 'would', 'expect', 'an', 'ipa', 'to', 'be', 'but', 'its', 'definitely', 'got', 'some', 'bitterness', 'to', 'it', 'balanced', 'feel', 'slightly', 'dry', 'finish', 'interesting', 'but', 'im', 'ultimately', 'nonplussed', 'by', 'this', 'beer', 'rather', 'spend', 'my', 'money', 'on', 'something', 'else'],['glass', '', 'mug', 'a', '', 'bronze', 'like', 'color', 'with', 'a', 'big', 'lager', 'like', 'head', 'that', 'looks', 'pretty', 'loose', 'head', 'retention', 'was', 'quite', 'good', 'tiny', 'bubbles', 'can', 'be', 'seen', 'slowly', 'rising', 'to', 'the', 'top', 'nice', 'splashes', 'of', 'soapy', 'lacing', 's', '', 'toasted', 'sugars', 'molasses', 'caramel', 'and', 'a', 'touch', 'of', 'rye', 'herbal', 'and', 'orange', 'hop', 'characteristics', 'are', 'there', 'but', 'dont', 'jump', 'out', 'at', 'me', 'seems', 'balanced', 'and', 'drinkable', 't', '', 'pleasantly', 'surprising', 'orangetangerine', 'thing', 'going', 'on', 'bold', 'herbal', 'and', 'resinous', 'hop', 'flavors', 'through', 'and', 'through', 'moderately', 'sweet', 'with', 'just', 'a', 'touch', 'of', 'rye', 'bread', 'finishes', 'very', 'bitter', 'and', 'dry', 'with', 'lingering', 'resinous', 'hop', 'flavors', 'm', '', 'full', 'bodied', 'with', 'moderate', 'carbonation', 'and', 'slight', 'chewiness', 'o', '', 'i', 'gotta', 'say', 'that', 'im', 'pleasantly', 'surprised', 'by', 'this', 'beer', 'rye', 'didnt', 'jump', 'out', 'at', 'me', 'but', 'i', 'found', 'the', 'beer', 'to', 'be', 'a', 'satisfying', 'ipa', 'filled', 'with', 'resins', 'and', 'bitterness', 'inviting', 'look', 'and', 'the', 'price', 'is', 'outstanding', 'i', 'picked', 'up', 'a', 'mixed', '12pack', 'for', '14', 'and', 'cant', 'wait', 'to', 'try', 'the', 'rest', 'i', 'say', 'try', 'out', 'the', 'mix', 'pack', 'for', 'sure', 'id', 'buy', 'again', 'cheers'],['poured', 'a', 'rusty', 'light', 'orange', 'with', 'a', 'one', 'finger', 'head', 'smell', 'is', 'very', 'subtle', 'mild', 'citrus', 'hops', 'with', 'a', 'touch', 'of', 'peppery', 'malty', 'sweetness', 'taste', 'is', 'also', 'not', 'as', 'bold', 'as', 'i', 'was', 'expecting', 'mild', 'bite', 'of', 'hops', 'at', 'first', 'grapefruit', 'and', 'subtle', 'grass', 'that', 'ends', 'on', 'a', 'sweet', 'malty', 'peppery', 'note', 'overall', 'its', 'a', 'very', 'drinkable', 'ipa', 'nothing', 'stands', 'out', 'which', 'would', 'make', 'this', 'perfect', 'for', 'the', 'back', 'yard', 'bbq', 'but', 'if', 'your', 'searching', 'for', 'the', 'added', 'rye', 'this', 'might', 'not', 'impress'],['appearance', 'nothing', 'too', 'special', 'about', 'the', 'looks', 'of', 'this', 'beer', 'crystal', 'clear', 'look', 'tiny', 'bubbles', 'head', 'sustained', 'well', 'but', 'was', 'small', 'honey', 'color', 'aroma', 'aroma', 'was', 'pleasant', 'but', 'once', 'again', 'nothing', 'special', 'it', 'was', 'also', 'subtle', 'specific', 'smells', 'included', 'rye', 'orange', 'pine', 'and', 'honey', 'flavor', 'the', 'flavor', 'is', 'what', 'got', 'me', 'i', 'feel', 'it', 'had', 'the', 'perfect', 'balance', 'between', 'piney', 'hops', 'and', 'bitterness', 'the', 'specific', 'flavors', 'i', 'could', 'taste', 'were', 'pine', 'rye', 'orange', 'wheat', 'honey', 'copper', 'and', 'nuts', 'very', 'crisp', 'mouthfeel', 'the', 'mouthfeel', 'was', 'also', 'amazing', 'it', 'was', 'creamy', 'plentiful', 'amounts', 'of', 'small', 'bubbles', 'on', 'the', 'tongue', 'and', 'a', 'thick', 'body', 'overall', 'perfect', 'type', 'of', 'beer', 'id', 'like', 'to', 'drink', 'on', 'a', 'hot', 'day', 'but', 'would', 'also', 'be', 'amazing', 'slightly', 'below', 'room', 'temperature', 'this', 'is', 'nowhere', 'near', 'the', 'hoppiest', 'or', 'the', 'most', 'bitter', 'ipa', 'ive', 'ever', 'had', 'but', 'it', 'is', 'perfectly', 'balanced'],['pours', 'a', 'very', 'cloudy', 'orange', 'color', 'with', 'an', 'inch', 'of', 'white', 'head', 'spotty', 'lacing', 'the', 'nose', 'offers', 'a', 'ton', 'of', 'earthy', 'and', 'spiced', 'rye', 'there', 'is', 'some', 'faint', 'tropical', 'fruits', 'but', 'rye', 'dominates', 'the', 'flavors', 'are', 'compromised', 'of', 'a', 'ton', 'of', 'rye', 'spice', 'earthiness', 'and', 'lovliness', 'this', 'beer', 'has', 'one', 'of', 'the', 'most', 'noticable', 'and', 'enjoyable', 'rye', 'presence', 'some', 'bitter', 'hop', 'bitterness', 'completes', 'the', 'flavor', 'profile', 'including', 'some', 'pineapple', 'and', 'apricot', 'the', 'mouthfeel', 'is', 'appropriate', 'medium', 'with', 'moderate', 'carbonation', 'overall', 'loved', 'the', 'rye', 'characteristics', 'showing', 'boldly', 'here', 'very', 'enjoyable'],['poured', 'from', 'a', 'bomber', 'into', 'a', 'pint', 'glass', 'showing', 'a', 'deep', 'golden', 'color', 'with', 'a', 'bit', 'of', 'orangeamber', 'hue', 'with', 'a', 'touch', 'of', 'haze', 'sports', 'a', 'sturdy', 'inch', 'of', 'foam', 'which', 'offers', 'good', 'retention', 'and', 'lacing', 'light', 'hop', 'nose', 'with', 'citrus', 'and', 'a', 'bit', 'of', 'spice', 'touch', 'of', 'caramel', 'as', 'well', 'rather', 'clean', 'and', 'almost', 'lager', 'like', 'in', 'stillness', 'with', 'an', 'almost', 'additive', 'quality', 'to', 'it', 'with', 'warming', 'the', 'additive', 'quality', 'disappears', 'and', 'an', 'earthy', 'funkiness', 'arises', 'and', 'adding', 'more', 'depth', 'somewhat', 'coarse', 'on', 'the', 'palate', 'likely', 'given', 'the', 'rye', 'component', 'otherwise', 'showing', 'the', 'same', 'citrus', 'and', 'caramel', 'of', 'the', 'aroma', 'offers', 'an', 'odd', 'floral', 'component', 'that', 'seems', 'to', 'come', 'and', 'go', 'still', 'a', 'bit', 'too', 'malty', 'with', 'respect', 'to', 'hop', 'flavors', 'and', 'rather', 'reminiscent', 'of', 'an', 'english', 'ipa', 'decent', 'and', 'smooth', 'feel', 'yet', 'without', 'the', 'texture', 'i', 'would', 'expect', 'from', 'a', 'rye', 'ipa', 'easy', 'drinking', 'and', 'unotrusive', 'with', 'a', 'flash', 'of', 'orange', 'citrus', 'and', 'a', 'light', 'to', 'moderate', 'bitterness', 'on', 'the', 'finish'],['pours', 'amber', 'in', 'color', 'with', 'about', 'a', 'finger', 'and', 'a', 'half', 'white', 'frothy', 'head', 'medium', 'retention', 'leaving', 'spotty', 'lacing', 'around', 'the', 'glass', 'citrus', 'hop', 'aroma', 'and', 'some', 'spice', 'from', 'the', 'rye', 'and', 'a', 'little', 'florally', 'has', 'a', 'nice', 'hoppy', 'notes', 'not', 'over', 'powering', 'but', 'definitely', 'there', 'rye', 'spice', 'hints', 'of', 'fruit', 'light', 'bodied', 'medhigh', 'carbonation', 'leaving', 'the', 'mouth', 'nice', 'and', 'watery', 'overall', 'this', 'beer', 'was', 'exactly', 'what', 'a', 'expected', 'enjoyable', 'and', 'i', 'like', 'how', 'the', 'hops', 'and', 'spice', 'was', 'blended'],['no', 'bottle', 'date', 'tulip', 'glass', 'pours', 'a', 'deep', 'clear', 'golden', 'color', 'with', 'a', 'finger', 'of', 'head', 'tiny', 'bubbles', 'good', 'retention', 'and', 'decent', 'lacing', 'smells', 'mostly', 'like', 'rye', 'bread', 'with', 'an', 'undercurrent', 'of', 'tangerine', 'prominent', 'caramel', 'and', 'sugary', 'malt', 'taste', 'is', 'kind', 'of', 'grainybready', 'with', 'maybe', 'a', 'little', 'orangetangerine', 'citrus', 'and', 'again', 'a', 'hefty', 'dose', 'of', 'caramel', 'malt', 'finishing', 'moderately', 'bitter', 'medium', 'bodied', 'and', 'mediumlight', 'carbonation', 'overall', 'this', 'was', 'a', 'little', 'disappointing', 'in', 'its', 'lack', 'of', 'any', 'sort', 'of', 'hop', 'character', 'its', 'all', 'malt', 'and', 'rye', 'id', 'pass', 'on', 'this', 'again'],['a', 'slightly', 'cloudy', 'dark', 'straw', 'color', '23', 'finger', 'foamy', 'offwhite', 'head', 'that', 'looks', 'like', 'it', 'will', 'stick', 'around', 'nicely', 's', 'smells', 'of', 'lemon', 'rind', 'flowers', 'light', 'tree', 'sap', 'papaya', 'mango', 'and', 'grain', 't', 'hoppy', 'lemon', 'flowers', 'and', 'papaya', 'up', 'front', 'and', 'mid', 'pallete', 'at', 'mid', 'pallete', 'a', 'nice', 'toasted', 'malt', 'comes', 'through', 'finishes', 'somewhat', 'clean', 'but', 'with', 'a', 'small', 'bitter', 'sting', 'm', 'approaching', 'fullbodied', 'medium', 'carbonation', 'o', 'a', 'pleasant', 'surprise', 'from', 'a', 'local', 'brewery'],['big', 'thanks', 'to', 'derek', 'for', 'the', 'extra', '12', 'oz', 'poured', 'into', 'a', 'stone', 'old', 'guardian', 'glass', 'on', 'may', '16th', '2012', 'a', '', 'lightlyhazy', 'darkgolden', 'coloring', 'one', 'and', 'a', '12', 'fingers', 'of', 'a', 'vanillawhite', 'head', 'poor', 'retention', 'but', 'good', 'lacing', 's', '', 'relaxed', 'aromas', 'of', 'citrus', 'notably', 'orange', 'juice', 'and', 'overripe', 'lemons', 'theres', 'just', 'a', 'hint', 'of', 'ryelike', 'spices', 'tiny', 'bit', 'of', 'hopcone', 'pine', 'tree', 'but', 'it', 'doesnt', 'smell', 'all', 'that', 'west', 'coast', 't', '', 'further', 'citrus', 'and', 'light', 'pineyness', 'spices', 'are', 'nonexistent', 'here', 'at', 'rear', 'palate', 'theres', 'a', 'weird', 'exceedinglybitter', 'warheadcandy', 'sourness', 'that', 'feels', 'very', 'disjointed', 'from', 'the', 'rest', 'of', 'the', 'drink', 'it', 'went', 'from', 'being', 'subpar', 'in', 'reference', 'to', 'the', 'typical', 'to', 'bizarre', 'and', 'atyipcal', 'm', '', 'lightmedium', 'body', 'moderatehigh', 'carbonation', 'astringent', 'but', 'doesnt', 'finish', 'very', 'dry', 'd', '', 'i', 'refuse', 'to', 'believe', 'theres', 'rye', 'in', 'this', 'when', 'i', 'think', 'back', 'to', 'other', 'rye', 'ipas', 'like', 'alpine', 'nelson', 'not', 'likely', 'to', 'visit', 'this', 'one', 'again'],['mild', 'aroma', 'bringing', 'a', 'slight', 'spiciness', 'oranges', 'and', 'a', 'nice', 'constant', 'sweetness', 'across', 'the', 'board', 'pale', 'orange', 'and', 'clear', 'with', 'a', 'bubbly', 'white', 'adhesive', 'head', 'about', 'a', 'half', 'finger', 'thick', 'looks', 'kind', 'of', 'like', 'a', 'pumpkin', 'in', 'color', 'actually', 'sweet', 'almost', 'candylike', 'orange', 'flavors', 'right', 'up', 'front', 'and', 'through', 'the', 'finish', 'its', 'almost', 'like', 'those', 'gummi', 'orange', 'wedges', 'covered', 'in', 'sugar', 'nice', 'spiciness', 'from', 'the', 'rye', 'hits', 'the', 'sides', 'of', 'my', 'tongue', 'and', 'dances', 'around', 'slick', 'mouthfeel', 'almost', 'feels', 'a', 'bit', 'wrong', 'but', 'it', 'works', 'carbonation', 'is', 'low', 'to', 'moderate'],['22', 'oz', 'bottle', 'poured', 'into', 'a', 'pint', 'glass', 'a', 'beautiful', 'deep', 'golden', '', 'orange', 'red', 'in', 'color', 'with', 'a', 'huge', 'white', 'head', 'and', 'some', 'sticky', 'lacing', 's', 'citrus', 'hop', 'aroma', 'with', 'some', 'spice', 'and', 'caramel', 'malt', 't', 'large', 'but', 'not', 'overpowering', 'hop', 'presence', 'up', 'front', '', 'nice', 'spiciness', 'from', 'the', 'rye', 'm', 'medium', 'body', 'and', 'the', 'carbonation', 'is', 'spot', 'on', 'it', 'leaves', 'a', 'slight', 'velvety', 'coat', 'on', 'the', 'palate', 'the', 'finish', 'is', 'bit', 'dry', 'with', 'just', 'a', 'little', 'bitterness', 'but', 'very', 'nice', 'o', 'one', 'of', 'the', 'first', 'beers', 'i', 'had', 'from', 'bootleggers', 'and', 'a', 'great', 'rye', 'ipa', 'that', 'i', 'keep', 'stocked', 'in', 'the', 'fridge', 'audio', 'for', 'this', 'review', 'guns', 'n', 'roses', '', 'appetite', 'for', 'destruction'],['type', '22oz', 'bottle', 'glass', 'modern', 'times', 'pint', 'glass', 'from', 'hanson’s', 'market', 'in', 'san', 'clemente', 'calif', 'price', '429', 'purchased', 'july', '7', '2014', 'consumed', 'july', '10', '2014', 'misc', 'tons', 'of', 'foam', 'poured', 'out', 'of', 'the', 'beer', 'after', 'i', 'opened', 'it', 'poured', 'a', 'honey', 'orange', 'hazy', 'color', 'with', 'six', 'fingers', 'of', 'frothy', 'offwhite', 'head', 'above', 'average', 'foamy', 'layered', 'lacing', 'along', 'the', 'sides', 'of', 'the', 'glass', 'goodtogreat', 'retention', 'on', 'the', 'top', 'all', 'the', 'way', 'down', 'smelled', 'earthy', 'rye', 'hops', 'wet', 'cascade', 'hops', 'cantaloupe', 'sweetened', 'iced', 'tea', 'green', 'peas', 'light', 'asparagus', 'broccoli', 'corn', 'chips', 'and', 'some', 'caramel', 'notes', 'tasted', 'a', 'tad', 'better', 'than', 'the', 'smell', 'but', 'still', 'not', 'that', 'great', 'got', 'those', 'earthy', 'rye', 'hops', 'again', 'to', 'lead', 'also', 'buttery', 'notes', 'cantaloupe', 'lemon', 'grass', 'honey', 'sweetened', 'iced', 'tea', 'citrus', 'hops', 'caramel', 'cough', 'drops', 'lemon', 'and', 'some', 'vegetable', 'notes', 'felt', 'like', 'a', 'kind', 'of', 'cheap', 'taste', 'but', 'grew', 'on', 'me', 'as', 'it', 'went', 'down', 'mediumtolight', 'body', 'oily', 'texture', 'average', 'carbonation', 'long', 'smooth', 'finish', 'could', 'hardly', 'taste', 'the', 'alcohol', 'this', 'rye', 'ipa', 'really', 'grew', 'on', 'me', 'not', 'too', 'bad', 'and', 'a', 'great', 'value', 'for', 'the', 'price', '429'],['cloudy', 'orange', 'amber', 'color', 'with', 'thin', 'head', 'nice', 'spiderweb', 'of', 'lacing', 'left', 'on', 'glass', 'mug', 'nose', 'of', 'sweet', 'juicy', 'fruit', 'gum', 'ending', 'on', 'a', 'botanical', 'spiciness', 'spicy', 'kick', 'of', 'rye', 'is', 'up', 'front', 'on', 'the', 'palate', 'with', 'resiny', 'grapefruit', 'and', 'pine', 'hop', 'flavor', 'ends', 'on', 'a', 'sweet', 'caramel', 'and', 'chocolate', 'note', 'aggressively', 'carbonated', 'with', 'a', 'medium', 'thin', 'mouthfeel'],['a', 'mildly', 'hazy', 'orange', 'amber', 'with', 'a', 'dense', 'offwhite', 'head', 'this', 'is', 'a', 'decent', 'looking', 'ipa', 'the', 'nose', 'is', 'quite', 'solid', 'a', 'moderate', 'rye', 'character', 'along', 'with', 'some', 'grapefruit', 'and', 'pine', 'hops', 'this', 'also', 'has', 'some', 'tropical', 'fruit', 'character', 'malt', 'character', 'is', 'mild', 'a', 'little', 'bit', 'of', 'caramel', 'is', 'present', 'the', 'rye', 'is', 'rather', 'bready', 'too', 'the', 'palate', 'opens', 'with', 'a', 'blend', 'of', 'rye', 'and', 'grapefruit', 'and', 'a', 'little', 'bit', 'of', 'chalk', 'bitterness', 'is', 'moderate', 'and', 'theres', 'a', 'pleasant', 'blend', 'of', 'fruit', 'and', 'pine', 'a', 'touch', 'of', 'soap', 'as', 'well', 'the', 'midpalate', 'is', 'where', 'the', 'rye', 'comes', 'to', 'play', 'rather', 'spicy', 'and', 'bready', 'sweetness', 'is', 'medium', 'mediumlow', 'with', 'some', 'honey', 'present', 'moderately', 'drying', 'and', 'mildly', 'bitter', 'on', 'the', 'finish', 'there', 'are', 'lingering', 'flavors', 'of', 'fruit', 'and', 'pine', 'this', 'beer', 'is', 'a', 'little', 'watery', 'solid'],['the', 'beer', 'is', 'clear', 'golden', 'amber', 'with', 'a', 'huge', 'light', 'tan', 'head', 'that', 'leaves', 'tons', 'of', 'spiderweb', 'lacing', 'and', 'takes', 'a', 'while', 'to', 'dissipate', 'smells', 'of', 'grapefruit', 'pith', 'warm', 'malts', 'and', 'some', 'rye', 'as', 'well', 'taste', 'is', 'not', 'quite', 'as', 'big', 'lightly', 'bitter', 'pith', 'throughout', 'with', 'a', 'rye', 'aftertaste', 'the', 'two', 'go', 'well', 'together', 'but', 'the', 'flavors', 'are', 'a', 'little', 'understated', 'texture', 'is', 'lightmedium', 'bodied', 'a', 'light', 'bite', 'with', 'a', 'semi', 'long', 'dry', 'finish', 'medium', 'drinkability', 'i', 'probably', 'wouldnt', 'want', 'more', 'than', 'one', 'or', 'two', 'of', 'these', 'the', 'taste', 'is', 'somewhat', 'lacking', 'in', 'actual', 'hop', 'flavor', 'as', 'the', 'only', 'aspect', 'is', 'the', 'citrus', 'pith', 'other', 'than', 'that', 'its', 'what', 'it', 'says', 'it', 'is', 'and', 'does', 'a', 'pretty', 'good', 'job', 'of', 'it', 'doa'],['808th', 'review', 'on', 'ba', 'draft', 'to', 'pint', '12oz', 'concourse', 'bowling', 'fullerton', 'ca', 'app', 'a', 'nice', 'darker', 'orange', 'out', 'of', 'the', 'tap', 'had', 'a', 'pretty', 'minimal', 'one', 'finger', 'head', 'didn’t', 'cling', 'or', 'stick', 'like', 'i', 'was', 'hoping', 'it', 'would', 'i', 'think', 'glasses', 'were', 'still', 'a', 'bit', 'too', 'cold', 'when', 'i', 'had', 'this', 'one', 'out', 'of', 'the', 'bottle', 'it', 'was', 'a', 'heck', 'of', 'a', 'lot', 'different', 'smell', 'a', 'very', 'nice', 'smelling', 'ipa', 'a', 'lot', 'of', 'rye', 'comes', 'through', 'at', '1st', 'and', 'is', 'backed', 'by', 'a', 'little', 'bit', 'of', 'an', 'earthy', 'hop', 'note', 'and', 'even', 'a', 'soft', 'malt', 'on', 'the', 'back', 'not', 'overly', 'assertive', 'with', 'its', 'aromatics', 'but', 'enough', 'to', 'now', 'its', 'a', 'big', 'rye', 'beer', 'taste', 'this', 'was', 'one', 'of', 'the', 'more', 'rye', 'forward', 'beers', 'i', 'have', 'had', 'right', 'up', 'there', 'with', 'hop', 'rod', 'rye', 'this', 'was', 'very', 'balanced', 'with', 'a', 'lot', 'of', 'rye', 'being', 'intermixed', 'with', 'a', 'juicy', 'hop', 'and', 'a', 'little', 'touch', 'of', 'malt', 'on', 'the', 'other', 'side', 'forms', 'a', 'nice', 'triangle', 'of', 'flavors', 'a', 'little', 'dry', 'but', 'that’s', 'okay', 'mouth', 'medium', 'bodied', 'and', 'medium', 'carbonation', 'a', 'bit', 'dry', 'on', 'the', 'finish', 'a', 'nice', 'mixture', 'of', 'the', 'rye', 'and', 'citrus', 'drink', 'im', 'becoming', 'a', 'fan', 'of', 'the', 'rye', 'beers', 'and', 'i', 'didn’t', 'appreciate', 'this', 'one', 'when', 'i', '1st', 'had', 'it', 'this', 'was', 'a', 'nice', 'beer', 'to', 'hang', 'with', 'and', 'not', 'have', 'to', 'worry', 'about', 'too', 'much', 'abv', 'or', 'too', 'much', 'boldness', 'smooth', 'subtle', 'and', 'a', 'good', 'beer'],['i', 'had', 'this', 'one', 'in', 'a', '22oz', 'bomber', 'i', 'got', 'two', '16', 'oz', 'cans', 'as', 'an', 'extra', 'from', 'jimmy2282', 'thanks', 'what', 'a', 'great', 'surprise', 'cans', 'dated', '812011', 'a', '', 'lighter', 'appearance', 'then', 'some', 'other', 'rye', 'ipas', 'small', 'head', 's', '', 'nothing', 'significant', 'about', 'the', 'smell', 't', '', 'this', 'one', 'is', 'ok', 'nothing', 'i', 'would', 'spit', 'out', 'but', 'nothing', 'extraordinary', 'about', 'it', 'less', 'taste', 'then', 'others', 'of', 'this', 'style', 'm', '', 'medium', 'body', 'o', '', 'ehh', 'not', 'bad', 'not', 'great', 'though', 'i', 'wouldnt', 'spit', 'it', 'out', 'but', 'i', 'wouldnt', 'seek', 'this', 'one', 'out', 'but', 'would', 'certainly', 'drink', 'it', 'if', 'other', 'choices', 'were', 'limited'],['clear', 'amber', 'color', 'with', 'a', 'frothy', '2', 'finger', 'slightly', 'off', 'white', 'head', 'excellent', 'retention', 'and', 'lacing', 'nose', 'is', 'not', 'what', 'i', 'expected', 'quite', 'lacking', 'especially', 'in', 'the', 'hop', 'department', 'slight', 'spicy', 'leathery', 'notes', 'with', 'a', 'little', 'pale', 'malt', 'the', 'flavor', 'is', 'a', 'perfect', 'representation', 'of', 'the', 'name', 'minus', 'it', 'saying', 'ipa', 'on', 'the', 'bottle', 'again', 'lacking', 'a', 'bit', 'of', 'a', 'hop', 'characteristic', 'but', 'everything', 'else', 'is', 'great', 'nice', 'spicy', 'and', 'earthy', 'rye', 'notes', 'with', 'mild', 'fruit', 'and', 'a', 'touch', 'of', 'citrus', 'nice', 'balance', 'mouthfeel', 'is', 'light', 'bodied', 'with', 'a', 'mild', 'zesty', 'spiciness', 'crisp', 'with', 'medium', 'carbonation', 'overall', 'its', 'a', 'nice', 'very', 'drinkable', 'beer', 'lacking', 'in', 'hop', 'notes', 'and', 'characteristics', 'for', 'an', 'ipa', 'but', 'good', 'they', 'need', 'bottle', 'dates', 'to', 'determine', 'if', 'thats', 'the', 'reason', 'for', 'the', 'lack', 'of', 'hops', 'i', 'do', 'recommend', 'this', 'for', 'the', 'nice', 'rye', 'spiciness', 'and', 'earthiness', 'that', 'is', 'really', 'nice'],['22oz', 'bottle', 'poured', 'into', 'a', 'tall', 'tulip', 'glass', 'thanks', 'vitese', 'a', 'pours', 'copper', 'fairly', 'clear', 'with', 'nearly', '3', 'fingers', 'of', 'a', 'tight', 'offwhite', 'head', 'good', 'retention', 'leaves', 'decent', 'lacing', 's', 'soft', 'floral', 'and', 'citrus', 'hops', 'spicy', 'rye', 'caramel', 'smells', 'bready', 'lots', 'of', 'hop', 'flavor', 'but', 'not', 'overly', 'aggressive', 'like', 'many', 't', 'big', 'but', 'soft', 'hop', 'presence', 'up', 'front', 'with', 'lots', 'of', 'flowers', 'and', 'citrus', 'theres', 'not', 'really', 'any', 'bitterness', 'or', 'kick', 'nor', 'is', 'it', 'overly', 'orange', 'or', 'grapefruit', 'big', 'bread', 'notes', 'with', 'plenty', 'of', 'rye', 'and', 'spiciness', 'a', 'little', 'caramel', 'though', 'it', 'cleans', 'out', 'in', 'the', 'finish', 'm', 'medium', 'to', 'slightly', 'light', 'body', 'moderate', 'to', 'slightly', 'high', 'perfect', 'carbonation', 'fairly', 'smooth', 'very', 'nice', 'crisp', 'and', 'clean', 'finish', 'fairly', 'chewy', 'finish', 'is', 'fairly', 'dry', 'with', 'just', 'a', 'little', 'bitterness', 'o', 'normally', 'i', 'would', 'be', 'looking', 'for', 'a', 'bigger', 'bite', 'from', 'the', 'hops', 'more', 'bitterness', 'more', 'aggressive', 'thinking', 'of', 'this', 'as', 'a', 'rye', 'beer', 'though', 'i', 'really', 'like', 'it', 'gentle', 'and', 'flavorful', 'hop', 'presence', 'that', 'is', 'the', 'perfect', 'compliment', 'to', 'the', 'rye', 'spiciness', 'and', 'hearty', 'malts', 'just', 'the', 'right', 'touch', 'of', 'caramel', 'to', 'add', 'richness', 'without', 'taking', 'away', 'the', 'dry', 'clean', 'and', 'crisp', 'finish', 'tasty', 'and', 'refreshing', 'and', 'absolutely', 'no', 'astringency', 'or', 'alcohol', 'presence', 'a', 'tough', 'one', 'to', 'rate', 'probably', 'not', 'an', 'a', 'strictly', 'as', 'an', 'ipa', 'but', 'overall', 'i', 'enjoyed', 'this', 'as', 'much', 'as', 'a', 'any', 'beer', 'ive', 'given', 'an', 'a'],['thanks', 'to', 'kyle2k10', 'for', 'this', 'bottle', 'one', 'of', 'about', '98', 'extras', 'from', 'his', 'box', 'that', 'im', 'working', 'through', '22', 'oz', 'bottle', 'split', 'with', 'my', 'wife', 'after', 'a', 'good', 'dinner', 'out', 'for', 'my', 'daughters', 'birthday', 'this', 'week', 'watching', 'my', 'twins', 'get', 'crushed', 'again', 'still', 'plus', 'its', 'snowing', 'in', 'midapril', 'end', 'news', 'feed', 'pour', 'is', 'a', 'dull', 'orange', 'thats', 'about', 'fourteen', 'percent', 'occluded', 'not', 'quite', 'cold', 'filtered', 'lowly', 'carbonation', 'nose', 'is', 'extremely', 'earthy', 'mixed', 'with', 'tablespoons', 'of', 'lemon', '', 'citrus', '', 'orange', 'id', 'say', 'appealing', 'rustic', 'rye', 'ipa', 'is', 'like', 'biting', 'into', 'a', 'piece', 'of', 'south', 'dakota', 'farmland', 'earthiness', 'crosses', 'into', 'a', 'swampy', 'with', 'dry', 'brittle', 'windblown', 'leaves', 'in', 'the', 'mix', 'midpalate', 'the', 'hops', 'arrive', 'in', 'good', 'humor', 'pine', 'citrus', 'orange', 'even', 'finish', 'is', 'a', 'sweeping', 'gentle', 'bitterness', '', 'a', 'final', 'herbal', 'potpourri', 'half', 'a', 'bomber', 'of', 'this', 'will', 'do', 'just', 'fine', 'thanks', 'this', 'veers', 'towards', 'saison', 'territorywell', 'not', 'real', 'close', 'but', 'much', 'closer', 'than', 'most', 'beers', 'with', 'rye', 'or', 'ipa', 'on', 'the', 'label', 'best', 'thing', 'one', 'can', 'say', 'about', 'the', 'beer', 'is', 'itsinteresting', 'pretty', 'good', 'beer'],['a', 'clear', 'amber', '', 'looks', 'like', 'watered', 'down', 'whiskey', 'forms', 'a', 'small', 'white', 'head', 'that', 'has', 'little', 'retention', 'and', 'leaves', 'just', 'a', 'minimal', 'lacing', 's', 'smells', 'of', 'rye', 'toast', 'some', 'peppery', 'spice', 'grass', 'and', 'a', 'bit', 'of', 'butter', 't', 'lots', 'of', 'caramel', 'malt', 'and', 'butter', 'mixed', 'with', 'just', 'a', 'bit', 'of', 'pine', 'and', 'citrus', 'hops', 'rye', 'spice', 'on', 'the', 'finish', 'is', 'overpowered', 'by', 'unpleasant', 'diacetyl', 'flavors', 'm', 'medium', 'bodied', 'but', 'with', 'a', 'very', 'round', 'mouthfeel', 'to', 'it', 'that', 'is', 'likely', 'a', 'byproduct', 'of', 'whatever', 'is', 'causing', 'the', 'diacetyl', 'lower', 'carbonation', 'levels', 'mild', 'bitterness', 'o', 'simply', 'put', 'this', 'is', 'just', 'not', 'a', 'very', 'good', 'beer', 'very', 'little', 'rye', 'or', 'hop', 'character', 'with', 'an', 'overwhelming', 'amount', 'of', 'offflavors'],['a', 'pours', 'a', 'slightly', 'hazy', 'copper', 'with', 'two', 'fingers', 'of', 'beige', 'head', 'that', 'fades', 'into', 'a', 'frothy', 'cap', 'with', 'no', 'lacing', 's', 'some', 'light', 'and', 'sweet', 'citrus', 'notes', 'up', 'front', 'followed', 'by', 'dry', 'pine', 'and', 'grassy', 'aromas', 't', 'very', 'dry', 'pine', 'flavors', 'dominate', 'with', 'some', 'slight', 'grassy', 'notes', 'the', 'finish', 'is', 'moderately', 'bitter', 'with', 'some', 'resin', 'notes', 'as', 'well', 'm', 'medium', 'body', 'with', 'sudsy', 'carbonation', 'this', 'beer', 'feels', 'about', 'as', 'dry', 'as', 'it', 'tastes', 'o', 'an', 'alright', 'ipa', 'overall', 'though', 'nothing', 'special', 'its', 'a', 'super', 'dry', 'ipa', 'though', 'itd', 'be', 'nice', 'to', 'have', 'more', 'depth', 'of', 'flavor', 'and', 'aroma'],['lovely', 'dark', 'amber', 'in', 'the', 'tulip', 'glass', 'nice', 'foam', 'and', 'pleasing', 'carbonation', 'in', 'the', 'mouth', 'modest', 'aroma', 'of', 'browned', 'barley', 'with', 'some', 'bread', 'medium', 'body', 'with', 'a', 'rich', 'spicy', 'flavor', 'just', 'the', 'right', 'amount', 'of', 'rye', 'to', 'give', 'it', 'that', 'sharp', 'grainy', 'taste', 'with', 'a', 'touch', 'of', 'perfume', 'hops', 'provide', 'a', 'fairly', 'bitter', 'backdrop', 'like', 'an', 'ipa', 'but', 'restrained', 'enough', 'to', 'make', 'the', 'hops', 'a', 'deep', 'part', 'of', 'the', 'flavor', 'profile', 'without', 'stealing', 'the', 'show', 'resiny', 'taste', 'along', 'with', 'the', 'browned', 'biscuits', 'and', 'spicy', 'tang', 'nice', 'malty', 'flavor', 'provides', 'good', 'balance', 'compares', 'favorably', 'with', 'the', 'tasty', 'sierra', 'nevada', 'ruthless', 'rye', 'i', 'think', 'from', 'the', '22', 'oz', 'bottle'],['pours', 'clear', 'light', 'orange', 'in', 'color', 'with', 'a', 'slightly', 'offwhite', 'head', 'very', 'aromatic', 'mostly', 'citrus', 'notes', 'grapefruit', 'maybe', 'some', 'pine', 'notes', 'cant', 'say', 'that', 'i', 'smell', 'any', 'rye', 'or', 'malty', 'notes', 'in', 'general', 'taste', 'is', 'not', 'particularly', 'balanced', 'the', 'malty', 'base', 'seems', 'more', 'pronounced', 'than', 'it', 'would', 'be', 'in', 'a', 'regular', 'ipa', 'not', 'sure', 'if', 'thats', 'effect', 'of', 'rye', 'hops', 'are', 'very', 'bitter', 'from', 'the', 'moment', 'they', 'touch', 'your', 'mouth', 'all', 'through', 'the', 'aftertaste', 'there', 'is', 'a', 'bit', 'of', 'dryness', 'although', 'there', 'is', 'some', 'sweetness', 'on', 'the', 'lips', 'as', 'well', 'from', 'malts', 'its', 'about', 'medium', 'light', 'body', 'fairly', 'drinkable', 'i', 'am', 'not', 'sure', 'if', 'this', 'beer', 'will', 'become', 'my', 'favorite', 'lets', 'be', 'honest', 'it', 'is', 'not', 'anywhere', 'close', 'to', 'the', 'top', 'of', 'my', 'list', 'but', 'it', 'is', 'not', 'regrettable', 'im', 'enjoying', 'tasting', 'it', 'at', 'the', 'moment'],['an', 'adequate', 'if', 'not', 'distinguished', 'rye', 'beer', 'pours', 'a', 'clear', 'amber', 'with', 'a', 'decent', 'head', 'the', 'aroma', 'is', 'sharp', 'and', 'toasty', 'the', 'flavor', 'is', 'extremely', 'sharp', 'dry', 'and', 'toasty', 'with', 'that', 'characteristic', 'mouthpuckering', 'rye', 'edge', 'but', 'without', 'the', 'countervailing', 'malt', 'sweetness', 'that', 'distinguishes', 'a', 'great', 'rye', 'beer', 'the', 'final', 'effect', 'is', 'astringent', 'and', 'bitter', 'this', 'beer', 'takes', 'the', 'rye', 'thing', 'too', 'far', 'and', 'too', 'seriously'],['22oz', 'bomber', 'bottle', 'poured', 'into', 'a', 'dfh', 'snifter', 'no', 'bottle', 'date', 'is', 'located', 'on', 'the', 'bottle', 'from', 'what', 'i', 'can', 'see', 'a', 'pours', 'a', 'really', 'pretty', 'orange', 'color', 'crystal', 'clear', 'look', 'to', 'it', 'half', 'finger', 'of', 'bright', 'white', 'head', 'good', 'amount', 'of', 'carbonation', 'from', 'the', 'looks', 'of', 'it', 'off', 'the', 'bottom', 'of', 'the', 'dfh', 'glass', 'its', 'just', 'rolling', 'up', 'not', 'getting', 'tons', 'of', 'lacing', 's', 'i', 'get', 'some', 'of', 'those', 'fruit', 'and', 'citrus', 'hop', 'notes', 'over', 'ripe', 'peach', 'and', 'mango', 'but', 'then', 'i', 'get', 'the', 'grain', 'bill', 'notes', 'sweet', 'maltiness', 't', 'i', 'will', 'start', 'with', 'this', 'i', 'am', 'sick', 'and', 'my', 'taste', 'buds', 'are', 'a', 'little', 'off', 'i', 'do', 'get', 'some', 'spicy', 'notes', 'on', 'the', 'tip', 'of', 'the', 'tongue', 'from', 'the', 'rye', 'you', 'get', 'those', 'hops', 'in', 'the', 'middle', 'of', 'the', 'mouth', 'nice', 'balance', 'of', 'the', 'spicy', 'grains', 'and', 'the', 'fruity', 'hops', 'also', 'this', 'is', 'a', 'very', 'easy', 'drinking', 'beer', 'the', 'lower', 'abv', 'is', 'nice', 'm', 'medium', 'bodied', 'like', 'most', 'ipas', 'in', 'recent', 'memory', 'o', 'i', 'like', 'this', 'one', 'its', 'a', 'nicely', 'balanced', 'beer', 'like', 'the', 'rye', 'spicy', 'marrying', 'the', 'fruity', 'hops', 'they', 'used', 'thumbs', 'up'],['poured', 'into', 'a', 'spaten', 'tumbler', 'a', 'bright', 'clear', 'orange', 'color', 'swarms', 'of', 'large', 'carbonation', 'bubbles', 'lead', 'to', 'a', 'large', 'three', 'finger', 'head', 'that', 'is', 'sea', 'foam', 'white', 'and', 'the', 'same', 'in', 'appearance', 'lace', 'seems', 'to', 'be', 'very', 'sticky', 'at', 'this', 'time', 'smell', 'is', 'kind', 'of', 'lemony', 'with', 'some', 'bread', 'or', 'yeast', 'and', 'rye', 'spice', 'taste', 'is', 'bitter', 'of', 'a', 'yellow', 'grapefruit', 'some', 'sweetness', 'too', 'there', 'is', 'just', 'a', 'bit', 'of', 'rye', 'spice', 'to', 'this', 'but', 'not', 'at', 'all', 'in', 'the', 'front', 'mouth', 'is', 'crisp', 'and', 'the', 'carbonation', 'is', 'round', 'to', 'spritzy', 'body', 'is', 'delicate', 'and', 'the', 'finish', 'is', 'average', 'and', 'dry', 'overall', 'i', 'am', 'a', 'little', 'confused', 'by', 'this', 'one', 'i', 'couldnt', 'get', 'a', 'lot', 'of', 'rye', 'in', 'the', 'taste', 'this', 'is', 'a', 'must', 'try', 'if', 'easily', 'obtainable', 'but', 'dont', 'go', 'beating', 'down', 'the', 'trading', 'forums', 'for', 'this', 'one', 'thanks', 'to', 'nycwinter', 'for', 'the', 'chance', 'to', 'try', 'this', 'one']\""
      ]
     },
     "execution_count": 85,
     "metadata": {},
     "output_type": "execute_result"
    }
   ],
   "source": [
    "# Verify the concatenation\n",
    "df.loc[47604]"
   ]
  },
  {
   "cell_type": "code",
   "execution_count": 86,
   "metadata": {},
   "outputs": [],
   "source": [
    "df.to_csv('../data/csv/beer_docs.csv', index = False)"
   ]
  }
 ],
 "metadata": {
  "kernelspec": {
   "display_name": "ALEgorithm",
   "language": "python",
   "name": "alegorithm"
  },
  "language_info": {
   "codemirror_mode": {
    "name": "ipython",
    "version": 3
   },
   "file_extension": ".py",
   "mimetype": "text/x-python",
   "name": "python",
   "nbconvert_exporter": "python",
   "pygments_lexer": "ipython3",
   "version": "3.8.2"
  }
 },
 "nbformat": 4,
 "nbformat_minor": 4
}
