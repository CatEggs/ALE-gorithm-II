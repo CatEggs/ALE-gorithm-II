{
 "cells": [
  {
   "cell_type": "markdown",
   "metadata": {},
   "source": [
    "## NLP\n",
    "\n",
    "### The original dataset is available for download on [Kaggle](https://www.kaggle.com/ehallmar/beers-breweries-and-beer-reviews#reviews.csv). \n",
    "\n",
    "### The following steps demonstrate the data cleaning process for NLP use. Only entries with text reviews were preserved."
   ]
  },
  {
   "cell_type": "code",
   "execution_count": 11,
   "metadata": {},
   "outputs": [],
   "source": [
    "import pandas as pd\n",
    "import numpy as np\n",
    "import os\n",
    "import platform\n",
    "import ipywidgets\n",
    "import re\n",
    "import sklearn\n",
    "from sklearn.feature_extraction import stop_words\n",
    "from scipy.sparse import vstack\n",
    "from sklearn.feature_extraction.text import HashingVectorizer\n",
    "import joblib"
   ]
  },
  {
   "cell_type": "code",
   "execution_count": 20,
   "metadata": {},
   "outputs": [
    {
     "name": "stdout",
     "output_type": "stream",
     "text": [
      "System\n",
      "OS name: posix\n",
      "System: Darwin\n",
      "Release: 17.7.0\n",
      "\n",
      "Python\n",
      "version: 3.8.2\n",
      "\n",
      "Python Packages\n",
      "pandas == 1.0.3\n",
      "numpy == 1.18.3\n",
      "sklearn == 0.22.2.post1\n",
      "jupyter == 1.0.0\n"
     ]
    }
   ],
   "source": [
    "print(\"System\")\n",
    "print(\"OS name: %s\" % os.name)\n",
    "print(\"System: %s\" % platform.system())\n",
    "print(\"Release: %s\" % platform.release())\n",
    "print()\n",
    "print(\"Python\")\n",
    "print(\"version: %s\" % python_version())\n",
    "print()\n",
    "print(\"Python Packages\")\n",
    "print(\"pandas == %s\" % pd.__version__)\n",
    "print(\"numpy == %s\" % np.__version__)\n",
    "print(\"sklearn == %s\" % sklearn.__version__)\n",
    "print(\"jupyter == 1.0.0\")"
   ]
  },
  {
   "cell_type": "markdown",
   "metadata": {},
   "source": [
    "## Data Cleaning"
   ]
  },
  {
   "cell_type": "code",
   "execution_count": 2,
   "metadata": {},
   "outputs": [
    {
     "name": "stdout",
     "output_type": "stream",
     "text": [
      "The number of rows are: 9073128\n"
     ]
    }
   ],
   "source": [
    "df = pd.read_csv('../data/csv/reviews.csv')\n",
    "\n",
    "# Displays the number of rows in df\n",
    "print('The number of rows are: ' + str(len(df.index)))"
   ]
  },
  {
   "cell_type": "code",
   "execution_count": 3,
   "metadata": {},
   "outputs": [
    {
     "data": {
      "text/html": [
       "<div>\n",
       "<style scoped>\n",
       "    .dataframe tbody tr th:only-of-type {\n",
       "        vertical-align: middle;\n",
       "    }\n",
       "\n",
       "    .dataframe tbody tr th {\n",
       "        vertical-align: top;\n",
       "    }\n",
       "\n",
       "    .dataframe thead th {\n",
       "        text-align: right;\n",
       "    }\n",
       "</style>\n",
       "<table border=\"1\" class=\"dataframe\">\n",
       "  <thead>\n",
       "    <tr style=\"text-align: right;\">\n",
       "      <th></th>\n",
       "      <th>beer_id</th>\n",
       "      <th>username</th>\n",
       "      <th>date</th>\n",
       "      <th>text</th>\n",
       "      <th>look</th>\n",
       "      <th>smell</th>\n",
       "      <th>taste</th>\n",
       "      <th>feel</th>\n",
       "      <th>overall</th>\n",
       "      <th>score</th>\n",
       "    </tr>\n",
       "  </thead>\n",
       "  <tbody>\n",
       "    <tr>\n",
       "      <th>0</th>\n",
       "      <td>271781</td>\n",
       "      <td>bluejacket74</td>\n",
       "      <td>2017-03-17</td>\n",
       "      <td>750 ml bottle, 2016 vintage, bottle #304 of...</td>\n",
       "      <td>4.00</td>\n",
       "      <td>4.00</td>\n",
       "      <td>4.00</td>\n",
       "      <td>4.25</td>\n",
       "      <td>4.00</td>\n",
       "      <td>4.03</td>\n",
       "    </tr>\n",
       "    <tr>\n",
       "      <th>1</th>\n",
       "      <td>125646</td>\n",
       "      <td>_dirty_</td>\n",
       "      <td>2017-12-21</td>\n",
       "      <td></td>\n",
       "      <td>4.50</td>\n",
       "      <td>4.50</td>\n",
       "      <td>4.50</td>\n",
       "      <td>4.50</td>\n",
       "      <td>4.50</td>\n",
       "      <td>4.50</td>\n",
       "    </tr>\n",
       "    <tr>\n",
       "      <th>2</th>\n",
       "      <td>125646</td>\n",
       "      <td>CJDUBYA</td>\n",
       "      <td>2017-12-21</td>\n",
       "      <td></td>\n",
       "      <td>4.75</td>\n",
       "      <td>4.75</td>\n",
       "      <td>4.75</td>\n",
       "      <td>4.75</td>\n",
       "      <td>4.75</td>\n",
       "      <td>4.75</td>\n",
       "    </tr>\n",
       "    <tr>\n",
       "      <th>3</th>\n",
       "      <td>125646</td>\n",
       "      <td>GratefulBeerGuy</td>\n",
       "      <td>2017-12-20</td>\n",
       "      <td>0% 16 oz can. Funny story: As I finally wal...</td>\n",
       "      <td>4.75</td>\n",
       "      <td>4.75</td>\n",
       "      <td>4.50</td>\n",
       "      <td>4.50</td>\n",
       "      <td>4.50</td>\n",
       "      <td>4.58</td>\n",
       "    </tr>\n",
       "    <tr>\n",
       "      <th>4</th>\n",
       "      <td>125646</td>\n",
       "      <td>LukeGude</td>\n",
       "      <td>2017-12-20</td>\n",
       "      <td>Classic TH NEIPA. Overflowing head and bouq...</td>\n",
       "      <td>4.25</td>\n",
       "      <td>4.50</td>\n",
       "      <td>4.25</td>\n",
       "      <td>4.25</td>\n",
       "      <td>4.25</td>\n",
       "      <td>4.31</td>\n",
       "    </tr>\n",
       "  </tbody>\n",
       "</table>\n",
       "</div>"
      ],
      "text/plain": [
       "   beer_id         username        date  \\\n",
       "0   271781     bluejacket74  2017-03-17   \n",
       "1   125646          _dirty_  2017-12-21   \n",
       "2   125646          CJDUBYA  2017-12-21   \n",
       "3   125646  GratefulBeerGuy  2017-12-20   \n",
       "4   125646         LukeGude  2017-12-20   \n",
       "\n",
       "                                                text  look  smell  taste  \\\n",
       "0     750 ml bottle, 2016 vintage, bottle #304 of...  4.00   4.00   4.00   \n",
       "1                                                     4.50   4.50   4.50   \n",
       "2                                                     4.75   4.75   4.75   \n",
       "3     0% 16 oz can. Funny story: As I finally wal...  4.75   4.75   4.50   \n",
       "4     Classic TH NEIPA. Overflowing head and bouq...  4.25   4.50   4.25   \n",
       "\n",
       "   feel  overall  score  \n",
       "0  4.25     4.00   4.03  \n",
       "1  4.50     4.50   4.50  \n",
       "2  4.75     4.75   4.75  \n",
       "3  4.50     4.50   4.58  \n",
       "4  4.25     4.25   4.31  "
      ]
     },
     "execution_count": 3,
     "metadata": {},
     "output_type": "execute_result"
    }
   ],
   "source": [
    "df.head(5)"
   ]
  },
  {
   "cell_type": "code",
   "execution_count": 4,
   "metadata": {},
   "outputs": [
    {
     "data": {
      "text/html": [
       "<div>\n",
       "<style scoped>\n",
       "    .dataframe tbody tr th:only-of-type {\n",
       "        vertical-align: middle;\n",
       "    }\n",
       "\n",
       "    .dataframe tbody tr th {\n",
       "        vertical-align: top;\n",
       "    }\n",
       "\n",
       "    .dataframe thead th {\n",
       "        text-align: right;\n",
       "    }\n",
       "</style>\n",
       "<table border=\"1\" class=\"dataframe\">\n",
       "  <thead>\n",
       "    <tr style=\"text-align: right;\">\n",
       "      <th></th>\n",
       "      <th>beer_id</th>\n",
       "      <th>text</th>\n",
       "    </tr>\n",
       "  </thead>\n",
       "  <tbody>\n",
       "    <tr>\n",
       "      <th>0</th>\n",
       "      <td>271781</td>\n",
       "      <td>750 ml bottle, 2016 vintage, bottle #304 of...</td>\n",
       "    </tr>\n",
       "    <tr>\n",
       "      <th>1</th>\n",
       "      <td>125646</td>\n",
       "      <td></td>\n",
       "    </tr>\n",
       "    <tr>\n",
       "      <th>2</th>\n",
       "      <td>125646</td>\n",
       "      <td></td>\n",
       "    </tr>\n",
       "    <tr>\n",
       "      <th>3</th>\n",
       "      <td>125646</td>\n",
       "      <td>0% 16 oz can. Funny story: As I finally wal...</td>\n",
       "    </tr>\n",
       "    <tr>\n",
       "      <th>4</th>\n",
       "      <td>125646</td>\n",
       "      <td>Classic TH NEIPA. Overflowing head and bouq...</td>\n",
       "    </tr>\n",
       "  </tbody>\n",
       "</table>\n",
       "</div>"
      ],
      "text/plain": [
       "   beer_id                                               text\n",
       "0   271781     750 ml bottle, 2016 vintage, bottle #304 of...\n",
       "1   125646                                                   \n",
       "2   125646                                                   \n",
       "3   125646     0% 16 oz can. Funny story: As I finally wal...\n",
       "4   125646     Classic TH NEIPA. Overflowing head and bouq..."
      ]
     },
     "execution_count": 4,
     "metadata": {},
     "output_type": "execute_result"
    }
   ],
   "source": [
    "# Drop columns\n",
    "df = df.drop(columns = ['date','username','look','smell','taste','feel','overall','score'])\n",
    "df.head()"
   ]
  },
  {
   "cell_type": "code",
   "execution_count": 5,
   "metadata": {},
   "outputs": [],
   "source": [
    "# list comprehension to strip each row of extraneous characters\n",
    "df['og_review'] = [x.strip(\" \\xa0\") for x in df['text']]"
   ]
  },
  {
   "cell_type": "code",
   "execution_count": 6,
   "metadata": {},
   "outputs": [
    {
     "data": {
      "text/html": [
       "<div>\n",
       "<style scoped>\n",
       "    .dataframe tbody tr th:only-of-type {\n",
       "        vertical-align: middle;\n",
       "    }\n",
       "\n",
       "    .dataframe tbody tr th {\n",
       "        vertical-align: top;\n",
       "    }\n",
       "\n",
       "    .dataframe thead th {\n",
       "        text-align: right;\n",
       "    }\n",
       "</style>\n",
       "<table border=\"1\" class=\"dataframe\">\n",
       "  <thead>\n",
       "    <tr style=\"text-align: right;\">\n",
       "      <th></th>\n",
       "      <th>beer_id</th>\n",
       "      <th>og_review</th>\n",
       "    </tr>\n",
       "  </thead>\n",
       "  <tbody>\n",
       "    <tr>\n",
       "      <th>0</th>\n",
       "      <td>271781</td>\n",
       "      <td>750 ml bottle, 2016 vintage, bottle #304 of 36...</td>\n",
       "    </tr>\n",
       "    <tr>\n",
       "      <th>1</th>\n",
       "      <td>125646</td>\n",
       "      <td></td>\n",
       "    </tr>\n",
       "    <tr>\n",
       "      <th>2</th>\n",
       "      <td>125646</td>\n",
       "      <td></td>\n",
       "    </tr>\n",
       "    <tr>\n",
       "      <th>3</th>\n",
       "      <td>125646</td>\n",
       "      <td>0% 16 oz can. Funny story: As I finally walked...</td>\n",
       "    </tr>\n",
       "    <tr>\n",
       "      <th>4</th>\n",
       "      <td>125646</td>\n",
       "      <td>Classic TH NEIPA. Overflowing head and bouquet...</td>\n",
       "    </tr>\n",
       "  </tbody>\n",
       "</table>\n",
       "</div>"
      ],
      "text/plain": [
       "   beer_id                                          og_review\n",
       "0   271781  750 ml bottle, 2016 vintage, bottle #304 of 36...\n",
       "1   125646                                                   \n",
       "2   125646                                                   \n",
       "3   125646  0% 16 oz can. Funny story: As I finally walked...\n",
       "4   125646  Classic TH NEIPA. Overflowing head and bouquet..."
      ]
     },
     "execution_count": 6,
     "metadata": {},
     "output_type": "execute_result"
    }
   ],
   "source": [
    "# drop unwanted column\n",
    "df = df.drop(columns=['text'])\n",
    "df.head()"
   ]
  },
  {
   "cell_type": "code",
   "execution_count": 7,
   "metadata": {},
   "outputs": [
    {
     "data": {
      "text/html": [
       "<div>\n",
       "<style scoped>\n",
       "    .dataframe tbody tr th:only-of-type {\n",
       "        vertical-align: middle;\n",
       "    }\n",
       "\n",
       "    .dataframe tbody tr th {\n",
       "        vertical-align: top;\n",
       "    }\n",
       "\n",
       "    .dataframe thead th {\n",
       "        text-align: right;\n",
       "    }\n",
       "</style>\n",
       "<table border=\"1\" class=\"dataframe\">\n",
       "  <thead>\n",
       "    <tr style=\"text-align: right;\">\n",
       "      <th></th>\n",
       "      <th>beer_id</th>\n",
       "      <th>og_review</th>\n",
       "    </tr>\n",
       "  </thead>\n",
       "  <tbody>\n",
       "    <tr>\n",
       "      <th>0</th>\n",
       "      <td>271781</td>\n",
       "      <td>750 ml bottle, 2016 vintage, bottle #304 of 36...</td>\n",
       "    </tr>\n",
       "    <tr>\n",
       "      <th>3</th>\n",
       "      <td>125646</td>\n",
       "      <td>0% 16 oz can. Funny story: As I finally walked...</td>\n",
       "    </tr>\n",
       "    <tr>\n",
       "      <th>4</th>\n",
       "      <td>125646</td>\n",
       "      <td>Classic TH NEIPA. Overflowing head and bouquet...</td>\n",
       "    </tr>\n",
       "    <tr>\n",
       "      <th>7</th>\n",
       "      <td>125646</td>\n",
       "      <td>Pours a creamy opaque light straw yellow with ...</td>\n",
       "    </tr>\n",
       "    <tr>\n",
       "      <th>13</th>\n",
       "      <td>125646</td>\n",
       "      <td>Pours a cloudy yellow color with a thin foamy ...</td>\n",
       "    </tr>\n",
       "  </tbody>\n",
       "</table>\n",
       "</div>"
      ],
      "text/plain": [
       "    beer_id                                          og_review\n",
       "0    271781  750 ml bottle, 2016 vintage, bottle #304 of 36...\n",
       "3    125646  0% 16 oz can. Funny story: As I finally walked...\n",
       "4    125646  Classic TH NEIPA. Overflowing head and bouquet...\n",
       "7    125646  Pours a creamy opaque light straw yellow with ...\n",
       "13   125646  Pours a cloudy yellow color with a thin foamy ..."
      ]
     },
     "execution_count": 7,
     "metadata": {},
     "output_type": "execute_result"
    }
   ],
   "source": [
    "# Extract rows with reviews\n",
    "df = df[df['og_review'] != '']\n",
    "df.head()"
   ]
  },
  {
   "cell_type": "code",
   "execution_count": 9,
   "metadata": {},
   "outputs": [
    {
     "data": {
      "text/html": [
       "<div>\n",
       "<style scoped>\n",
       "    .dataframe tbody tr th:only-of-type {\n",
       "        vertical-align: middle;\n",
       "    }\n",
       "\n",
       "    .dataframe tbody tr th {\n",
       "        vertical-align: top;\n",
       "    }\n",
       "\n",
       "    .dataframe thead th {\n",
       "        text-align: right;\n",
       "    }\n",
       "</style>\n",
       "<table border=\"1\" class=\"dataframe\">\n",
       "  <thead>\n",
       "    <tr style=\"text-align: right;\">\n",
       "      <th></th>\n",
       "      <th>beer_id</th>\n",
       "      <th>text</th>\n",
       "    </tr>\n",
       "  </thead>\n",
       "  <tbody>\n",
       "    <tr>\n",
       "      <th>0</th>\n",
       "      <td>271781</td>\n",
       "      <td>750 ml bottle, 2016 vintage, bottle #304 of 36...</td>\n",
       "    </tr>\n",
       "    <tr>\n",
       "      <th>3</th>\n",
       "      <td>125646</td>\n",
       "      <td>0% 16 oz can. Funny story: As I finally walked...</td>\n",
       "    </tr>\n",
       "    <tr>\n",
       "      <th>4</th>\n",
       "      <td>125646</td>\n",
       "      <td>Classic TH NEIPA. Overflowing head and bouquet...</td>\n",
       "    </tr>\n",
       "    <tr>\n",
       "      <th>7</th>\n",
       "      <td>125646</td>\n",
       "      <td>Pours a creamy opaque light straw yellow with ...</td>\n",
       "    </tr>\n",
       "    <tr>\n",
       "      <th>13</th>\n",
       "      <td>125646</td>\n",
       "      <td>Pours a cloudy yellow color with a thin foamy ...</td>\n",
       "    </tr>\n",
       "  </tbody>\n",
       "</table>\n",
       "</div>"
      ],
      "text/plain": [
       "    beer_id                                               text\n",
       "0    271781  750 ml bottle, 2016 vintage, bottle #304 of 36...\n",
       "3    125646  0% 16 oz can. Funny story: As I finally walked...\n",
       "4    125646  Classic TH NEIPA. Overflowing head and bouquet...\n",
       "7    125646  Pours a creamy opaque light straw yellow with ...\n",
       "13   125646  Pours a cloudy yellow color with a thin foamy ..."
      ]
     },
     "execution_count": 9,
     "metadata": {},
     "output_type": "execute_result"
    }
   ],
   "source": [
    "# Rename column\n",
    "df = df.rename(columns={\"og_review\": \"text\"})\n",
    "df.head()"
   ]
  },
  {
   "cell_type": "markdown",
   "metadata": {},
   "source": [
    "## Grouping"
   ]
  },
  {
   "cell_type": "code",
   "execution_count": 10,
   "metadata": {},
   "outputs": [
    {
     "data": {
      "text/plain": [
       "beer_id\n",
       "3         The label is very informative, except it didn'...\n",
       "4         No dating. Had this one in the fridge, then on...\n",
       "5         Beautiful beer. Light and tasty.I travel all o...\n",
       "6         great brown ale...one of my favorites.Might ha...\n",
       "7         The labeling with the purple haze guy with the...\n",
       "                                ...                        \n",
       "373112    kind of thin(ner).... but good! actually taste...\n",
       "373116                                             A11, A12\n",
       "373121                                                  A14\n",
       "373122    creamy head. fruits in the aroma. slightly ora...\n",
       "373128    Buried deep on Sleeman’s website. Actually not...\n",
       "Name: text, Length: 210311, dtype: object"
      ]
     },
     "execution_count": 10,
     "metadata": {},
     "output_type": "execute_result"
    }
   ],
   "source": [
    "# Group by beer_id\n",
    "agg_df = df.groupby(\"beer_id\")[\"text\"].sum()\n",
    "agg_df"
   ]
  },
  {
   "cell_type": "code",
   "execution_count": 46,
   "metadata": {},
   "outputs": [
    {
     "name": "stdout",
     "output_type": "stream",
     "text": [
      "210311 unique beers\n"
     ]
    }
   ],
   "source": [
    "print(str(len(agg_df.index)) + ' unique beers')"
   ]
  },
  {
   "cell_type": "markdown",
   "metadata": {},
   "source": [
    "## Save df aggregated by beer_id"
   ]
  },
  {
   "cell_type": "code",
   "execution_count": 11,
   "metadata": {},
   "outputs": [],
   "source": [
    "# agg_df = agg_df.reset_index()\n",
    "# agg_df.to_csv('../data/csv/agg_beer_docs.csv', index = False)"
   ]
  },
  {
   "cell_type": "code",
   "execution_count": 3,
   "metadata": {},
   "outputs": [
    {
     "data": {
      "text/html": [
       "<div>\n",
       "<style scoped>\n",
       "    .dataframe tbody tr th:only-of-type {\n",
       "        vertical-align: middle;\n",
       "    }\n",
       "\n",
       "    .dataframe tbody tr th {\n",
       "        vertical-align: top;\n",
       "    }\n",
       "\n",
       "    .dataframe thead th {\n",
       "        text-align: right;\n",
       "    }\n",
       "</style>\n",
       "<table border=\"1\" class=\"dataframe\">\n",
       "  <thead>\n",
       "    <tr style=\"text-align: right;\">\n",
       "      <th></th>\n",
       "      <th>beer_id</th>\n",
       "      <th>text</th>\n",
       "    </tr>\n",
       "  </thead>\n",
       "  <tbody>\n",
       "    <tr>\n",
       "      <th>0</th>\n",
       "      <td>3</td>\n",
       "      <td>The label is very informative, except it didn'...</td>\n",
       "    </tr>\n",
       "    <tr>\n",
       "      <th>1</th>\n",
       "      <td>4</td>\n",
       "      <td>No dating. Had this one in the fridge, then on...</td>\n",
       "    </tr>\n",
       "    <tr>\n",
       "      <th>2</th>\n",
       "      <td>5</td>\n",
       "      <td>Beautiful beer. Light and tasty.I travel all o...</td>\n",
       "    </tr>\n",
       "    <tr>\n",
       "      <th>3</th>\n",
       "      <td>6</td>\n",
       "      <td>great brown ale...one of my favorites.Might ha...</td>\n",
       "    </tr>\n",
       "    <tr>\n",
       "      <th>4</th>\n",
       "      <td>7</td>\n",
       "      <td>The labeling with the purple haze guy with the...</td>\n",
       "    </tr>\n",
       "    <tr>\n",
       "      <th>...</th>\n",
       "      <td>...</td>\n",
       "      <td>...</td>\n",
       "    </tr>\n",
       "    <tr>\n",
       "      <th>210306</th>\n",
       "      <td>373112</td>\n",
       "      <td>kind of thin(ner).... but good! actually taste...</td>\n",
       "    </tr>\n",
       "    <tr>\n",
       "      <th>210307</th>\n",
       "      <td>373116</td>\n",
       "      <td>A11, A12</td>\n",
       "    </tr>\n",
       "    <tr>\n",
       "      <th>210308</th>\n",
       "      <td>373121</td>\n",
       "      <td>A14</td>\n",
       "    </tr>\n",
       "    <tr>\n",
       "      <th>210309</th>\n",
       "      <td>373122</td>\n",
       "      <td>creamy head. fruits in the aroma. slightly ora...</td>\n",
       "    </tr>\n",
       "    <tr>\n",
       "      <th>210310</th>\n",
       "      <td>373128</td>\n",
       "      <td>Buried deep on Sleeman’s website. Actually not...</td>\n",
       "    </tr>\n",
       "  </tbody>\n",
       "</table>\n",
       "<p>210311 rows × 2 columns</p>\n",
       "</div>"
      ],
      "text/plain": [
       "        beer_id                                               text\n",
       "0             3  The label is very informative, except it didn'...\n",
       "1             4  No dating. Had this one in the fridge, then on...\n",
       "2             5  Beautiful beer. Light and tasty.I travel all o...\n",
       "3             6  great brown ale...one of my favorites.Might ha...\n",
       "4             7  The labeling with the purple haze guy with the...\n",
       "...         ...                                                ...\n",
       "210306   373112  kind of thin(ner).... but good! actually taste...\n",
       "210307   373116                                           A11, A12\n",
       "210308   373121                                                A14\n",
       "210309   373122  creamy head. fruits in the aroma. slightly ora...\n",
       "210310   373128  Buried deep on Sleeman’s website. Actually not...\n",
       "\n",
       "[210311 rows x 2 columns]"
      ]
     },
     "execution_count": 3,
     "metadata": {},
     "output_type": "execute_result"
    }
   ],
   "source": [
    "# df = pd.read_csv('../data/csv/agg_beer_docs.csv')\n",
    "# df"
   ]
  },
  {
   "cell_type": "markdown",
   "metadata": {},
   "source": [
    "## Parallel Hashing Vectorizer"
   ]
  },
  {
   "cell_type": "code",
   "execution_count": 5,
   "metadata": {},
   "outputs": [],
   "source": [
    "class ParallelHashingVectorizer(HashingVectorizer):\n",
    "    \n",
    "    def __init__(self, n_jobs=1, **kwargs):\n",
    "        super().__init__(**kwargs)\n",
    "        self.n_jobs = n_jobs\n",
    "    \n",
    "    def transform(self, X, y=None, **fit_params):\n",
    "        \n",
    "        delayed_hashing_vectorizer = delayed(super().transform)\n",
    "        \n",
    "        X_parts = np.array_split(X, effective_n_jobs(self.n_jobs))\n",
    "        \n",
    "        X_parts_transformed = Parallel(n_jobs=effective_n_jobs(self.n_jobs))(delayed_hashing_vectorizer(X_part) for X_part in X_parts)\n",
    "        \n",
    "        X_transformed = vstack(X_parts_transformed)\n",
    "        \n",
    "        return X_transformed"
   ]
  },
  {
   "cell_type": "code",
   "execution_count": 6,
   "metadata": {},
   "outputs": [
    {
     "name": "stdout",
     "output_type": "stream",
     "text": [
      "CPU times: user 25.8 s, sys: 12.4 s, total: 38.3 s\n",
      "Wall time: 4min 39s\n"
     ]
    }
   ],
   "source": [
    "%%time\n",
    "\n",
    "hv = ParallelHashingVectorizer(\n",
    "    n_jobs = -1,\n",
    "    alternate_sign = False\n",
    ")\n",
    "\n",
    "df_iter = pd.read_csv('../data/csv/agg_beer_docs.csv', chunksize = 10000)\n",
    "\n",
    "X_vects = []\n",
    "\n",
    "for df in df_iter:\n",
    "    X = df['text'].values\n",
    "    X_vect = hv.fit_transform(X)\n",
    "    X_vects.append(X_vect)\n",
    "\n",
    "X_vect_all = vstack(X_vects)"
   ]
  },
  {
   "cell_type": "code",
   "execution_count": 7,
   "metadata": {},
   "outputs": [
    {
     "name": "stdout",
     "output_type": "stream",
     "text": [
      "  (0, 1907)\t0.026108681666265243\n",
      "  (0, 5230)\t0.026108681666265243\n",
      "  (0, 15860)\t0.026108681666265243\n",
      "  (0, 25602)\t0.026108681666265243\n",
      "  (0, 39493)\t0.052217363332530485\n",
      "  (0, 44771)\t0.026108681666265243\n",
      "  (0, 65517)\t0.026108681666265243\n",
      "  (0, 70406)\t0.13054340833132622\n",
      "  (0, 77592)\t0.026108681666265243\n",
      "  (0, 97469)\t0.07832604499879572\n",
      "  (0, 127771)\t0.026108681666265243\n",
      "  (0, 129237)\t0.026108681666265243\n",
      "  (0, 139455)\t0.026108681666265243\n",
      "  (0, 142771)\t0.052217363332530485\n",
      "  (0, 143803)\t0.026108681666265243\n",
      "  (0, 144749)\t0.1827607716638567\n",
      "  (0, 154172)\t0.026108681666265243\n",
      "  (0, 170062)\t0.10443472666506097\n",
      "  (0, 174171)\t0.10443472666506097\n",
      "  (0, 174974)\t0.026108681666265243\n",
      "  (0, 179826)\t0.026108681666265243\n",
      "  (0, 180233)\t0.026108681666265243\n",
      "  (0, 180525)\t0.3655215433277134\n",
      "  (0, 186465)\t0.026108681666265243\n",
      "  (0, 204878)\t0.026108681666265243\n",
      "  :\t:\n",
      "  (210307, 193869)\t0.7071067811865475\n",
      "  (210308, 167377)\t1.0\n",
      "  (210309, 154172)\t0.2581988897471611\n",
      "  (210309, 240984)\t0.2581988897471611\n",
      "  (210309, 271562)\t0.2581988897471611\n",
      "  (210309, 286878)\t0.2581988897471611\n",
      "  (210309, 329465)\t0.2581988897471611\n",
      "  (210309, 379056)\t0.2581988897471611\n",
      "  (210309, 472554)\t0.2581988897471611\n",
      "  (210309, 530893)\t0.2581988897471611\n",
      "  (210309, 704567)\t0.2581988897471611\n",
      "  (210309, 766016)\t0.2581988897471611\n",
      "  (210309, 828689)\t0.2581988897471611\n",
      "  (210309, 875389)\t0.5163977794943222\n",
      "  (210310, 35150)\t0.30151134457776363\n",
      "  (210310, 65182)\t0.30151134457776363\n",
      "  (210310, 86209)\t0.30151134457776363\n",
      "  (210310, 269004)\t0.30151134457776363\n",
      "  (210310, 286878)\t0.30151134457776363\n",
      "  (210310, 301217)\t0.30151134457776363\n",
      "  (210310, 312887)\t0.30151134457776363\n",
      "  (210310, 677415)\t0.30151134457776363\n",
      "  (210310, 743295)\t0.30151134457776363\n",
      "  (210310, 781329)\t0.30151134457776363\n",
      "  (210310, 926068)\t0.30151134457776363\n"
     ]
    }
   ],
   "source": [
    "print(X_vect_all)"
   ]
  },
  {
   "cell_type": "code",
   "execution_count": 10,
   "metadata": {},
   "outputs": [
    {
     "data": {
      "text/plain": [
       "['../data/nlp_beer.pk1']"
      ]
     },
     "execution_count": 10,
     "metadata": {},
     "output_type": "execute_result"
    }
   ],
   "source": [
    "# Save using joblib\n",
    "joblib.dump(X_vect_all, '../data/nlp_beer.pk1', compress =1)"
   ]
  },
  {
   "cell_type": "code",
   "execution_count": 44,
   "metadata": {},
   "outputs": [],
   "source": [
    "# cv = make_pipeline(\n",
    "#     CountVectorizer(\n",
    "#             ngram_range=(3, 7),\n",
    "#             analyzer=\"char\"\n",
    "#         ),\n",
    "#     Normalizer()\n",
    "# )\n",
    "# cv.fit(X_sparse)\n",
    "# X = cv.transform(X_sparse)"
   ]
  },
  {
   "cell_type": "code",
   "execution_count": 33,
   "metadata": {},
   "outputs": [],
   "source": [
    "# Use cosine similarity to compare every beer to each other\n",
    "# def search(term):\n",
    "#     X_term = cv.transform([term])\n",
    "#     simularities = cosine_similarity(X_term, X)\n",
    "#     idxmax = np.argmax(simularities[0])\n",
    "#     return df.loc[idxmax]"
   ]
  },
  {
   "cell_type": "code",
   "execution_count": 34,
   "metadata": {},
   "outputs": [],
   "source": [
    "# if __name__ == \"__main__\":\n",
    "#     term = \"pine needles\"\n",
    "#     print(search(term))"
   ]
  }
 ],
 "metadata": {
  "kernelspec": {
   "display_name": "ALEgorithm",
   "language": "python",
   "name": "alegorithm"
  },
  "language_info": {
   "codemirror_mode": {
    "name": "ipython",
    "version": 3
   },
   "file_extension": ".py",
   "mimetype": "text/x-python",
   "name": "python",
   "nbconvert_exporter": "python",
   "pygments_lexer": "ipython3",
   "version": "3.8.2"
  }
 },
 "nbformat": 4,
 "nbformat_minor": 4
}
